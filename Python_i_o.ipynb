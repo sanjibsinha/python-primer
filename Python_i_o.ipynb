{
  "nbformat": 4,
  "nbformat_minor": 0,
  "metadata": {
    "colab": {
      "provenance": [],
      "collapsed_sections": [],
      "authorship_tag": "ABX9TyMkT1pBfpO8By8QVeSPMcsh",
      "include_colab_link": true
    },
    "kernelspec": {
      "name": "python3",
      "display_name": "Python 3"
    },
    "language_info": {
      "name": "python"
    }
  },
  "cells": [
    {
      "cell_type": "markdown",
      "metadata": {
        "id": "view-in-github",
        "colab_type": "text"
      },
      "source": [
        "<a href=\"https://colab.research.google.com/github/sanjibsinha/python-primer/blob/type/Python_i_o.ipynb\" target=\"_parent\"><img src=\"https://colab.research.google.com/assets/colab-badge.svg\" alt=\"Open In Colab\"/></a>"
      ]
    },
    {
      "cell_type": "code",
      "execution_count": null,
      "metadata": {
        "colab": {
          "base_uri": "https://localhost:8080/"
        },
        "id": "YmfSJzSr_ex4",
        "outputId": "d9bfce87-94f2-46ae-c5df-ba46a5ed41a4"
      },
      "outputs": [
        {
          "output_type": "stream",
          "name": "stdout",
          "text": [
            "The name is John\n"
          ]
        }
      ],
      "source": [
        "name = 'John'\n",
        "print('The name is', name)"
      ]
    },
    {
      "cell_type": "code",
      "source": [
        "print(f'The name is {name}')"
      ],
      "metadata": {
        "colab": {
          "base_uri": "https://localhost:8080/"
        },
        "id": "IqJevJfPAW0U",
        "outputId": "e310533c-f107-42dd-fd76-a25f650f78c0"
      },
      "execution_count": null,
      "outputs": [
        {
          "output_type": "stream",
          "name": "stdout",
          "text": [
            "The name is John\n"
          ]
        }
      ]
    },
    {
      "cell_type": "code",
      "source": [
        "print('The name is {}'.format(name))"
      ],
      "metadata": {
        "colab": {
          "base_uri": "https://localhost:8080/"
        },
        "id": "Ho36uZQHAmuZ",
        "outputId": "491d19ce-2b22-415a-e756-a3e33d57a0d1"
      },
      "execution_count": null,
      "outputs": [
        {
          "output_type": "stream",
          "name": "stdout",
          "text": [
            "The name is John\n"
          ]
        }
      ]
    },
    {
      "cell_type": "code",
      "source": [
        "print('The name is {name} '.format(name = 'Json'))"
      ],
      "metadata": {
        "colab": {
          "base_uri": "https://localhost:8080/"
        },
        "id": "BGA58KDoA-pI",
        "outputId": "c60558ab-7c20-4537-8353-92d65fd9025b"
      },
      "execution_count": null,
      "outputs": [
        {
          "output_type": "stream",
          "name": "stdout",
          "text": [
            "The name is Json \n"
          ]
        }
      ]
    },
    {
      "cell_type": "markdown",
      "source": [],
      "metadata": {
        "id": "gQJUF3ra13a9"
      }
    },
    {
      "cell_type": "code",
      "source": [
        "name = 'John'\n",
        "print('The name is %s' %name) # string"
      ],
      "metadata": {
        "colab": {
          "base_uri": "https://localhost:8080/"
        },
        "id": "wwuQJBnpB59M",
        "outputId": "2f0b32c1-e6be-4637-8597-d59be8fcfa37"
      },
      "execution_count": 7,
      "outputs": [
        {
          "output_type": "stream",
          "name": "stdout",
          "text": [
            "The name is John\n"
          ]
        }
      ]
    },
    {
      "cell_type": "code",
      "source": [
        "a_number = 20364\n",
        "\n",
        "print('The name is %2d' %a_number) # decimal number\n"
      ],
      "metadata": {
        "colab": {
          "base_uri": "https://localhost:8080/"
        },
        "id": "CY1mSgVuCEZp",
        "outputId": "55e771c4-9b43-4c7e-8445-e9fe85224890"
      },
      "execution_count": 2,
      "outputs": [
        {
          "output_type": "stream",
          "name": "stdout",
          "text": [
            "The name is 20364\n"
          ]
        }
      ]
    },
    {
      "cell_type": "code",
      "source": [
        "a_float = 200.36987\n",
        "\n",
        "print('The number is %2.1f' %a_float) # flaoting point number with length value 2.1 f\n",
        "print('The number is %.3f' %a_float) # flaoting point number with length value 2.3 f"
      ],
      "metadata": {
        "colab": {
          "base_uri": "https://localhost:8080/"
        },
        "id": "LXJztXE719l0",
        "outputId": "8be5a30b-630f-4962-b660-af394027811e"
      },
      "execution_count": 14,
      "outputs": [
        {
          "output_type": "stream",
          "name": "stdout",
          "text": [
            "The number is 200.4\n",
            "The number is 200.370\n"
          ]
        }
      ]
    },
    {
      "cell_type": "code",
      "source": [
        "import math\n",
        "\n",
        "print(math.ceil(20.1))"
      ],
      "metadata": {
        "colab": {
          "base_uri": "https://localhost:8080/"
        },
        "id": "meJDrQRLDioG",
        "outputId": "2cea1bf3-043b-4a15-f4b3-885a11b97a8a"
      },
      "execution_count": null,
      "outputs": [
        {
          "output_type": "stream",
          "name": "stdout",
          "text": [
            "21\n"
          ]
        }
      ]
    }
  ]
}