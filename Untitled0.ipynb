{
  "nbformat": 4,
  "nbformat_minor": 0,
  "metadata": {
    "colab": {
      "provenance": [],
      "authorship_tag": "ABX9TyPH/UQJa+hTVojH3MXn5AWR",
      "include_colab_link": true
    },
    "kernelspec": {
      "name": "python3",
      "display_name": "Python 3"
    },
    "language_info": {
      "name": "python"
    }
  },
  "cells": [
    {
      "cell_type": "markdown",
      "metadata": {
        "id": "view-in-github",
        "colab_type": "text"
      },
      "source": [
        "<a href=\"https://colab.research.google.com/github/sanjibsinha/python-primer/blob/type/Untitled0.ipynb\" target=\"_parent\"><img src=\"https://colab.research.google.com/assets/colab-badge.svg\" alt=\"Open In Colab\"/></a>"
      ]
    },
    {
      "cell_type": "code",
      "execution_count": 2,
      "metadata": {
        "colab": {
          "base_uri": "https://localhost:8080/"
        },
        "id": "YmfSJzSr_ex4",
        "outputId": "d9bfce87-94f2-46ae-c5df-ba46a5ed41a4"
      },
      "outputs": [
        {
          "output_type": "stream",
          "name": "stdout",
          "text": [
            "The name is John\n"
          ]
        }
      ],
      "source": [
        "name = 'John'\n",
        "print('The name is', name)"
      ]
    },
    {
      "cell_type": "code",
      "source": [
        "print(f'The name is {name}')"
      ],
      "metadata": {
        "colab": {
          "base_uri": "https://localhost:8080/"
        },
        "id": "IqJevJfPAW0U",
        "outputId": "e310533c-f107-42dd-fd76-a25f650f78c0"
      },
      "execution_count": 3,
      "outputs": [
        {
          "output_type": "stream",
          "name": "stdout",
          "text": [
            "The name is John\n"
          ]
        }
      ]
    },
    {
      "cell_type": "code",
      "source": [
        "print('The name is {}'.format(name))"
      ],
      "metadata": {
        "colab": {
          "base_uri": "https://localhost:8080/"
        },
        "id": "Ho36uZQHAmuZ",
        "outputId": "491d19ce-2b22-415a-e756-a3e33d57a0d1"
      },
      "execution_count": 4,
      "outputs": [
        {
          "output_type": "stream",
          "name": "stdout",
          "text": [
            "The name is John\n"
          ]
        }
      ]
    },
    {
      "cell_type": "code",
      "source": [
        "print('The name is {name} '.format(name = 'Json'))"
      ],
      "metadata": {
        "colab": {
          "base_uri": "https://localhost:8080/"
        },
        "id": "BGA58KDoA-pI",
        "outputId": "c60558ab-7c20-4537-8353-92d65fd9025b"
      },
      "execution_count": 6,
      "outputs": [
        {
          "output_type": "stream",
          "name": "stdout",
          "text": [
            "The name is Json \n"
          ]
        }
      ]
    }
  ]
}