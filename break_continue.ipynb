{
  "nbformat": 4,
  "nbformat_minor": 0,
  "metadata": {
    "colab": {
      "name": "break-continue.ipynb",
      "provenance": [],
      "collapsed_sections": [],
      "authorship_tag": "ABX9TyPuH2UyPYfMG2naDQRECOLB",
      "include_colab_link": true
    },
    "kernelspec": {
      "name": "python3",
      "display_name": "Python 3"
    },
    "language_info": {
      "name": "python"
    }
  },
  "cells": [
    {
      "cell_type": "markdown",
      "metadata": {
        "id": "view-in-github",
        "colab_type": "text"
      },
      "source": [
        "<a href=\"https://colab.research.google.com/github/sanjibsinha/python-primer/blob/type/break_continue.ipynb\" target=\"_parent\"><img src=\"https://colab.research.google.com/assets/colab-badge.svg\" alt=\"Open In Colab\"/></a>"
      ]
    },
    {
      "cell_type": "code",
      "execution_count": 2,
      "metadata": {
        "colab": {
          "base_uri": "https://localhost:8080/"
        },
        "id": "-KnwNt-R8UqR",
        "outputId": "fb535847-df57-487c-e91b-4231b5491044"
      },
      "outputs": [
        {
          "output_type": "stream",
          "name": "stdout",
          "text": [
            "p\n",
            "y\n",
            "t\n",
            "We've found h.\n"
          ]
        }
      ],
      "source": [
        "# Use of break statement inside the if block\n",
        "\n",
        "for str in \"python\":\n",
        "    if str == 'h':\n",
        "      break\n",
        "    print(str)\n",
        "\n",
        "print('We\\'ve found h.')"
      ]
    },
    {
      "cell_type": "code",
      "source": [
        "# Use of continue statement inside the if block\n",
        "\n",
        "for str in \"python\":\n",
        "    if str == 'h':\n",
        "      continue\n",
        "    print(str)\n",
        "\n",
        "print('Although we found h, still we\\'ve continued.')"
      ],
      "metadata": {
        "colab": {
          "base_uri": "https://localhost:8080/"
        },
        "id": "NqBJP8_e9YiX",
        "outputId": "d3005ccc-7e3b-4417-e930-41b0fa9416e2"
      },
      "execution_count": 5,
      "outputs": [
        {
          "output_type": "stream",
          "name": "stdout",
          "text": [
            "p\n",
            "y\n",
            "t\n",
            "o\n",
            "n\n",
            "Although we found h, still we've continued.\n"
          ]
        }
      ]
    },
    {
      "cell_type": "code",
      "source": [
        "# Use of else clasue inside the for loop\n",
        "\n",
        "for n in range(2, 10):\n",
        "  for x in range(2, n):\n",
        "    if n % x == 0:\n",
        "      print(n, 'equals', x, '*', n//x)\n",
        "      break\n",
        "  else:\n",
        "    # loop fell through without finding a factor\n",
        "    print(n, 'is a prime number')"
      ],
      "metadata": {
        "colab": {
          "base_uri": "https://localhost:8080/"
        },
        "id": "o3ijKNKN-Meh",
        "outputId": "1fb8ebbf-38f2-48e9-a36f-b7e9a5265943"
      },
      "execution_count": 9,
      "outputs": [
        {
          "output_type": "stream",
          "name": "stdout",
          "text": [
            "2 is a prime number\n",
            "3 is a prime number\n",
            "4 equals 2 * 2\n",
            "5 is a prime number\n",
            "6 equals 2 * 3\n",
            "7 is a prime number\n",
            "8 equals 2 * 4\n",
            "9 equals 3 * 3\n"
          ]
        }
      ]
    },
    {
      "cell_type": "code",
      "source": [
        "for n in range(2, 50):\n",
        "  for x in range(2, n):\n",
        "    if n % x == 0:\n",
        "      # print(n, 'equals', x, '*', n//x)\n",
        "      break\n",
        "  else:\n",
        "    # loop fell through without finding a factor\n",
        "    print(n, 'is a prime number')"
      ],
      "metadata": {
        "colab": {
          "base_uri": "https://localhost:8080/"
        },
        "id": "dBMfNdSJ_hqi",
        "outputId": "80e38273-16f9-4b76-ff6a-dc08e614cad8"
      },
      "execution_count": 11,
      "outputs": [
        {
          "output_type": "stream",
          "name": "stdout",
          "text": [
            "2 is a prime number\n",
            "3 is a prime number\n",
            "5 is a prime number\n",
            "7 is a prime number\n",
            "11 is a prime number\n",
            "13 is a prime number\n",
            "17 is a prime number\n",
            "19 is a prime number\n",
            "23 is a prime number\n",
            "29 is a prime number\n",
            "31 is a prime number\n",
            "37 is a prime number\n",
            "41 is a prime number\n",
            "43 is a prime number\n",
            "47 is a prime number\n"
          ]
        }
      ]
    },
    {
      "cell_type": "code",
      "source": [
        ""
      ],
      "metadata": {
        "id": "r67kTQvd-9u6"
      },
      "execution_count": null,
      "outputs": []
    }
  ]
}