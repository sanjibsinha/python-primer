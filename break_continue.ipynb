{
  "nbformat": 4,
  "nbformat_minor": 0,
  "metadata": {
    "colab": {
      "name": "break-continue.ipynb",
      "provenance": [],
      "collapsed_sections": [],
      "authorship_tag": "ABX9TyP3b8ASiML+4VHxaWpUwmSV",
      "include_colab_link": true
    },
    "kernelspec": {
      "name": "python3",
      "display_name": "Python 3"
    },
    "language_info": {
      "name": "python"
    }
  },
  "cells": [
    {
      "cell_type": "markdown",
      "metadata": {
        "id": "view-in-github",
        "colab_type": "text"
      },
      "source": [
        "<a href=\"https://colab.research.google.com/github/sanjibsinha/python-primer/blob/type/break_continue.ipynb\" target=\"_parent\"><img src=\"https://colab.research.google.com/assets/colab-badge.svg\" alt=\"Open In Colab\"/></a>"
      ]
    },
    {
      "cell_type": "code",
      "execution_count": 2,
      "metadata": {
        "colab": {
          "base_uri": "https://localhost:8080/"
        },
        "id": "-KnwNt-R8UqR",
        "outputId": "fb535847-df57-487c-e91b-4231b5491044"
      },
      "outputs": [
        {
          "output_type": "stream",
          "name": "stdout",
          "text": [
            "p\n",
            "y\n",
            "t\n",
            "We've found h.\n"
          ]
        }
      ],
      "source": [
        "# Use of break statement inside the if block\n",
        "\n",
        "for str in \"python\":\n",
        "    if str == 'h':\n",
        "      break\n",
        "    print(str)\n",
        "\n",
        "print('We\\'ve found h.')"
      ]
    },
    {
      "cell_type": "code",
      "source": [
        "# Use of continue statement inside the if block\n",
        "\n",
        "for str in \"python\":\n",
        "    if str == 'h':\n",
        "      continue\n",
        "    print(str)\n",
        "\n",
        "print('Although we found h, still we\\'ve continued.')"
      ],
      "metadata": {
        "colab": {
          "base_uri": "https://localhost:8080/"
        },
        "id": "NqBJP8_e9YiX",
        "outputId": "d3005ccc-7e3b-4417-e930-41b0fa9416e2"
      },
      "execution_count": 5,
      "outputs": [
        {
          "output_type": "stream",
          "name": "stdout",
          "text": [
            "p\n",
            "y\n",
            "t\n",
            "o\n",
            "n\n",
            "Although we found h, still we've continued.\n"
          ]
        }
      ]
    },
    {
      "cell_type": "code",
      "source": [
        "# Use of else clasue inside the for loop\n",
        "\n",
        "for n in range(2, 10):\n",
        "  for x in range(2, n):\n",
        "    if n % x == 0:\n",
        "      print(n, 'equals', x, '*', n//x)\n",
        "      break\n",
        "  else:\n",
        "    # loop fell through without finding a factor\n",
        "    print(n, 'is a prime number')"
      ],
      "metadata": {
        "colab": {
          "base_uri": "https://localhost:8080/"
        },
        "id": "o3ijKNKN-Meh",
        "outputId": "4d0fd03a-c9b4-4329-fe5a-6f9c0033f8ae"
      },
      "execution_count": 6,
      "outputs": [
        {
          "output_type": "stream",
          "name": "stdout",
          "text": [
            "2 is a prime number\n",
            "3 is a prime number\n",
            "4 equals 2 * 2\n",
            "5 is a prime number\n",
            "6 equals 2 * 3\n",
            "7 is a prime number\n",
            "8 equals 2 * 4\n",
            "9 equals 3 * 3\n"
          ]
        }
      ]
    }
  ]
}