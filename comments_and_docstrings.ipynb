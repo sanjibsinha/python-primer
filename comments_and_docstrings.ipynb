{
  "nbformat": 4,
  "nbformat_minor": 0,
  "metadata": {
    "colab": {
      "provenance": [],
      "authorship_tag": "ABX9TyMXNZGuEZ1/NbNNU4ZhTt8U",
      "include_colab_link": true
    },
    "kernelspec": {
      "name": "python3",
      "display_name": "Python 3"
    },
    "language_info": {
      "name": "python"
    }
  },
  "cells": [
    {
      "cell_type": "markdown",
      "metadata": {
        "id": "view-in-github",
        "colab_type": "text"
      },
      "source": [
        "<a href=\"https://colab.research.google.com/github/sanjibsinha/python-primer/blob/type/comments_and_docstrings.ipynb\" target=\"_parent\"><img src=\"https://colab.research.google.com/assets/colab-badge.svg\" alt=\"Open In Colab\"/></a>"
      ]
    },
    {
      "cell_type": "code",
      "execution_count": 1,
      "metadata": {
        "id": "VVg32yveDX1M"
      },
      "outputs": [],
      "source": [
        "# single line comment"
      ]
    },
    {
      "cell_type": "code",
      "source": [
        "# a multi line comments\n",
        "# a multi line comments\n",
        "# a multi line comments"
      ],
      "metadata": {
        "id": "iXV6n7iADiEM"
      },
      "execution_count": null,
      "outputs": []
    },
    {
      "cell_type": "code",
      "source": [
        "'''\n",
        "\n",
        "a better multi line comments\n",
        "\n",
        "a better multi line comments\n",
        "\n",
        "a better multi line comments\n",
        "\n",
        "'''"
      ],
      "metadata": {
        "id": "eMMunciwDp3k"
      },
      "execution_count": null,
      "outputs": []
    },
    {
      "cell_type": "code",
      "source": [
        "# we use comments "
      ],
      "metadata": {
        "id": "WEgIB175Dx0X"
      },
      "execution_count": null,
      "outputs": []
    }
  ]
}