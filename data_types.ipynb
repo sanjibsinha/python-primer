{
  "nbformat": 4,
  "nbformat_minor": 0,
  "metadata": {
    "colab": {
      "provenance": [],
      "collapsed_sections": [],
      "authorship_tag": "ABX9TyM8qwbPpdLtkv8h1eXJqw+s",
      "include_colab_link": true
    },
    "kernelspec": {
      "name": "python3",
      "display_name": "Python 3"
    },
    "language_info": {
      "name": "python"
    }
  },
  "cells": [
    {
      "cell_type": "markdown",
      "metadata": {
        "id": "view-in-github",
        "colab_type": "text"
      },
      "source": [
        "<a href=\"https://colab.research.google.com/github/sanjibsinha/python-primer/blob/type/data_types.ipynb\" target=\"_parent\"><img src=\"https://colab.research.google.com/assets/colab-badge.svg\" alt=\"Open In Colab\"/></a>"
      ]
    },
    {
      "cell_type": "code",
      "execution_count": null,
      "metadata": {
        "colab": {
          "base_uri": "https://localhost:8080/"
        },
        "id": "JlzCEIn4dMmD",
        "outputId": "7c9a4c16-d78f-4500-e1a4-db2d90ee8ffd"
      },
      "outputs": [
        {
          "output_type": "stream",
          "name": "stdout",
          "text": [
            "230 is of type <class 'int'>\n",
            "222.0 is of type <class 'float'>\n",
            "895 is an integer? False\n"
          ]
        }
      ],
      "source": [
        "from IPython.core.interactiveshell import Integer\n",
        "a_number = 230\n",
        "print(a_number, \"is of type\", type(a_number))\n",
        "\n",
        "a_number = 222.0\n",
        "print(a_number, \"is of type\", type(a_number))\n",
        "\n",
        "a_number = 895\n",
        "print(a_number, \"is an integer?\", isinstance(895, Integer))"
      ]
    },
    {
      "cell_type": "code",
      "source": [
        "\n",
        "a_string = 'I am a sequence of Unicode characters.'\n",
        "\n",
        "print(a_string, \"is of type\", type(a_string))"
      ],
      "metadata": {
        "id": "A5W2baxzeBHk",
        "colab": {
          "base_uri": "https://localhost:8080/"
        },
        "outputId": "3534e1c6-72f9-4027-8d29-d000fff305d4"
      },
      "execution_count": 4,
      "outputs": [
        {
          "output_type": "stream",
          "name": "stdout",
          "text": [
            "I am a sequence of Unicode characters. is of type <class 'str'>\n"
          ]
        }
      ]
    },
    {
      "cell_type": "code",
      "source": [
        "a_multiline_string = '''I am a multi line\n",
        "string.\n",
        "Each line is \n",
        "a new line.'''\n",
        "\n",
        "print(a_multiline_string)"
      ],
      "metadata": {
        "colab": {
          "base_uri": "https://localhost:8080/"
        },
        "id": "3J3Ip3LNlQxC",
        "outputId": "2f3c07f3-85ea-46f3-90e8-0482cbb1e519"
      },
      "execution_count": 7,
      "outputs": [
        {
          "output_type": "stream",
          "name": "stdout",
          "text": [
            "I am a multi line\n",
            "string.\n",
            "Each line is \n",
            "a new line.\n"
          ]
        }
      ]
    },
    {
      "cell_type": "code",
      "source": [
        "a_list_of_names = ['John', 'Json', 'Cath', 'James', 'Mary']\n",
        "\n",
        "print(a_list_of_names[0])\n",
        "\n",
        "print(a_list_of_names[0 : 2])\n",
        "\n",
        "print(a_list_of_names[2 :])"
      ],
      "metadata": {
        "colab": {
          "base_uri": "https://localhost:8080/"
        },
        "id": "Ygh0f2cnnjTq",
        "outputId": "fd9ac6e1-1967-44a4-c678-02a807c18b98"
      },
      "execution_count": 9,
      "outputs": [
        {
          "output_type": "stream",
          "name": "stdout",
          "text": [
            "John\n",
            "['John', 'Json']\n",
            "['Cath', 'James', 'Mary']\n"
          ]
        }
      ]
    }
  ]
}