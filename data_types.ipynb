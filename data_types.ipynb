{
  "nbformat": 4,
  "nbformat_minor": 0,
  "metadata": {
    "colab": {
      "provenance": [],
      "collapsed_sections": [],
      "authorship_tag": "ABX9TyNIyTNU2TLzmc7/RoQYdwWo",
      "include_colab_link": true
    },
    "kernelspec": {
      "name": "python3",
      "display_name": "Python 3"
    },
    "language_info": {
      "name": "python"
    }
  },
  "cells": [
    {
      "cell_type": "markdown",
      "metadata": {
        "id": "view-in-github",
        "colab_type": "text"
      },
      "source": [
        "<a href=\"https://colab.research.google.com/github/sanjibsinha/python-primer/blob/type/data_types.ipynb\" target=\"_parent\"><img src=\"https://colab.research.google.com/assets/colab-badge.svg\" alt=\"Open In Colab\"/></a>"
      ]
    },
    {
      "cell_type": "code",
      "execution_count": null,
      "metadata": {
        "colab": {
          "base_uri": "https://localhost:8080/"
        },
        "id": "JlzCEIn4dMmD",
        "outputId": "7c9a4c16-d78f-4500-e1a4-db2d90ee8ffd"
      },
      "outputs": [
        {
          "output_type": "stream",
          "name": "stdout",
          "text": [
            "230 is of type <class 'int'>\n",
            "222.0 is of type <class 'float'>\n",
            "895 is an integer? False\n"
          ]
        }
      ],
      "source": [
        "from IPython.core.interactiveshell import Integer\n",
        "a_number = 230\n",
        "print(a_number, \"is of type\", type(a_number))\n",
        "\n",
        "a_number = 222.0\n",
        "print(a_number, \"is of type\", type(a_number))\n",
        "\n",
        "a_number = 895\n",
        "print(a_number, \"is an integer?\", isinstance(895, Integer))"
      ]
    },
    {
      "cell_type": "code",
      "source": [
        "\n",
        "a_string = 'I am a sequence of Unicode characters.'\n",
        "\n",
        "print(a_string, \"is of type\", type(a_string))"
      ],
      "metadata": {
        "id": "A5W2baxzeBHk",
        "colab": {
          "base_uri": "https://localhost:8080/"
        },
        "outputId": "3534e1c6-72f9-4027-8d29-d000fff305d4"
      },
      "execution_count": 4,
      "outputs": [
        {
          "output_type": "stream",
          "name": "stdout",
          "text": [
            "I am a sequence of Unicode characters. is of type <class 'str'>\n"
          ]
        }
      ]
    }
  ]
}