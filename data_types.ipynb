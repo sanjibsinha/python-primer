{
  "nbformat": 4,
  "nbformat_minor": 0,
  "metadata": {
    "colab": {
      "provenance": [],
      "collapsed_sections": [],
      "authorship_tag": "ABX9TyNuC9lnk6nTnZTFxNWhritX",
      "include_colab_link": true
    },
    "kernelspec": {
      "name": "python3",
      "display_name": "Python 3"
    },
    "language_info": {
      "name": "python"
    }
  },
  "cells": [
    {
      "cell_type": "markdown",
      "metadata": {
        "id": "view-in-github",
        "colab_type": "text"
      },
      "source": [
        "<a href=\"https://colab.research.google.com/github/sanjibsinha/python-primer/blob/type/data_types.ipynb\" target=\"_parent\"><img src=\"https://colab.research.google.com/assets/colab-badge.svg\" alt=\"Open In Colab\"/></a>"
      ]
    },
    {
      "cell_type": "code",
      "execution_count": null,
      "metadata": {
        "colab": {
          "base_uri": "https://localhost:8080/"
        },
        "id": "JlzCEIn4dMmD",
        "outputId": "7c9a4c16-d78f-4500-e1a4-db2d90ee8ffd"
      },
      "outputs": [
        {
          "output_type": "stream",
          "name": "stdout",
          "text": [
            "230 is of type <class 'int'>\n",
            "222.0 is of type <class 'float'>\n",
            "895 is an integer? False\n"
          ]
        }
      ],
      "source": [
        "from IPython.core.interactiveshell import Integer\n",
        "a_number = 230\n",
        "print(a_number, \"is of type\", type(a_number))\n",
        "\n",
        "a_number = 222.0\n",
        "print(a_number, \"is of type\", type(a_number))\n",
        "\n",
        "a_number = 895\n",
        "print(a_number, \"is an integer?\", isinstance(895, Integer))"
      ]
    },
    {
      "cell_type": "code",
      "source": [
        "a_number = 89\n",
        "print(a_number, \"is an integer?\", isinstance(895, int))"
      ],
      "metadata": {
        "colab": {
          "base_uri": "https://localhost:8080/"
        },
        "id": "KmW-X8JBXDSF",
        "outputId": "226e59ed-39b3-44a7-add9-b5d59d4b1afd"
      },
      "execution_count": null,
      "outputs": [
        {
          "output_type": "stream",
          "name": "stdout",
          "text": [
            "89 is an integer? True\n"
          ]
        }
      ]
    },
    {
      "cell_type": "code",
      "source": [
        "a_string = 'I am a sequence of Unicode characters.'\n",
        "print(a_string, \"is a string?\", isinstance(895, str))"
      ],
      "metadata": {
        "colab": {
          "base_uri": "https://localhost:8080/"
        },
        "id": "LdZ9zPRMXaZm",
        "outputId": "35650e1e-daf3-4314-ec31-47e6a02d2c5d"
      },
      "execution_count": null,
      "outputs": [
        {
          "output_type": "stream",
          "name": "stdout",
          "text": [
            "I am a sequence of Unicode characters. is a string? False\n"
          ]
        }
      ]
    },
    {
      "cell_type": "code",
      "source": [
        "\n",
        "a_string = 'I am a sequence of Unicode characters.'\n",
        "\n",
        "print(a_string, \"is of type\", type(a_string))"
      ],
      "metadata": {
        "id": "A5W2baxzeBHk",
        "colab": {
          "base_uri": "https://localhost:8080/"
        },
        "outputId": "3534e1c6-72f9-4027-8d29-d000fff305d4"
      },
      "execution_count": null,
      "outputs": [
        {
          "output_type": "stream",
          "name": "stdout",
          "text": [
            "I am a sequence of Unicode characters. is of type <class 'str'>\n"
          ]
        }
      ]
    },
    {
      "cell_type": "code",
      "source": [
        "a_string = 'I am a sequence of Unicode characters.'\n",
        "print(a_string, \"is a string?\", isinstance('I am a sequence of Unicode characters.', str))"
      ],
      "metadata": {
        "colab": {
          "base_uri": "https://localhost:8080/"
        },
        "id": "ffsi1XHZXtIr",
        "outputId": "f57eb33c-9594-4654-9677-d70f4a0a91ee"
      },
      "execution_count": null,
      "outputs": [
        {
          "output_type": "stream",
          "name": "stdout",
          "text": [
            "I am a sequence of Unicode characters. is a string? True\n"
          ]
        }
      ]
    },
    {
      "cell_type": "code",
      "source": [
        "a_multiline_string = '''I am a multi line\n",
        "string.\n",
        "Each line is \n",
        "a new line.'''\n",
        "\n",
        "print(a_multiline_string)"
      ],
      "metadata": {
        "colab": {
          "base_uri": "https://localhost:8080/"
        },
        "id": "3J3Ip3LNlQxC",
        "outputId": "2f3c07f3-85ea-46f3-90e8-0482cbb1e519"
      },
      "execution_count": null,
      "outputs": [
        {
          "output_type": "stream",
          "name": "stdout",
          "text": [
            "I am a multi line\n",
            "string.\n",
            "Each line is \n",
            "a new line.\n"
          ]
        }
      ]
    },
    {
      "cell_type": "code",
      "source": [
        "a_list_of_names = ['John', 'Json', 'Cath', 'James', 'Mary']\n",
        "\n",
        "\n",
        "print(a_list_of_names)\n",
        "\n",
        "print(a_list_of_names[0])\n",
        "\n",
        "print(a_list_of_names[0 : 2])\n",
        "\n",
        "print(a_list_of_names[2 :])\n",
        "\n",
        "a_list_of_names[2] = 'Emma'\n",
        "\n",
        "print(a_list_of_names[2])\n",
        "\n",
        "print(a_list_of_names)\n",
        "\n",
        "print(a_list_of_names, \"is of type\", type(a_list_of_names))\n",
        "\n",
        "print(a_list_of_names, \"is an integer?\", isinstance(a_list_of_names, list))"
      ],
      "metadata": {
        "colab": {
          "base_uri": "https://localhost:8080/"
        },
        "id": "Ygh0f2cnnjTq",
        "outputId": "5ca2937e-ee3d-4f61-919c-0b65aef4eb74"
      },
      "execution_count": 5,
      "outputs": [
        {
          "output_type": "stream",
          "name": "stdout",
          "text": [
            "['John', 'Json', 'Cath', 'James', 'Mary']\n",
            "John\n",
            "['John', 'Json']\n",
            "['Cath', 'James', 'Mary']\n",
            "Emma\n",
            "['John', 'Json', 'Emma', 'James', 'Mary']\n",
            "['John', 'Json', 'Emma', 'James', 'Mary'] is of type <class 'list'>\n",
            "['John', 'Json', 'Emma', 'James', 'Mary'] is an integer? True\n"
          ]
        }
      ]
    },
    {
      "cell_type": "code",
      "source": [
        "a_tuple_of_names = ('John', 'Json', 'Cath', 'James', 'Mary')\n",
        "\n",
        "print(a_tuple_of_names[0 : 2])\n",
        "\n",
        "a_tuple_of_names[0] = 'Json'"
      ],
      "metadata": {
        "colab": {
          "base_uri": "https://localhost:8080/",
          "height": 217
        },
        "id": "XFgAYBOVoYBj",
        "outputId": "bc3ca9e8-62bf-4aa9-ce76-82512a241851"
      },
      "execution_count": null,
      "outputs": [
        {
          "output_type": "stream",
          "name": "stdout",
          "text": [
            "('John', 'Json')\n"
          ]
        },
        {
          "output_type": "error",
          "ename": "TypeError",
          "evalue": "ignored",
          "traceback": [
            "\u001b[0;31m---------------------------------------------------------------------------\u001b[0m",
            "\u001b[0;31mTypeError\u001b[0m                                 Traceback (most recent call last)",
            "\u001b[0;32m<ipython-input-14-f2cc8bbab250>\u001b[0m in \u001b[0;36m<module>\u001b[0;34m\u001b[0m\n\u001b[1;32m      3\u001b[0m \u001b[0mprint\u001b[0m\u001b[0;34m(\u001b[0m\u001b[0ma_tuple_of_names\u001b[0m\u001b[0;34m[\u001b[0m\u001b[0;36m0\u001b[0m \u001b[0;34m:\u001b[0m \u001b[0;36m2\u001b[0m\u001b[0;34m]\u001b[0m\u001b[0;34m)\u001b[0m\u001b[0;34m\u001b[0m\u001b[0;34m\u001b[0m\u001b[0m\n\u001b[1;32m      4\u001b[0m \u001b[0;34m\u001b[0m\u001b[0m\n\u001b[0;32m----> 5\u001b[0;31m \u001b[0ma_tuple_of_names\u001b[0m\u001b[0;34m[\u001b[0m\u001b[0;36m0\u001b[0m\u001b[0;34m]\u001b[0m \u001b[0;34m=\u001b[0m \u001b[0;34m'Json'\u001b[0m\u001b[0;34m\u001b[0m\u001b[0;34m\u001b[0m\u001b[0m\n\u001b[0m",
            "\u001b[0;31mTypeError\u001b[0m: 'tuple' object does not support item assignment"
          ]
        }
      ]
    }
  ]
}