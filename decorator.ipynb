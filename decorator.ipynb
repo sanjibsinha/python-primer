{
  "nbformat": 4,
  "nbformat_minor": 0,
  "metadata": {
    "colab": {
      "provenance": [],
      "collapsed_sections": [],
      "authorship_tag": "ABX9TyPns08GNQQZt01KQp8G64dO",
      "include_colab_link": true
    },
    "kernelspec": {
      "name": "python3",
      "display_name": "Python 3"
    },
    "language_info": {
      "name": "python"
    }
  },
  "cells": [
    {
      "cell_type": "markdown",
      "metadata": {
        "id": "view-in-github",
        "colab_type": "text"
      },
      "source": [
        "<a href=\"https://colab.research.google.com/github/sanjibsinha/python-primer/blob/type/decorator.ipynb\" target=\"_parent\"><img src=\"https://colab.research.google.com/assets/colab-badge.svg\" alt=\"Open In Colab\"/></a>"
      ]
    },
    {
      "cell_type": "code",
      "execution_count": 13,
      "metadata": {
        "colab": {
          "base_uri": "https://localhost:8080/"
        },
        "id": "p25MqFuVgc8r",
        "outputId": "b4f31975-7994-4065-9a9c-98d2834df5a1"
      },
      "outputs": [
        {
          "output_type": "stream",
          "name": "stdout",
          "text": [
            "This is before function gets executed.\n",
            "This is inside the function !!\n",
            "This is after function gets executed.\n",
            "This is before function gets executed.\n",
            "Hi\n",
            "This is after function gets executed.\n",
            "This is before function gets executed.\n",
            "Hello\n",
            "This is after function gets executed.\n",
            "Hey, are you okay?\n"
          ]
        }
      ],
      "source": [
        "import time\n",
        "\n",
        "\n",
        "def let_us_delay_function(function):\n",
        "  time.sleep(2)\n",
        "  def call_first_inner_function():\n",
        "    print(\"This is before function gets executed.\")\n",
        "    function()\n",
        "    print(\"This is after function gets executed.\")\n",
        "  return call_first_inner_function\n",
        "    \n",
        "def use_function_inside():\n",
        "  print(\"This is inside the function !!\")\n",
        "\n",
        "use_function_inside = let_us_delay_function(use_function_inside)\n",
        "\n",
        "use_function_inside()\n",
        "    \n",
        "@let_us_delay_function\n",
        "def say_hi():\n",
        "  print('Hi')\n",
        "\n",
        "@let_us_delay_function        \n",
        "def say_hello():\n",
        "  print('Hello')\n",
        "\n",
        "def greet():\n",
        "  print('Hey, are you okay?')\n",
        "   \n",
        "\n",
        "say_hi()\n",
        "say_hello()\n",
        "greet()\n"
      ]
    }
  ]
}