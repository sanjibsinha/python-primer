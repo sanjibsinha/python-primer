{
  "nbformat": 4,
  "nbformat_minor": 0,
  "metadata": {
    "colab": {
      "provenance": [],
      "collapsed_sections": [],
      "authorship_tag": "ABX9TyNl0LgO/cfYlyBCN2lZDG9M",
      "include_colab_link": true
    },
    "kernelspec": {
      "name": "python3",
      "display_name": "Python 3"
    },
    "language_info": {
      "name": "python"
    }
  },
  "cells": [
    {
      "cell_type": "markdown",
      "metadata": {
        "id": "view-in-github",
        "colab_type": "text"
      },
      "source": [
        "<a href=\"https://colab.research.google.com/github/sanjibsinha/python-primer/blob/type/dictionary_all.ipynb\" target=\"_parent\"><img src=\"https://colab.research.google.com/assets/colab-badge.svg\" alt=\"Open In Colab\"/></a>"
      ]
    },
    {
      "cell_type": "code",
      "execution_count": 1,
      "metadata": {
        "id": "a2zc55ukvit2"
      },
      "outputs": [],
      "source": [
        "'''\n",
        "keys must be of immutable types, that means it should be represented by\n",
        "string, number or tuple with immutable elements and must be unique.\n",
        "'''\n",
        "\n",
        "# empty dictionary\n",
        "dictionary_example = {}\n",
        "\n",
        "# dictionary with integer keys\n",
        "dictionary_example = {1: 'apple', 2: 'ball'}\n",
        "\n",
        "# dictionary with mixed keys\n",
        "dictionary_example = {'name': 'John', 1: [2, 4, 3]}\n",
        "\n",
        "# using dict()\n",
        "dictionary_example = dict({1:'apple', 2:'ball'})\n",
        "\n",
        "# from sequence having each item as a pair\n",
        "dictionary_example = dict([(1,'apple'), (2,'ball')])"
      ]
    }
  ]
}