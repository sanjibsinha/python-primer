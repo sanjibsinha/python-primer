{
  "nbformat": 4,
  "nbformat_minor": 0,
  "metadata": {
    "colab": {
      "provenance": [],
      "collapsed_sections": [],
      "authorship_tag": "ABX9TyPR2N9SYa/QIsxtps4bCw8I",
      "include_colab_link": true
    },
    "kernelspec": {
      "name": "python3",
      "display_name": "Python 3"
    },
    "language_info": {
      "name": "python"
    }
  },
  "cells": [
    {
      "cell_type": "markdown",
      "metadata": {
        "id": "view-in-github",
        "colab_type": "text"
      },
      "source": [
        "<a href=\"https://colab.research.google.com/github/sanjibsinha/python-primer/blob/type/dictionary_all.ipynb\" target=\"_parent\"><img src=\"https://colab.research.google.com/assets/colab-badge.svg\" alt=\"Open In Colab\"/></a>"
      ]
    },
    {
      "cell_type": "code",
      "execution_count": 5,
      "metadata": {
        "colab": {
          "base_uri": "https://localhost:8080/"
        },
        "id": "a2zc55ukvit2",
        "outputId": "23595140-3a4e-4a8a-c2c3-036a1750a47d"
      },
      "outputs": [
        {
          "output_type": "stream",
          "name": "stdout",
          "text": [
            "{}\n",
            "{1: 'Mars', 2: 'Moon'}\n",
            "{'name': 'John', 1: [2, 4, 3]}\n",
            "{1: 'Mars', 2: 'Moon'}\n",
            "{1: 'Mars', 2: 'Moon'}\n"
          ]
        }
      ],
      "source": [
        "'''\n",
        "keys must be of immutable types, that means it should be represented by\n",
        "string, number or tuple with immutable elements and must be unique.\n",
        "'''\n",
        "\n",
        "# an empty dictionary is possible\n",
        "dictionary_example = {}\n",
        "print(dictionary_example)\n",
        "\n",
        "# a dictionary with integer keys\n",
        "dictionary_example = {1: 'Mars', 2: 'Moon'}\n",
        "print(dictionary_example)\n",
        "\n",
        "# a dictionary with mixed keys\n",
        "dictionary_example = {'name': 'John', 1 : [2, 4, 3]}\n",
        "print(dictionary_example)\n",
        "\n",
        "# we can create python dictionary using dict() method\n",
        "dictionary_example = dict({1 :'Mars', 2 :'Moon'})\n",
        "print(dictionary_example)\n",
        "\n",
        "# from sequence having each item as a pair\n",
        "dictionary_example = dict([(1,'Mars'), (2,'Moon')])\n",
        "\n",
        "print(dictionary_example)"
      ]
    },
    {
      "cell_type": "code",
      "source": [
        "print(dictionary_example)"
      ],
      "metadata": {
        "colab": {
          "base_uri": "https://localhost:8080/"
        },
        "id": "q3QCMfWuxtoo",
        "outputId": "eaed5d41-583f-4d30-fd50-4453c82693ab"
      },
      "execution_count": 3,
      "outputs": [
        {
          "output_type": "stream",
          "name": "stdout",
          "text": [
            "{'name': 'Jon', 'age': 33}\n"
          ]
        }
      ]
    },
    {
      "cell_type": "code",
      "source": [
        "# use [] for retrieving elements\n",
        "dictionary_example = {'name': 'Jon', 'age': 33}\n",
        "\n",
        "# Output: John\n",
        "print(dictionary_example['name'])\n",
        "\n",
        "# Output: 33\n",
        "print(dictionary_example.get('age'))\n",
        "\n",
        "# If we try to access keys which doesn't exist, it throws error\n",
        "# Output None\n",
        "print(dictionary_example.get('address'))\n",
        "\n",
        "# KeyError\n",
        "print(dictionary_example['address'])"
      ],
      "metadata": {
        "colab": {
          "base_uri": "https://localhost:8080/",
          "height": 252
        },
        "id": "W_jx9ie-woWJ",
        "outputId": "a509e780-ef4a-433d-d8d6-40b94b4af39f"
      },
      "execution_count": 2,
      "outputs": [
        {
          "output_type": "stream",
          "name": "stdout",
          "text": [
            "Jon\n",
            "33\n",
            "None\n"
          ]
        },
        {
          "output_type": "error",
          "ename": "KeyError",
          "evalue": "ignored",
          "traceback": [
            "\u001b[0;31m---------------------------------------------------------------------------\u001b[0m",
            "\u001b[0;31mKeyError\u001b[0m                                  Traceback (most recent call last)",
            "\u001b[0;32m<ipython-input-2-659be6e7dab3>\u001b[0m in \u001b[0;36m<module>\u001b[0;34m\u001b[0m\n\u001b[1;32m     13\u001b[0m \u001b[0;34m\u001b[0m\u001b[0m\n\u001b[1;32m     14\u001b[0m \u001b[0;31m# KeyError\u001b[0m\u001b[0;34m\u001b[0m\u001b[0;34m\u001b[0m\u001b[0;34m\u001b[0m\u001b[0m\n\u001b[0;32m---> 15\u001b[0;31m \u001b[0mprint\u001b[0m\u001b[0;34m(\u001b[0m\u001b[0mdictionary_example\u001b[0m\u001b[0;34m[\u001b[0m\u001b[0;34m'address'\u001b[0m\u001b[0;34m]\u001b[0m\u001b[0;34m)\u001b[0m\u001b[0;34m\u001b[0m\u001b[0;34m\u001b[0m\u001b[0m\n\u001b[0m",
            "\u001b[0;31mKeyError\u001b[0m: 'address'"
          ]
        }
      ]
    },
    {
      "cell_type": "code",
      "source": [],
      "metadata": {
        "id": "0E9BkMSsxUV4"
      },
      "execution_count": null,
      "outputs": []
    }
  ]
}