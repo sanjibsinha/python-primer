{
  "nbformat": 4,
  "nbformat_minor": 0,
  "metadata": {
    "colab": {
      "provenance": [],
      "collapsed_sections": [],
      "authorship_tag": "ABX9TyPpxDG6+0P0UnfqRuzDN+jB",
      "include_colab_link": true
    },
    "kernelspec": {
      "name": "python3",
      "display_name": "Python 3"
    },
    "language_info": {
      "name": "python"
    }
  },
  "cells": [
    {
      "cell_type": "markdown",
      "metadata": {
        "id": "view-in-github",
        "colab_type": "text"
      },
      "source": [
        "<a href=\"https://colab.research.google.com/github/sanjibsinha/python-primer/blob/type/dictionary_functions.ipynb\" target=\"_parent\"><img src=\"https://colab.research.google.com/assets/colab-badge.svg\" alt=\"Open In Colab\"/></a>"
      ]
    },
    {
      "cell_type": "code",
      "execution_count": null,
      "metadata": {
        "id": "-fLzUjDKIcpK"
      },
      "outputs": [],
      "source": [
        "# How to remove elements from a dictionary\n",
        "\n",
        "# Let's create a dictionary of odd items\n",
        "odd_items = {1: 1, 2: 3, 3: 5, 4: 7, 5: 9}\n",
        "\n",
        "# Let's remove a particular item, returns its value\n",
        "\n",
        "print(odd_items.pop(2))\n",
        "\n",
        "print(odd_items)\n",
        "\n",
        "# remove an arbitrary item, return (key,value)\n",
        "\n",
        "print(odd_items.popitem())\n",
        "\n",
        "print(odd_items)\n",
        "\n",
        "# remove all items\n",
        "odd_items.clear()\n",
        "\n",
        "print(odd_items)\n",
        "\n",
        "# we can alsp delete the dictionary itself\n",
        "del odd_items\n",
        "\n",
        "# If we call a non-existing dictionary, it will throw an error\n",
        "print(odd_items)"
      ]
    }
  ]
}