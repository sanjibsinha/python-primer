{
  "nbformat": 4,
  "nbformat_minor": 0,
  "metadata": {
    "colab": {
      "provenance": [],
      "collapsed_sections": [],
      "authorship_tag": "ABX9TyOLqNEtUkJyuX0HNqFPxW0l",
      "include_colab_link": true
    },
    "kernelspec": {
      "name": "python3",
      "display_name": "Python 3"
    },
    "language_info": {
      "name": "python"
    }
  },
  "cells": [
    {
      "cell_type": "markdown",
      "metadata": {
        "id": "view-in-github",
        "colab_type": "text"
      },
      "source": [
        "<a href=\"https://colab.research.google.com/github/sanjibsinha/python-primer/blob/type/dictionary_functions.ipynb\" target=\"_parent\"><img src=\"https://colab.research.google.com/assets/colab-badge.svg\" alt=\"Open In Colab\"/></a>"
      ]
    },
    {
      "cell_type": "code",
      "execution_count": null,
      "metadata": {
        "colab": {
          "base_uri": "https://localhost:8080/",
          "height": 287
        },
        "id": "-fLzUjDKIcpK",
        "outputId": "50f6cfb9-4218-43e2-9b80-e35fc18d7066"
      },
      "outputs": [
        {
          "output_type": "stream",
          "name": "stdout",
          "text": [
            "3\n",
            "{1: 1, 3: 5, 4: 7, 5: 9}\n",
            "(5, 9)\n",
            "{1: 1, 3: 5, 4: 7}\n",
            "{}\n"
          ]
        },
        {
          "output_type": "error",
          "ename": "NameError",
          "evalue": "ignored",
          "traceback": [
            "\u001b[0;31m---------------------------------------------------------------------------\u001b[0m",
            "\u001b[0;31mNameError\u001b[0m                                 Traceback (most recent call last)",
            "\u001b[0;32m<ipython-input-1-970a9dfc9de7>\u001b[0m in \u001b[0;36m<module>\u001b[0;34m\u001b[0m\n\u001b[1;32m     25\u001b[0m \u001b[0;34m\u001b[0m\u001b[0m\n\u001b[1;32m     26\u001b[0m \u001b[0;31m# If we call a non-existing dictionary, it will throw an error\u001b[0m\u001b[0;34m\u001b[0m\u001b[0;34m\u001b[0m\u001b[0;34m\u001b[0m\u001b[0m\n\u001b[0;32m---> 27\u001b[0;31m \u001b[0mprint\u001b[0m\u001b[0;34m(\u001b[0m\u001b[0modd_items\u001b[0m\u001b[0;34m)\u001b[0m\u001b[0;34m\u001b[0m\u001b[0;34m\u001b[0m\u001b[0m\n\u001b[0m",
            "\u001b[0;31mNameError\u001b[0m: name 'odd_items' is not defined"
          ]
        }
      ],
      "source": [
        "# How to remove elements from a dictionary\n",
        "\n",
        "# Let's create a dictionary of odd items\n",
        "odd_items = {1: 1, 2: 3, 3: 5, 4: 7, 5: 9}\n",
        "\n",
        "# Let's remove a particular item, returns its value\n",
        "\n",
        "print(odd_items.pop(2))\n",
        "\n",
        "print(odd_items)\n",
        "\n",
        "# remove an arbitrary item, return (key,value)\n",
        "\n",
        "print(odd_items.popitem())\n",
        "\n",
        "print(odd_items)\n",
        "\n",
        "# remove all items\n",
        "odd_items.clear()\n",
        "\n",
        "print(odd_items)\n",
        "\n",
        "# we can alsp delete the dictionary itself\n",
        "del odd_items\n",
        "\n",
        "# If we call a non-existing dictionary, it will throw an error\n",
        "print(odd_items)"
      ]
    },
    {
      "cell_type": "code",
      "source": [
        "names = {1: 'John', 2: 'Margaret'}\n",
        "more_names = {3: 'Json', 4: 'Cate'}\n",
        "\n",
        "names.update(more_names)\n",
        "\n",
        "\n",
        "print(names)\n",
        "\n"
      ],
      "metadata": {
        "id": "p3YWUSCSJiC6",
        "colab": {
          "base_uri": "https://localhost:8080/"
        },
        "outputId": "580700bc-b37b-4376-e7fb-b203e2dc6d57"
      },
      "execution_count": 2,
      "outputs": [
        {
          "output_type": "stream",
          "name": "stdout",
          "text": [
            "{1: 'John', 2: 'Margaret', 3: 'Json', 4: 'Cate'}\n"
          ]
        }
      ]
    }
  ]
}