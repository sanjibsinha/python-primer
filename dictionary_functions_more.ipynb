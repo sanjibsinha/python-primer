{
  "nbformat": 4,
  "nbformat_minor": 0,
  "metadata": {
    "colab": {
      "provenance": [],
      "collapsed_sections": [],
      "authorship_tag": "ABX9TyMrH5C+EHarJxzN/chh8ZMx",
      "include_colab_link": true
    },
    "kernelspec": {
      "name": "python3",
      "display_name": "Python 3"
    },
    "language_info": {
      "name": "python"
    }
  },
  "cells": [
    {
      "cell_type": "markdown",
      "metadata": {
        "id": "view-in-github",
        "colab_type": "text"
      },
      "source": [
        "<a href=\"https://colab.research.google.com/github/sanjibsinha/python-primer/blob/type/dictionary_functions_more.ipynb\" target=\"_parent\"><img src=\"https://colab.research.google.com/assets/colab-badge.svg\" alt=\"Open In Colab\"/></a>"
      ]
    },
    {
      "cell_type": "code",
      "execution_count": 4,
      "metadata": {
        "colab": {
          "base_uri": "https://localhost:8080/"
        },
        "id": "SziWIgj5EP6j",
        "outputId": "42180424-783d-40d7-ec4d-629ecaaa72b2"
      },
      "outputs": [
        {
          "output_type": "stream",
          "name": "stdout",
          "text": [
            "Before removing last item, Robot =  {'name': 'Robu', 'age': 12352, 'isIntelligent': True}\n",
            "Return Value =  ('isIntelligent', True)\n",
            "After removing last item, Robot =  {'name': 'Robu', 'age': 12352}\n",
            "After inserting last item, Robot =  {'name': 'Robu', 'age': 12352, 'profession': 'Mathematician'}\n",
            "Return Value =  ('profession', 'Mathematician')\n",
            "After removing last item again, Robot =  {'name': 'Robu', 'age': 12352}\n"
          ]
        }
      ],
      "source": [
        "robot = {'name': 'Robu', 'age': 12352, 'isIntelligent': True}\n",
        "\n",
        "print('Before removing last item, Robot = ', robot)\n",
        "\n",
        "# Since the pair \"'isIntelligent': True\" is inserted at the last, so it will be removed.\n",
        "result = robot.popitem()\n",
        "\n",
        "print('Return Value = ', result)\n",
        "print('After removing last item, Robot = ', robot)\n",
        "\n",
        "# We are inserting a new key-value pair\n",
        "robot['profession'] = 'Mathematician'\n",
        "\n",
        "print('After inserting last item, Robot = ', robot)\n",
        "\n",
        "# now ('profession', 'Plumber') is the latest element\n",
        "result = robot.popitem()\n",
        "\n",
        "print('Return Value = ', result)\n",
        "print('After removing last item again, Robot = ', robot)"
      ]
    },
    {
      "cell_type": "code",
      "source": [
        "# key is in the dictionary\n",
        "\n",
        "robot = {'name': 'Robu', 'age': 4785}\n",
        "\n",
        "age = robot.setdefault('age')\n",
        "print('robot = ', robot)\n",
        "print('Age = ', age)"
      ],
      "metadata": {
        "colab": {
          "base_uri": "https://localhost:8080/"
        },
        "id": "fHRZIKoDGbdj",
        "outputId": "a768ea56-2711-4315-e784-1b40a536661a"
      },
      "execution_count": 6,
      "outputs": [
        {
          "output_type": "stream",
          "name": "stdout",
          "text": [
            "robot =  {'name': 'Robu', 'age': 4785}\n",
            "Age =  4785\n"
          ]
        }
      ]
    },
    {
      "cell_type": "code",
      "source": [
        "# key is not in the dictionary\n",
        "\n",
        "robot = {'name': 'Robu'}\n",
        "\n",
        "# key is not in the dictionary\n",
        "salary = robot.setdefault('salary')\n",
        "print('robot = ', robot)\n",
        "print('salary = ', salary)\n",
        "\n",
        "# key is not in the dictionary\n",
        "# default_value is provided\n",
        "age = robot.setdefault('age', 2563)\n",
        "print('robot = ', robot)\n",
        "print('age = ', age)"
      ],
      "metadata": {
        "colab": {
          "base_uri": "https://localhost:8080/"
        },
        "id": "tbI1n3-kJr6D",
        "outputId": "48b7298e-bf6b-46a9-c2a9-07d279fa3601"
      },
      "execution_count": 8,
      "outputs": [
        {
          "output_type": "stream",
          "name": "stdout",
          "text": [
            "robot =  {'name': 'Robu', 'salary': None}\n",
            "salary =  None\n",
            "robot =  {'name': 'Robu', 'salary': None, 'age': 2563}\n",
            "age =  2563\n"
          ]
        }
      ]
    },
    {
      "cell_type": "code",
      "source": [
        "# random names dictionary\n",
        "names = { 1: 'John', 2: 'Json', 3: 'James' }\n",
        "\n",
        "print(names.values())\n"
      ],
      "metadata": {
        "colab": {
          "base_uri": "https://localhost:8080/"
        },
        "id": "EH4ww8KiLEJE",
        "outputId": "70501ca9-dd5e-47cc-9a65-e8f522b36de0"
      },
      "execution_count": 9,
      "outputs": [
        {
          "output_type": "stream",
          "name": "stdout",
          "text": [
            "dict_values(['John', 'Json', 'James'])\n"
          ]
        }
      ]
    },
    {
      "cell_type": "code",
      "source": [
        "names = { 1: 'John', 2: 'Json', 3: 'James' }\n",
        "all_names = names.values()\n",
        "\n",
        "print('Original names:', all_names)\n",
        "\n",
        "del[names[3]]\n",
        "\n",
        "print('Updated names:', all_names)"
      ],
      "metadata": {
        "colab": {
          "base_uri": "https://localhost:8080/"
        },
        "id": "fKuJw6YVLdGI",
        "outputId": "7ca74704-4ccc-483e-e0b7-d81682b6166f"
      },
      "execution_count": 13,
      "outputs": [
        {
          "output_type": "stream",
          "name": "stdout",
          "text": [
            "Original names: dict_values(['John', 'Json', 'James'])\n",
            "Updated names: dict_values(['John', 'Json'])\n"
          ]
        }
      ]
    }
  ]
}