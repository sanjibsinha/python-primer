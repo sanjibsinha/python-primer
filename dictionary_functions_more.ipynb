{
  "nbformat": 4,
  "nbformat_minor": 0,
  "metadata": {
    "colab": {
      "provenance": [],
      "collapsed_sections": [],
      "authorship_tag": "ABX9TyORSWBZ3Pmary3iXEg4yCoA",
      "include_colab_link": true
    },
    "kernelspec": {
      "name": "python3",
      "display_name": "Python 3"
    },
    "language_info": {
      "name": "python"
    }
  },
  "cells": [
    {
      "cell_type": "markdown",
      "metadata": {
        "id": "view-in-github",
        "colab_type": "text"
      },
      "source": [
        "<a href=\"https://colab.research.google.com/github/sanjibsinha/python-primer/blob/type/dictionary_functions_more.ipynb\" target=\"_parent\"><img src=\"https://colab.research.google.com/assets/colab-badge.svg\" alt=\"Open In Colab\"/></a>"
      ]
    },
    {
      "cell_type": "code",
      "execution_count": 4,
      "metadata": {
        "colab": {
          "base_uri": "https://localhost:8080/"
        },
        "id": "SziWIgj5EP6j",
        "outputId": "42180424-783d-40d7-ec4d-629ecaaa72b2"
      },
      "outputs": [
        {
          "output_type": "stream",
          "name": "stdout",
          "text": [
            "Before removing last item, Robot =  {'name': 'Robu', 'age': 12352, 'isIntelligent': True}\n",
            "Return Value =  ('isIntelligent', True)\n",
            "After removing last item, Robot =  {'name': 'Robu', 'age': 12352}\n",
            "After inserting last item, Robot =  {'name': 'Robu', 'age': 12352, 'profession': 'Mathematician'}\n",
            "Return Value =  ('profession', 'Mathematician')\n",
            "After removing last item again, Robot =  {'name': 'Robu', 'age': 12352}\n"
          ]
        }
      ],
      "source": [
        "robot = {'name': 'Robu', 'age': 12352, 'isIntelligent': True}\n",
        "\n",
        "print('Before removing last item, Robot = ', robot)\n",
        "\n",
        "# Since the pair \"'isIntelligent': True\" is inserted at the last, so it will be removed.\n",
        "result = robot.popitem()\n",
        "\n",
        "print('Return Value = ', result)\n",
        "print('After removing last item, Robot = ', robot)\n",
        "\n",
        "# We are inserting a new key-value pair\n",
        "robot['profession'] = 'Mathematician'\n",
        "\n",
        "print('After inserting last item, Robot = ', robot)\n",
        "\n",
        "# now ('profession', 'Plumber') is the latest element\n",
        "result = robot.popitem()\n",
        "\n",
        "print('Return Value = ', result)\n",
        "print('After removing last item again, Robot = ', robot)"
      ]
    },
    {
      "cell_type": "code",
      "source": [
        "# key is in the dictionary\n",
        "\n",
        "robot = {'name': 'Robu', 'age': 4785}\n",
        "\n",
        "age = robot.setdefault('age')\n",
        "print('robot = ',robot)\n",
        "print('Age = ',age)"
      ],
      "metadata": {
        "colab": {
          "base_uri": "https://localhost:8080/"
        },
        "id": "fHRZIKoDGbdj",
        "outputId": "9ccf059a-6400-449d-becd-66058e4fd64d"
      },
      "execution_count": 5,
      "outputs": [
        {
          "output_type": "stream",
          "name": "stdout",
          "text": [
            "robot =  {'name': 'Robu', 'age': 4785}\n",
            "Age =  4785\n"
          ]
        }
      ]
    }
  ]
}