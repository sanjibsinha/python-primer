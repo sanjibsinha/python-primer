{
  "nbformat": 4,
  "nbformat_minor": 0,
  "metadata": {
    "colab": {
      "provenance": [],
      "collapsed_sections": [],
      "authorship_tag": "ABX9TyOZ180nHdAb/XF2D5o0oeVk",
      "include_colab_link": true
    },
    "kernelspec": {
      "name": "python3",
      "display_name": "Python 3"
    },
    "language_info": {
      "name": "python"
    }
  },
  "cells": [
    {
      "cell_type": "markdown",
      "metadata": {
        "id": "view-in-github",
        "colab_type": "text"
      },
      "source": [
        "<a href=\"https://colab.research.google.com/github/sanjibsinha/python-primer/blob/type/dictionary_more.ipynb\" target=\"_parent\"><img src=\"https://colab.research.google.com/assets/colab-badge.svg\" alt=\"Open In Colab\"/></a>"
      ]
    },
    {
      "cell_type": "code",
      "execution_count": 1,
      "metadata": {
        "colab": {
          "base_uri": "https://localhost:8080/"
        },
        "id": "dX9S0osa6eqy",
        "outputId": "0a56df24-bc38-43e5-b880-8fa22db36fb5"
      },
      "outputs": [
        {
          "output_type": "stream",
          "name": "stdout",
          "text": [
            "Dictionary before clear(): {'lat': '33.8688° S', 'lang': '151.2093° E'}\n",
            "Dictionary after clear(): {}\n"
          ]
        }
      ],
      "source": [
        "lat_and_long = {'lat': '33.8688° S', 'lang': '151.2093° E'}\n",
        "\n",
        "print(\"Dictionary before clear():\", lat_and_long)\n",
        "\n",
        "# removes all the items from the dictionary\n",
        "lat_and_long.clear()\n",
        "\n",
        "print(\"Dictionary after clear():\", lat_and_long)"
      ]
    },
    {
      "cell_type": "code",
      "source": [
        "lat_and_long = {'lat': '33.8688° S', 'lang': '151.2093° E'}\n",
        "lat_and_long_copy = lat_and_long.copy()\n",
        "print(lat_and_long_copy)"
      ],
      "metadata": {
        "colab": {
          "base_uri": "https://localhost:8080/"
        },
        "id": "L7tDG6WQ8Qog",
        "outputId": "83ba491c-886d-4021-af40-0c08eeedeee3"
      },
      "execution_count": 3,
      "outputs": [
        {
          "output_type": "stream",
          "name": "stdout",
          "text": [
            "{'lat': '33.8688° S', 'lang': '151.2093° E'}\n"
          ]
        }
      ]
    },
    {
      "cell_type": "code",
      "source": [
        "only_lat = lat_and_long.get('lat')\n",
        "print(only_lat)"
      ],
      "metadata": {
        "colab": {
          "base_uri": "https://localhost:8080/"
        },
        "id": "ue45Fp3N9MRU",
        "outputId": "5da13e48-49b2-42d5-9533-406cc86f3bd0"
      },
      "execution_count": 4,
      "outputs": [
        {
          "output_type": "stream",
          "name": "stdout",
          "text": [
            "33.8688° S\n"
          ]
        }
      ]
    }
  ]
}