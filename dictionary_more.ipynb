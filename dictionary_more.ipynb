{
  "nbformat": 4,
  "nbformat_minor": 0,
  "metadata": {
    "colab": {
      "provenance": [],
      "collapsed_sections": [],
      "authorship_tag": "ABX9TyOLqfTkp/Mouw0BBi491d3w",
      "include_colab_link": true
    },
    "kernelspec": {
      "name": "python3",
      "display_name": "Python 3"
    },
    "language_info": {
      "name": "python"
    }
  },
  "cells": [
    {
      "cell_type": "markdown",
      "metadata": {
        "id": "view-in-github",
        "colab_type": "text"
      },
      "source": [
        "<a href=\"https://colab.research.google.com/github/sanjibsinha/python-primer/blob/type/dictionary_more.ipynb\" target=\"_parent\"><img src=\"https://colab.research.google.com/assets/colab-badge.svg\" alt=\"Open In Colab\"/></a>"
      ]
    },
    {
      "cell_type": "code",
      "execution_count": 1,
      "metadata": {
        "colab": {
          "base_uri": "https://localhost:8080/"
        },
        "id": "dX9S0osa6eqy",
        "outputId": "0a56df24-bc38-43e5-b880-8fa22db36fb5"
      },
      "outputs": [
        {
          "output_type": "stream",
          "name": "stdout",
          "text": [
            "Dictionary before clear(): {'lat': '33.8688° S', 'lang': '151.2093° E'}\n",
            "Dictionary after clear(): {}\n"
          ]
        }
      ],
      "source": [
        "lat_and_long = {'lat': '33.8688° S', 'lang': '151.2093° E'}\n",
        "\n",
        "print(\"Dictionary before clear():\", lat_and_long)\n",
        "\n",
        "# removes all the items from the dictionary\n",
        "lat_and_long.clear()\n",
        "\n",
        "print(\"Dictionary after clear():\", lat_and_long)"
      ]
    },
    {
      "cell_type": "code",
      "source": [
        "lat_and_long = {'lat': '33.8688° S', 'lang': '151.2093° E'}\n",
        "lat_and_long_copy = lat_and_long.copy()\n",
        "print(lat_and_long_copy)"
      ],
      "metadata": {
        "colab": {
          "base_uri": "https://localhost:8080/"
        },
        "id": "L7tDG6WQ8Qog",
        "outputId": "83ba491c-886d-4021-af40-0c08eeedeee3"
      },
      "execution_count": 3,
      "outputs": [
        {
          "output_type": "stream",
          "name": "stdout",
          "text": [
            "{'lat': '33.8688° S', 'lang': '151.2093° E'}\n"
          ]
        }
      ]
    },
    {
      "cell_type": "code",
      "source": [
        "only_lat = lat_and_long.get('lat')\n",
        "# The method returns the value for the specified key if the key is in the dictionary.\n",
        "print(only_lat)"
      ],
      "metadata": {
        "colab": {
          "base_uri": "https://localhost:8080/"
        },
        "id": "ue45Fp3N9MRU",
        "outputId": "b14ec9ee-eb11-48c7-f06f-c260e2e926ac"
      },
      "execution_count": 7,
      "outputs": [
        {
          "output_type": "stream",
          "name": "stdout",
          "text": [
            "33.8688° S\n"
          ]
        }
      ]
    },
    {
      "cell_type": "code",
      "source": [
        "print(lat_and_long_copy.items())\n",
        "\n",
        "# The method returns a view object that displays a list of dictionary's (key, value) tuple pairs.\n"
      ],
      "metadata": {
        "colab": {
          "base_uri": "https://localhost:8080/"
        },
        "id": "RNVUNFP4-kDF",
        "outputId": "23b7f85f-0907-409f-baab-88cc92a35973"
      },
      "execution_count": 8,
      "outputs": [
        {
          "output_type": "stream",
          "name": "stdout",
          "text": [
            "dict_items([('lat', '33.8688° S'), ('lang', '151.2093° E')])\n"
          ]
        }
      ]
    },
    {
      "cell_type": "code",
      "source": [
        "all_keys = lat_and_long.keys()\n",
        "\n",
        "print(all_keys)\n",
        "\n",
        "# The method extracts the keys of the dictionary and returns the list of keys as a view object."
      ],
      "metadata": {
        "colab": {
          "base_uri": "https://localhost:8080/"
        },
        "id": "7Q1XuCcG_CYs",
        "outputId": "2e5e8dbb-e5be-413d-e77e-3f9b8ec39521"
      },
      "execution_count": 10,
      "outputs": [
        {
          "output_type": "stream",
          "name": "stdout",
          "text": [
            "dict_keys(['lat', 'lang'])\n"
          ]
        }
      ]
    },
    {
      "cell_type": "code",
      "source": [],
      "metadata": {
        "id": "NpI0nTd4-ozL"
      },
      "execution_count": null,
      "outputs": []
    }
  ]
}