{
  "nbformat": 4,
  "nbformat_minor": 0,
  "metadata": {
    "colab": {
      "provenance": [],
      "collapsed_sections": [],
      "authorship_tag": "ABX9TyPyxQz8F08P+uwS1z5w6WKm",
      "include_colab_link": true
    },
    "kernelspec": {
      "name": "python3",
      "display_name": "Python 3"
    },
    "language_info": {
      "name": "python"
    }
  },
  "cells": [
    {
      "cell_type": "markdown",
      "metadata": {
        "id": "view-in-github",
        "colab_type": "text"
      },
      "source": [
        "<a href=\"https://colab.research.google.com/github/sanjibsinha/python-primer/blob/type/docstring.ipynb\" target=\"_parent\"><img src=\"https://colab.research.google.com/assets/colab-badge.svg\" alt=\"Open In Colab\"/></a>"
      ]
    },
    {
      "cell_type": "code",
      "execution_count": null,
      "metadata": {
        "colab": {
          "base_uri": "https://localhost:8080/"
        },
        "id": "IiWJZq3Dp9Zb",
        "outputId": "6820f312-f68b-4d28-e05a-7e1a5bb9ef86"
      },
      "outputs": [
        {
          "output_type": "stream",
          "name": "stdout",
          "text": [
            "Add two numbers and return the addition\n"
          ]
        }
      ],
      "source": [
        "def add(num1, num2):\n",
        "  '''Add two numbers and return the addition'''\n",
        "  return num1 + num2\n",
        "\n",
        "print(add.__doc__)"
      ]
    },
    {
      "cell_type": "code",
      "source": [
        "print(add(10, 20))"
      ],
      "metadata": {
        "colab": {
          "base_uri": "https://localhost:8080/"
        },
        "id": "K0zUIF-qrGnw",
        "outputId": "ec84d047-9b26-40a6-d8c3-8e8071b35aa0"
      },
      "execution_count": null,
      "outputs": [
        {
          "output_type": "stream",
          "name": "stdout",
          "text": [
            "30\n"
          ]
        }
      ]
    },
    {
      "cell_type": "code",
      "source": [
        "import math\n",
        "\n",
        "print(math.__doc__)"
      ],
      "metadata": {
        "colab": {
          "base_uri": "https://localhost:8080/"
        },
        "id": "QRGt_rcFtg6P",
        "outputId": "5274d154-9f7d-41a3-8091-34219bb25e50"
      },
      "execution_count": null,
      "outputs": [
        {
          "output_type": "stream",
          "name": "stdout",
          "text": [
            "This module provides access to the mathematical functions\n",
            "defined by the C standard.\n"
          ]
        }
      ]
    },
    {
      "cell_type": "code",
      "source": [
        "def add_three_numbers(num1, num2, num3):\n",
        "  '''\n",
        "  This function returns the sum of three decimal numbers.\n",
        "\n",
        "  We have two Parameters:\n",
        "  num1 (int): A decimal integer\n",
        "  num2 (int): Another decimal integer\n",
        "  num3 (int): Another decimal integer\n",
        "\n",
        "  What it Returns:\n",
        "  the addition of num1, num2 and num3\n",
        "\n",
        "  '''\n",
        "  \n",
        "  return num1 + num2 + num3\n",
        "\n",
        "print(add_three_numbers.__doc__)"
      ],
      "metadata": {
        "colab": {
          "base_uri": "https://localhost:8080/"
        },
        "id": "6DfVIKqPt4xH",
        "outputId": "47ccd0cc-56c4-41e8-8ac2-01d003dfa5e1"
      },
      "execution_count": null,
      "outputs": [
        {
          "output_type": "stream",
          "name": "stdout",
          "text": [
            "\n",
            "  This function returns the sum of three decimal numbers.\n",
            "\n",
            "  We have two Parameters:\n",
            "  num1 (int): A decimal integer\n",
            "  num2 (int): Another decimal integer\n",
            "  num3 (int): Another decimal integer\n",
            "\n",
            "  What it Returns:\n",
            "  the addition of num1, num2 and num3\n",
            "\n",
            "  \n"
          ]
        }
      ]
    },
    {
      "cell_type": "code",
      "source": [
        "print(add_three_numbers(10, 20, 30))"
      ],
      "metadata": {
        "colab": {
          "base_uri": "https://localhost:8080/"
        },
        "id": "mfi8vhd6vO1e",
        "outputId": "eb66d8f3-8357-4c6c-c316-a66375cbde28"
      },
      "execution_count": null,
      "outputs": [
        {
          "output_type": "stream",
          "name": "stdout",
          "text": [
            "60\n"
          ]
        }
      ]
    },
    {
      "cell_type": "code",
      "source": [
        "print(print.__doc__)"
      ],
      "metadata": {
        "colab": {
          "base_uri": "https://localhost:8080/"
        },
        "id": "ogGDEWsKvzCf",
        "outputId": "00da5683-c044-4c36-bfb6-573bbfca2c21"
      },
      "execution_count": null,
      "outputs": [
        {
          "output_type": "stream",
          "name": "stdout",
          "text": [
            "print(value, ..., sep=' ', end='\\n', file=sys.stdout, flush=False)\n",
            "\n",
            "Prints the values to a stream, or to sys.stdout by default.\n",
            "Optional keyword arguments:\n",
            "file:  a file-like object (stream); defaults to the current sys.stdout.\n",
            "sep:   string inserted between values, default a space.\n",
            "end:   string appended after the last value, default a newline.\n",
            "flush: whether to forcibly flush the stream.\n"
          ]
        }
      ]
    },
    {
      "cell_type": "code",
      "source": [
        "help(add_three_numbers)"
      ],
      "metadata": {
        "colab": {
          "base_uri": "https://localhost:8080/"
        },
        "id": "_b23OkrSwofy",
        "outputId": "32f80e41-0770-4a14-8363-9aef67cbcef5"
      },
      "execution_count": 13,
      "outputs": [
        {
          "output_type": "stream",
          "name": "stdout",
          "text": [
            "Help on function add_three_numbers in module __main__:\n",
            "\n",
            "add_three_numbers(num1, num2, num3)\n",
            "    This function returns the sum of three decimal numbers.\n",
            "    \n",
            "    We have two Parameters:\n",
            "    num1 (int): A decimal integer\n",
            "    num2 (int): Another decimal integer\n",
            "    num3 (int): Another decimal integer\n",
            "    \n",
            "    What it Returns:\n",
            "    the addition of num1, num2 and num3\n",
            "\n"
          ]
        }
      ]
    }
  ]
}