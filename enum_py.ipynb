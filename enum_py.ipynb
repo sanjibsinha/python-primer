{
  "nbformat": 4,
  "nbformat_minor": 0,
  "metadata": {
    "colab": {
      "name": "enum-py.ipynb",
      "provenance": [],
      "authorship_tag": "ABX9TyPlhLLKGnHFaWgDMGfDhiqN",
      "include_colab_link": true
    },
    "kernelspec": {
      "name": "python3",
      "display_name": "Python 3"
    },
    "language_info": {
      "name": "python"
    }
  },
  "cells": [
    {
      "cell_type": "markdown",
      "metadata": {
        "id": "view-in-github",
        "colab_type": "text"
      },
      "source": [
        "<a href=\"https://colab.research.google.com/github/sanjibsinha/python-primer/blob/type/enum_py.ipynb\" target=\"_parent\"><img src=\"https://colab.research.google.com/assets/colab-badge.svg\" alt=\"Open In Colab\"/></a>"
      ]
    },
    {
      "cell_type": "code",
      "execution_count": 9,
      "metadata": {
        "colab": {
          "base_uri": "https://localhost:8080/"
        },
        "id": "Cgav3kX6bT_j",
        "outputId": "3063fd4c-2a3e-434f-8132-ff1b206b3711"
      },
      "outputs": [
        {
          "output_type": "execute_result",
          "data": {
            "text/plain": [
              "<Book.NONFICTION: 2>"
            ]
          },
          "metadata": {},
          "execution_count": 9
        }
      ],
      "source": [
        "from enum import Enum\n",
        "\n",
        "class Book(Enum):\n",
        "  FICTION = 1\n",
        "  NONFICTION = 2\n",
        "\n",
        "Book.FICTION\n",
        "Book.NONFICTION"
      ]
    },
    {
      "cell_type": "code",
      "source": [
        "print(Book.FICTION)"
      ],
      "metadata": {
        "colab": {
          "base_uri": "https://localhost:8080/"
        },
        "id": "tmLKhzIdcs3b",
        "outputId": "9ae4aad3-5550-445c-a363-29921363e282"
      },
      "execution_count": 10,
      "outputs": [
        {
          "output_type": "stream",
          "name": "stdout",
          "text": [
            "Book.FICTION\n"
          ]
        }
      ]
    },
    {
      "cell_type": "code",
      "source": [
        "print(Book.NONFICTION)"
      ],
      "metadata": {
        "colab": {
          "base_uri": "https://localhost:8080/"
        },
        "id": "SiQFbQhWcx2V",
        "outputId": "412aab36-f979-457d-db25-9882de723939"
      },
      "execution_count": 11,
      "outputs": [
        {
          "output_type": "stream",
          "name": "stdout",
          "text": [
            "Book.NONFICTION\n"
          ]
        }
      ]
    },
    {
      "cell_type": "code",
      "source": [
        "for book in Book:\n",
        "  print(book)"
      ],
      "metadata": {
        "colab": {
          "base_uri": "https://localhost:8080/"
        },
        "id": "QB5n0pyxc3lq",
        "outputId": "6ff477f5-c3d6-405f-9308-941398eeb080"
      },
      "execution_count": 12,
      "outputs": [
        {
          "output_type": "stream",
          "name": "stdout",
          "text": [
            "Book.FICTION\n",
            "Book.NONFICTION\n"
          ]
        }
      ]
    },
    {
      "cell_type": "code",
      "source": [
        ""
      ],
      "metadata": {
        "id": "MnInBJJwd_b8"
      },
      "execution_count": null,
      "outputs": []
    }
  ]
}