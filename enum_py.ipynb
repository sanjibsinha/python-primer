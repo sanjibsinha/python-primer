{
  "nbformat": 4,
  "nbformat_minor": 0,
  "metadata": {
    "colab": {
      "name": "enum-py.ipynb",
      "provenance": [],
      "authorship_tag": "ABX9TyMcxvUwQPC0YFtvOCfbNh/V",
      "include_colab_link": true
    },
    "kernelspec": {
      "name": "python3",
      "display_name": "Python 3"
    },
    "language_info": {
      "name": "python"
    }
  },
  "cells": [
    {
      "cell_type": "markdown",
      "metadata": {
        "id": "view-in-github",
        "colab_type": "text"
      },
      "source": [
        "<a href=\"https://colab.research.google.com/github/sanjibsinha/python-primer/blob/type/enum_py.ipynb\" target=\"_parent\"><img src=\"https://colab.research.google.com/assets/colab-badge.svg\" alt=\"Open In Colab\"/></a>"
      ]
    },
    {
      "cell_type": "code",
      "execution_count": null,
      "metadata": {
        "colab": {
          "base_uri": "https://localhost:8080/"
        },
        "id": "Cgav3kX6bT_j",
        "outputId": "3063fd4c-2a3e-434f-8132-ff1b206b3711"
      },
      "outputs": [
        {
          "output_type": "execute_result",
          "data": {
            "text/plain": [
              "<Book.NONFICTION: 2>"
            ]
          },
          "metadata": {},
          "execution_count": 9
        }
      ],
      "source": [
        "from enum import Enum\n",
        "\n",
        "class Book(Enum):\n",
        "  FICTION = 1\n",
        "  NONFICTION = 2\n",
        "\n",
        "Book.FICTION\n",
        "Book.NONFICTION"
      ]
    },
    {
      "cell_type": "code",
      "source": [
        "print(Book.FICTION)"
      ],
      "metadata": {
        "colab": {
          "base_uri": "https://localhost:8080/"
        },
        "id": "tmLKhzIdcs3b",
        "outputId": "9ae4aad3-5550-445c-a363-29921363e282"
      },
      "execution_count": null,
      "outputs": [
        {
          "output_type": "stream",
          "name": "stdout",
          "text": [
            "Book.FICTION\n"
          ]
        }
      ]
    },
    {
      "cell_type": "code",
      "source": [
        "print(repr(Book.FICTION)) # more information"
      ],
      "metadata": {
        "colab": {
          "base_uri": "https://localhost:8080/"
        },
        "id": "8o-sG5oLf2SX",
        "outputId": "635e60b4-00ad-4b7a-828c-df54a381c2cb"
      },
      "execution_count": 16,
      "outputs": [
        {
          "output_type": "stream",
          "name": "stdout",
          "text": [
            "<Book.FICTION: 1>\n"
          ]
        }
      ]
    },
    {
      "cell_type": "code",
      "source": [
        "print(Book.FICTION.name)"
      ],
      "metadata": {
        "colab": {
          "base_uri": "https://localhost:8080/"
        },
        "id": "x-JWjGfOgAb2",
        "outputId": "3f72155c-cbd5-40e4-cb83-7cf9f8a93477"
      },
      "execution_count": 17,
      "outputs": [
        {
          "output_type": "stream",
          "name": "stdout",
          "text": [
            "FICTION\n"
          ]
        }
      ]
    },
    {
      "cell_type": "code",
      "source": [
        "print(Book.FICTION.value)"
      ],
      "metadata": {
        "colab": {
          "base_uri": "https://localhost:8080/"
        },
        "id": "aZceEzrJgGmN",
        "outputId": "42a9bdf3-144e-4b3f-8b5c-90b0719a9050"
      },
      "execution_count": 18,
      "outputs": [
        {
          "output_type": "stream",
          "name": "stdout",
          "text": [
            "1\n"
          ]
        }
      ]
    },
    {
      "cell_type": "code",
      "source": [
        "type(Book.FICTION)"
      ],
      "metadata": {
        "colab": {
          "base_uri": "https://localhost:8080/"
        },
        "id": "UPIEyF0WgLUh",
        "outputId": "2339b74f-8e05-4e7b-9a18-c30889f05b84"
      },
      "execution_count": 19,
      "outputs": [
        {
          "output_type": "execute_result",
          "data": {
            "text/plain": [
              "<enum 'Book'>"
            ]
          },
          "metadata": {},
          "execution_count": 19
        }
      ]
    },
    {
      "cell_type": "code",
      "source": [
        "isinstance(Book.FICTION, Book)"
      ],
      "metadata": {
        "colab": {
          "base_uri": "https://localhost:8080/"
        },
        "id": "kg3mWZ1zgT9o",
        "outputId": "84a189be-0705-4c37-e1a6-73b5885835e4"
      },
      "execution_count": 20,
      "outputs": [
        {
          "output_type": "execute_result",
          "data": {
            "text/plain": [
              "True"
            ]
          },
          "metadata": {},
          "execution_count": 20
        }
      ]
    },
    {
      "cell_type": "code",
      "source": [
        "print(Book.NONFICTION)"
      ],
      "metadata": {
        "colab": {
          "base_uri": "https://localhost:8080/"
        },
        "id": "SiQFbQhWcx2V",
        "outputId": "412aab36-f979-457d-db25-9882de723939"
      },
      "execution_count": null,
      "outputs": [
        {
          "output_type": "stream",
          "name": "stdout",
          "text": [
            "Book.NONFICTION\n"
          ]
        }
      ]
    },
    {
      "cell_type": "code",
      "source": [
        "for book in Book:\n",
        "  print(book)"
      ],
      "metadata": {
        "colab": {
          "base_uri": "https://localhost:8080/"
        },
        "id": "QB5n0pyxc3lq",
        "outputId": "6ff477f5-c3d6-405f-9308-941398eeb080"
      },
      "execution_count": null,
      "outputs": [
        {
          "output_type": "stream",
          "name": "stdout",
          "text": [
            "Book.FICTION\n",
            "Book.NONFICTION\n"
          ]
        }
      ]
    },
    {
      "cell_type": "code",
      "source": [
        "books = {}"
      ],
      "metadata": {
        "id": "pOsme9kdeSPj"
      },
      "execution_count": null,
      "outputs": []
    },
    {
      "cell_type": "code",
      "source": [
        "books[Book.FICTION] = 'I like Mystery Novels.'\n",
        "books[Book.NONFICTION] = 'I like Mystery Novels.'\n",
        "\n",
        "books == {Book.FICTION : 'I like Mystery Novels.', Book.NONFICTION : 'I like Mystery Novels.'}"
      ],
      "metadata": {
        "colab": {
          "base_uri": "https://localhost:8080/"
        },
        "id": "MnInBJJwd_b8",
        "outputId": "1b6f0f72-f092-4ac5-bc0b-48cac4e2aded"
      },
      "execution_count": null,
      "outputs": [
        {
          "output_type": "execute_result",
          "data": {
            "text/plain": [
              "True"
            ]
          },
          "metadata": {},
          "execution_count": 15
        }
      ]
    }
  ]
}