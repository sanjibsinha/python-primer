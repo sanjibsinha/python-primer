{
  "nbformat": 4,
  "nbformat_minor": 0,
  "metadata": {
    "colab": {
      "name": "enum-py.ipynb",
      "provenance": [],
      "authorship_tag": "ABX9TyNRZBY3u3dDT6yu86amG8R5",
      "include_colab_link": true
    },
    "kernelspec": {
      "name": "python3",
      "display_name": "Python 3"
    },
    "language_info": {
      "name": "python"
    }
  },
  "cells": [
    {
      "cell_type": "markdown",
      "metadata": {
        "id": "view-in-github",
        "colab_type": "text"
      },
      "source": [
        "<a href=\"https://colab.research.google.com/github/sanjibsinha/python-primer/blob/type/enum_py.ipynb\" target=\"_parent\"><img src=\"https://colab.research.google.com/assets/colab-badge.svg\" alt=\"Open In Colab\"/></a>"
      ]
    },
    {
      "cell_type": "code",
      "execution_count": 6,
      "metadata": {
        "colab": {
          "base_uri": "https://localhost:8080/"
        },
        "id": "Cgav3kX6bT_j",
        "outputId": "63160fd4-ffdc-4f5c-fd9b-5d215b0d1bd6"
      },
      "outputs": [
        {
          "output_type": "execute_result",
          "data": {
            "text/plain": [
              "<Color.NONFICTION: 2>"
            ]
          },
          "metadata": {},
          "execution_count": 6
        }
      ],
      "source": [
        "from enum import Enum\n",
        "\n",
        "class Color(Enum):\n",
        "  FICTION = 1\n",
        "  NONFICTION = 2\n",
        "\n",
        "Color.FICTION\n",
        "Color.NONFICTION"
      ]
    }
  ]
}