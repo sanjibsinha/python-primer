{
  "nbformat": 4,
  "nbformat_minor": 0,
  "metadata": {
    "colab": {
      "name": "firs-py-program.ipynb",
      "provenance": [],
      "collapsed_sections": [],
      "authorship_tag": "ABX9TyN9mlk0X0+5ke3xnHREZI6K",
      "include_colab_link": true
    },
    "kernelspec": {
      "name": "python3",
      "display_name": "Python 3"
    },
    "language_info": {
      "name": "python"
    }
  },
  "cells": [
    {
      "cell_type": "markdown",
      "metadata": {
        "id": "view-in-github",
        "colab_type": "text"
      },
      "source": [
        "<a href=\"https://colab.research.google.com/github/sanjibsinha/python-primer/blob/type/firs_py_program.ipynb\" target=\"_parent\"><img src=\"https://colab.research.google.com/assets/colab-badge.svg\" alt=\"Open In Colab\"/></a>"
      ]
    },
    {
      "cell_type": "code",
      "execution_count": null,
      "metadata": {
        "colab": {
          "base_uri": "https://localhost:8080/"
        },
        "id": "OSiH0Dd7z-zl",
        "outputId": "967f0fc6-dc9b-4fd0-fee6-4a85f06b372b"
      },
      "outputs": [
        {
          "output_type": "stream",
          "name": "stdout",
          "text": [
            "0\n",
            "1\n",
            "1\n",
            "2\n",
            "3\n",
            "5\n"
          ]
        }
      ],
      "source": [
        "# the sum of two elements defines the next\n",
        "a, b = 0, 1\n",
        "while a < 7:\n",
        "  print(a)\n",
        "  a, b = b, a + b"
      ]
    },
    {
      "cell_type": "code",
      "source": [
        "# the sum of two elements defines the next\n",
        "a, b = 0, 1\n",
        "while a < 7:\n",
        "  print(a, end=', ')\n",
        "  a, b = b, a + b"
      ],
      "metadata": {
        "colab": {
          "base_uri": "https://localhost:8080/"
        },
        "id": "mvuidVWN1nlU",
        "outputId": "409c96e1-3c0e-4e4f-8187-1e1f9dee3f02"
      },
      "execution_count": 4,
      "outputs": [
        {
          "output_type": "stream",
          "name": "stdout",
          "text": [
            "0, 1, 1, 2, 3, 5, "
          ]
        }
      ]
    },
    {
      "cell_type": "code",
      "source": [
        "i = 45*56\n",
        "print('The resiult:', i)\n",
        "print(f'The resiult: {i}')"
      ],
      "metadata": {
        "colab": {
          "base_uri": "https://localhost:8080/"
        },
        "id": "2sJl-g8w1zl5",
        "outputId": "12327063-ce48-4522-dfa4-6b6f8898dfca"
      },
      "execution_count": 8,
      "outputs": [
        {
          "output_type": "stream",
          "name": "stdout",
          "text": [
            "The resiult: 2520\n",
            "The resiult: 2520\n"
          ]
        }
      ]
    }
  ]
}