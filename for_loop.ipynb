{
  "nbformat": 4,
  "nbformat_minor": 0,
  "metadata": {
    "colab": {
      "provenance": [],
      "authorship_tag": "ABX9TyOzhIwY3MuL2pADe63KygUH",
      "include_colab_link": true
    },
    "kernelspec": {
      "name": "python3",
      "display_name": "Python 3"
    },
    "language_info": {
      "name": "python"
    }
  },
  "cells": [
    {
      "cell_type": "markdown",
      "metadata": {
        "id": "view-in-github",
        "colab_type": "text"
      },
      "source": [
        "<a href=\"https://colab.research.google.com/github/sanjibsinha/python-primer/blob/type/for_loop.ipynb\" target=\"_parent\"><img src=\"https://colab.research.google.com/assets/colab-badge.svg\" alt=\"Open In Colab\"/></a>"
      ]
    },
    {
      "cell_type": "code",
      "execution_count": 1,
      "metadata": {
        "colab": {
          "base_uri": "https://localhost:8080/"
        },
        "id": "2M9QR2hRnzWO",
        "outputId": "e7f18741-4b92-4c56-aba9-8ee5a542f683"
      },
      "outputs": [
        {
          "output_type": "stream",
          "name": "stdout",
          "text": [
            "Name: John\n",
            "Name: Json\n",
            "Name: Emily\n",
            "Name: Catty\n",
            "Name: James\n"
          ]
        }
      ],
      "source": [
        "names = ['John', 'Json', 'Emily', 'Catty', 'James']\n",
        "\n",
        "for name in names:\n",
        "  print(f\"Name: {name}\")"
      ]
    },
    {
      "cell_type": "code",
      "source": [
        "numerical_values = range(10)\n",
        "\n",
        "for numerical_value in numerical_values:\n",
        "  '''\n",
        "  if value equals 4, don't print but continue iteration\n",
        "  '''\n",
        "  if numerical_value == 4:\n",
        "    continue\n",
        "  else:\n",
        "    print(numerical_value, end=' ')"
      ],
      "metadata": {
        "colab": {
          "base_uri": "https://localhost:8080/"
        },
        "id": "kOyoUHMxotgo",
        "outputId": "50f6ffe1-3ade-499c-c283-fb3a48d9d323"
      },
      "execution_count": 5,
      "outputs": [
        {
          "output_type": "stream",
          "name": "stdout",
          "text": [
            "0 1 2 3 5 6 7 8 9 "
          ]
        }
      ]
    },
    {
      "cell_type": "code",
      "source": [
        "numerical_values = range(10)\n",
        "\n",
        "for numerical_value in numerical_values:\n",
        "  '''\n",
        "  if value equals 4, don't print anymore and stop iteration\n",
        "  '''\n",
        "  if numerical_value == 4:\n",
        "    break\n",
        "  else:\n",
        "    print(numerical_value, end=' ')"
      ],
      "metadata": {
        "colab": {
          "base_uri": "https://localhost:8080/"
        },
        "id": "cqSZzEFWsSRK",
        "outputId": "4ec92fe8-bb1c-47a6-fbcf-785ca62f4266"
      },
      "execution_count": 6,
      "outputs": [
        {
          "output_type": "stream",
          "name": "stdout",
          "text": [
            "0 1 2 3 "
          ]
        }
      ]
    },
    {
      "cell_type": "code",
      "source": [
        "numerical_values = range(6)\n",
        "for numerical_value in numerical_values:\n",
        "  print(numerical_value)\n",
        "else:\n",
        "  print('We are out of loop.')"
      ],
      "metadata": {
        "colab": {
          "base_uri": "https://localhost:8080/"
        },
        "id": "khdYl4EEtC-Y",
        "outputId": "841f36bd-d009-4c36-d82c-272706ec2e69"
      },
      "execution_count": 10,
      "outputs": [
        {
          "output_type": "stream",
          "name": "stdout",
          "text": [
            "0\n",
            "1\n",
            "2\n",
            "3\n",
            "4\n",
            "5\n",
            "We are out of loop.\n"
          ]
        }
      ]
    }
  ]
}