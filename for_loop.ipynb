{
  "nbformat": 4,
  "nbformat_minor": 0,
  "metadata": {
    "colab": {
      "provenance": [],
      "authorship_tag": "ABX9TyMzMIbbtkfbfdaDtO3c+P2T",
      "include_colab_link": true
    },
    "kernelspec": {
      "name": "python3",
      "display_name": "Python 3"
    },
    "language_info": {
      "name": "python"
    }
  },
  "cells": [
    {
      "cell_type": "markdown",
      "metadata": {
        "id": "view-in-github",
        "colab_type": "text"
      },
      "source": [
        "<a href=\"https://colab.research.google.com/github/sanjibsinha/python-primer/blob/type/for_loop.ipynb\" target=\"_parent\"><img src=\"https://colab.research.google.com/assets/colab-badge.svg\" alt=\"Open In Colab\"/></a>"
      ]
    },
    {
      "cell_type": "code",
      "execution_count": 1,
      "metadata": {
        "colab": {
          "base_uri": "https://localhost:8080/"
        },
        "id": "2M9QR2hRnzWO",
        "outputId": "e7f18741-4b92-4c56-aba9-8ee5a542f683"
      },
      "outputs": [
        {
          "output_type": "stream",
          "name": "stdout",
          "text": [
            "Name: John\n",
            "Name: Json\n",
            "Name: Emily\n",
            "Name: Catty\n",
            "Name: James\n"
          ]
        }
      ],
      "source": [
        "names = ['John', 'Json', 'Emily', 'Catty', 'James']\n",
        "\n",
        "for name in names:\n",
        "  print(f\"Name: {name}\")"
      ]
    }
  ]
}