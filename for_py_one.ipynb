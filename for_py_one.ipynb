{
  "nbformat": 4,
  "nbformat_minor": 0,
  "metadata": {
    "colab": {
      "name": "for-py-one.ipynb",
      "provenance": [],
      "authorship_tag": "ABX9TyNtBax9rKgZWCMkIlaYAod+",
      "include_colab_link": true
    },
    "kernelspec": {
      "name": "python3",
      "display_name": "Python 3"
    },
    "language_info": {
      "name": "python"
    }
  },
  "cells": [
    {
      "cell_type": "markdown",
      "metadata": {
        "id": "view-in-github",
        "colab_type": "text"
      },
      "source": [
        "<a href=\"https://colab.research.google.com/github/sanjibsinha/python-primer/blob/type/for_py_one.ipynb\" target=\"_parent\"><img src=\"https://colab.research.google.com/assets/colab-badge.svg\" alt=\"Open In Colab\"/></a>"
      ]
    },
    {
      "cell_type": "code",
      "execution_count": 1,
      "metadata": {
        "colab": {
          "base_uri": "https://localhost:8080/"
        },
        "id": "IxSXjG_7iFEh",
        "outputId": "59d71858-6a92-410f-e5f7-ffb6c6f2d217"
      },
      "outputs": [
        {
          "output_type": "stream",
          "name": "stdout",
          "text": [
            "Pat 3\n",
            "Moving 6\n",
            "Humongous 9\n",
            "Confabulate 11\n"
          ]
        }
      ],
      "source": [
        "small_to_big_words = ['Pat', 'Moving', 'Humongous', 'Confabulate']\n",
        "\n",
        "for word in small_to_big_words:\n",
        "  print(word, len(word))"
      ]
    }
  ]
}