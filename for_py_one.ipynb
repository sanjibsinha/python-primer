{
  "nbformat": 4,
  "nbformat_minor": 0,
  "metadata": {
    "colab": {
      "name": "for-py-one.ipynb",
      "provenance": [],
      "authorship_tag": "ABX9TyPpG4kvd3iLLirFDDe8dJ+k",
      "include_colab_link": true
    },
    "kernelspec": {
      "name": "python3",
      "display_name": "Python 3"
    },
    "language_info": {
      "name": "python"
    }
  },
  "cells": [
    {
      "cell_type": "markdown",
      "metadata": {
        "id": "view-in-github",
        "colab_type": "text"
      },
      "source": [
        "<a href=\"https://colab.research.google.com/github/sanjibsinha/python-primer/blob/type/for_py_one.ipynb\" target=\"_parent\"><img src=\"https://colab.research.google.com/assets/colab-badge.svg\" alt=\"Open In Colab\"/></a>"
      ]
    },
    {
      "cell_type": "code",
      "execution_count": 1,
      "metadata": {
        "colab": {
          "base_uri": "https://localhost:8080/"
        },
        "id": "IxSXjG_7iFEh",
        "outputId": "59d71858-6a92-410f-e5f7-ffb6c6f2d217"
      },
      "outputs": [
        {
          "output_type": "stream",
          "name": "stdout",
          "text": [
            "Pat 3\n",
            "Moving 6\n",
            "Humongous 9\n",
            "Confabulate 11\n"
          ]
        }
      ],
      "source": [
        "small_to_big_words = ['Pat', 'Moving', 'Humongous', 'Confabulate']\n",
        "\n",
        "for word in small_to_big_words:\n",
        "  print(word, len(word))"
      ]
    },
    {
      "cell_type": "code",
      "source": [
        "learners = {'John': 'pass', 'Trevis': 'fail', 'Emily': 'pass', 'Json': 'pass', 'Sanjib': 'fail'}\n",
        "\n",
        "for learner in learners:\n",
        "  print('Name of all learners:', learner)\n",
        "\n",
        "print('****************')\n",
        "\n",
        "failed_learners = {}\n",
        "\n",
        "for learner, status in learners.items():\n",
        "  if status == 'fail':\n",
        "    failed_learners[learner] = status\n",
        "\n",
        "print('Name of failed learners:', failed_learners)\n",
        "\n",
        "\n",
        "print('****************')\n",
        "\n",
        "for learner, status in learners.copy().items():\n",
        "  if status == 'fail':\n",
        "    del learners[learner]\n",
        "\n",
        "for passed_learner in learners:\n",
        "  print('Name of passed learners: ', passed_learner)\n",
        "\n",
        "\n",
        "print('****************')\n",
        "\n",
        "passed_learners = {}\n",
        "\n",
        "for learner, status in learners.items():\n",
        "  if status == 'pass':\n",
        "    passed_learners[learner] = status\n",
        "\n",
        "print('Name of passed learners:', passed_learners)\n",
        "\n"
      ],
      "metadata": {
        "colab": {
          "base_uri": "https://localhost:8080/"
        },
        "id": "Wrp2PJLAjP-z",
        "outputId": "fc7146ee-eb02-412d-f669-2046d40cac3e"
      },
      "execution_count": 10,
      "outputs": [
        {
          "output_type": "stream",
          "name": "stdout",
          "text": [
            "Name of all learners: John\n",
            "Name of all learners: Trevis\n",
            "Name of all learners: Emily\n",
            "Name of all learners: Json\n",
            "Name of all learners: Sanjib\n",
            "****************\n",
            "Name of failed learners: {'Trevis': 'fail', 'Sanjib': 'fail'}\n",
            "****************\n",
            "Name of passed learners:  John\n",
            "Name of passed learners:  Emily\n",
            "Name of passed learners:  Json\n",
            "****************\n",
            "Name of passed learners: {'John': 'pass', 'Emily': 'pass', 'Json': 'pass'}\n"
          ]
        }
      ]
    }
  ]
}