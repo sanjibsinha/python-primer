{
  "nbformat": 4,
  "nbformat_minor": 0,
  "metadata": {
    "colab": {
      "name": "function-first-class-object.ipynb",
      "provenance": [],
      "collapsed_sections": [],
      "authorship_tag": "ABX9TyOcGUTDhzcbbZCH8DAx0dvx",
      "include_colab_link": true
    },
    "kernelspec": {
      "name": "python3",
      "display_name": "Python 3"
    },
    "language_info": {
      "name": "python"
    }
  },
  "cells": [
    {
      "cell_type": "markdown",
      "metadata": {
        "id": "view-in-github",
        "colab_type": "text"
      },
      "source": [
        "<a href=\"https://colab.research.google.com/github/sanjibsinha/python-primer/blob/type/function_first_class_object.ipynb\" target=\"_parent\"><img src=\"https://colab.research.google.com/assets/colab-badge.svg\" alt=\"Open In Colab\"/></a>"
      ]
    },
    {
      "cell_type": "code",
      "execution_count": 1,
      "metadata": {
        "id": "6ZFaanQdyKko"
      },
      "outputs": [],
      "source": [
        "def make_sqaure(x):\n",
        "    \"\"\"making sqaure of x.\"\"\"\n",
        "    return x*x\n",
        "\n",
        "def make_cube(x):\n",
        "    \"\"\"making cube of x.\"\"\"\n",
        "    return x*x*x"
      ]
    },
    {
      "cell_type": "code",
      "source": [
        "def make_sqaure(x):\n",
        "    \"\"\"making sqaure of x.\"\"\"    \n",
        "    result = pow(x, 2)\n",
        "    return result\n",
        "\n",
        "make_sqaure(4)"
      ],
      "metadata": {
        "colab": {
          "base_uri": "https://localhost:8080/"
        },
        "id": "xD0-OseF2DvY",
        "outputId": "e95baa6d-cc9d-48f4-b239-14a5c3f66784"
      },
      "execution_count": 10,
      "outputs": [
        {
          "output_type": "execute_result",
          "data": {
            "text/plain": [
              "16"
            ]
          },
          "metadata": {},
          "execution_count": 10
        }
      ]
    },
    {
      "cell_type": "code",
      "source": [
        "create_dictionary_of_function = {\n",
        "    'sqaure' : make_sqaure,\n",
        "    'cube' : make_cube\n",
        "}"
      ],
      "metadata": {
        "id": "nyuunidxzNTM"
      },
      "execution_count": 2,
      "outputs": []
    },
    {
      "cell_type": "code",
      "source": [
        "a_variable = 3\n",
        "\n",
        "make_sqaure(a_variable)\n"
      ],
      "metadata": {
        "colab": {
          "base_uri": "https://localhost:8080/"
        },
        "id": "A2ECk3zrzilE",
        "outputId": "358738de-03b1-4cd4-a164-46ea0c0f7003"
      },
      "execution_count": 4,
      "outputs": [
        {
          "output_type": "execute_result",
          "data": {
            "text/plain": [
              "9"
            ]
          },
          "metadata": {},
          "execution_count": 4
        }
      ]
    },
    {
      "cell_type": "code",
      "source": [
        "make_cube(a_variable)"
      ],
      "metadata": {
        "colab": {
          "base_uri": "https://localhost:8080/"
        },
        "id": "aMoyo9pzzz-8",
        "outputId": "236c7c76-3b68-4498-c249-95a7ab11f484"
      },
      "execution_count": 5,
      "outputs": [
        {
          "output_type": "execute_result",
          "data": {
            "text/plain": [
              "27"
            ]
          },
          "metadata": {},
          "execution_count": 5
        }
      ]
    },
    {
      "cell_type": "code",
      "source": [
        "for func in create_dictionary_of_function:\n",
        "  print(func, create_dictionary_of_function[func](a_variable))"
      ],
      "metadata": {
        "colab": {
          "base_uri": "https://localhost:8080/"
        },
        "id": "bel6Km-Vz1Xc",
        "outputId": "6077fc23-2ed5-4c8b-c6f1-86390cb3a67b"
      },
      "execution_count": 6,
      "outputs": [
        {
          "output_type": "stream",
          "name": "stdout",
          "text": [
            "sqaure 9\n",
            "cube 27\n"
          ]
        }
      ]
    },
    {
      "cell_type": "code",
      "source": [
        "for func in sorted(create_dictionary_of_function):\n",
        "  print(func, create_dictionary_of_function[func](a_variable))"
      ],
      "metadata": {
        "colab": {
          "base_uri": "https://localhost:8080/"
        },
        "id": "4SfL-CHg018m",
        "outputId": "dbefc33c-ad15-4685-b364-b242ee2c66a7"
      },
      "execution_count": 7,
      "outputs": [
        {
          "output_type": "stream",
          "name": "stdout",
          "text": [
            "cube 27\n",
            "sqaure 9\n"
          ]
        }
      ]
    }
  ]
}