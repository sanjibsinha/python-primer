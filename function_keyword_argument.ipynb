{
  "nbformat": 4,
  "nbformat_minor": 0,
  "metadata": {
    "colab": {
      "name": "function-keyword-argument.ipynb",
      "provenance": [],
      "authorship_tag": "ABX9TyMJVguTBXYoSNQehYA47jUR",
      "include_colab_link": true
    },
    "kernelspec": {
      "name": "python3",
      "display_name": "Python 3"
    },
    "language_info": {
      "name": "python"
    }
  },
  "cells": [
    {
      "cell_type": "markdown",
      "metadata": {
        "id": "view-in-github",
        "colab_type": "text"
      },
      "source": [
        "<a href=\"https://colab.research.google.com/github/sanjibsinha/python-primer/blob/type/function_keyword_argument.ipynb\" target=\"_parent\"><img src=\"https://colab.research.google.com/assets/colab-badge.svg\" alt=\"Open In Colab\"/></a>"
      ]
    },
    {
      "cell_type": "code",
      "execution_count": 5,
      "metadata": {
        "id": "QPFOtyNND-Dm"
      },
      "outputs": [],
      "source": [
        "def raise_volume(voltage, state='on', action='need to raise volume', type='Mony electronics'):\n",
        "  print(\"-- This sound box wouldn't\", action, end=' ')\n",
        "  print(\"if you put\", voltage, \"volts through it.\")\n",
        "  print(\"-- Lovely song, the\", type)\n",
        "  print(\"-- It's\", state, \"!\")"
      ]
    },
    {
      "cell_type": "code",
      "source": [
        "raise_volume(1000)                                          # 1 positional argument\n",
        "raise_volume(voltage=1000)                                  # 1 keyword argument\n",
        "raise_volume(voltage=1000000, action='make sound')             # 2 keyword arguments\n",
        "raise_volume(action='make sound', voltage=1000000)             # 2 keyword arguments\n"
      ],
      "metadata": {
        "colab": {
          "base_uri": "https://localhost:8080/"
        },
        "id": "cEliFrlIGJXz",
        "outputId": "2be030e1-c1d6-4666-f8bf-5a86a666f602"
      },
      "execution_count": 8,
      "outputs": [
        {
          "output_type": "stream",
          "name": "stdout",
          "text": [
            "-- This sound box wouldn't need to raise volume if you put 1000 volts through it.\n",
            "-- Lovely song, the Mony electronics\n",
            "-- It's on !\n",
            "-- This sound box wouldn't need to raise volume if you put 1000 volts through it.\n",
            "-- Lovely song, the Mony electronics\n",
            "-- It's on !\n",
            "-- This sound box wouldn't make sound if you put 1000000 volts through it.\n",
            "-- Lovely song, the Mony electronics\n",
            "-- It's on !\n",
            "-- This sound box wouldn't make sound if you put 1000000 volts through it.\n",
            "-- Lovely song, the Mony electronics\n",
            "-- It's on !\n"
          ]
        }
      ]
    },
    {
      "cell_type": "code",
      "source": [
        "def mobile_shop(kind, *arguments, **keywords):\n",
        "  print(\"-- Do you have any\", kind, \"?\")\n",
        "  print(\"-- I'm sorry, we're all out of\", kind)\n",
        "  for arg in arguments:\n",
        "    print(arg)\n",
        "    print(\"-\" * 40)\n",
        "    for kw in keywords:\n",
        "      print(kw, \":\", keywords[kw])"
      ],
      "metadata": {
        "id": "IwkO-xqvKmXC"
      },
      "execution_count": 17,
      "outputs": []
    },
    {
      "cell_type": "code",
      "source": [
        "mobile_shop(\"Smart Phone\", \n",
        "           \"It's out of stock, sir.\", \n",
        "           \"It's really out of stock, sir. We're very very sorry.\",\n",
        "           shopkeeper=\"Mr. Bosemuti Shuyehagi\",\n",
        "           client=\"Haga Mota\",\n",
        "           location='Tokyo',\n",
        "           continent='Asia')"
      ],
      "metadata": {
        "colab": {
          "base_uri": "https://localhost:8080/"
        },
        "id": "LQ7f_CZDKwsi",
        "outputId": "8f1d5a77-e874-436e-e592-63374bae8156"
      },
      "execution_count": 21,
      "outputs": [
        {
          "output_type": "stream",
          "name": "stdout",
          "text": [
            "-- Do you have any Smart Phone ?\n",
            "-- I'm sorry, we're all out of Smart Phone\n",
            "It's out of stock, sir.\n",
            "----------------------------------------\n",
            "shopkeeper : Mr. Bosemuti Shuyehagi\n",
            "client : Haga Mota\n",
            "location : Tokyo\n",
            "continent : Asia\n",
            "It's really out of stock, sir. We're very very sorry.\n",
            "----------------------------------------\n",
            "shopkeeper : Mr. Bosemuti Shuyehagi\n",
            "client : Haga Mota\n",
            "location : Tokyo\n",
            "continent : Asia\n"
          ]
        }
      ]
    }
  ]
}