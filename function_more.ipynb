{
  "nbformat": 4,
  "nbformat_minor": 0,
  "metadata": {
    "colab": {
      "name": "function-more.ipynb",
      "provenance": [],
      "collapsed_sections": [],
      "authorship_tag": "ABX9TyOnQYYcsFqhpIjEnsyAOSIw",
      "include_colab_link": true
    },
    "kernelspec": {
      "name": "python3",
      "display_name": "Python 3"
    },
    "language_info": {
      "name": "python"
    }
  },
  "cells": [
    {
      "cell_type": "markdown",
      "metadata": {
        "id": "view-in-github",
        "colab_type": "text"
      },
      "source": [
        "<a href=\"https://colab.research.google.com/github/sanjibsinha/python-primer/blob/type/function_more.ipynb\" target=\"_parent\"><img src=\"https://colab.research.google.com/assets/colab-badge.svg\" alt=\"Open In Colab\"/></a>"
      ]
    },
    {
      "cell_type": "code",
      "execution_count": 19,
      "metadata": {
        "colab": {
          "base_uri": "https://localhost:8080/"
        },
        "id": "ChNI98C1Wd5Y",
        "outputId": "0b23c5fb-071f-4cad-c389-5a1313b6dce5"
      },
      "outputs": [
        {
          "output_type": "stream",
          "name": "stdout",
          "text": [
            "If you agree, please type y or yes. If not, type n or no.\n",
            "Do you really want to use Cookies?w\n",
            "Please try again!\n",
            "Do you really want to use Cookies?w\n",
            "Please try again!\n",
            "Do you really want to use Cookies?w\n",
            "Please try again!\n",
            "Do you really want to use Cookies?w\n",
            "Please try again!\n",
            "Do you really want to use Cookies?w\n",
            "Invalid user response will be TRUE.\n"
          ]
        },
        {
          "output_type": "execute_result",
          "data": {
            "text/plain": [
              "True"
            ]
          },
          "metadata": {},
          "execution_count": 19
        }
      ],
      "source": [
        "def ask_cokies(prompt, retries=4, reminder='Please try again!'):\n",
        "    while True:\n",
        "      ok = input(prompt)\n",
        "      if ok in ('y', 'yes'):\n",
        "        print('You\\'ve agreed.')\n",
        "        return True\n",
        "      if ok in ('n', 'no'):\n",
        "        print('You\\'ve not agreed.')\n",
        "        return False\n",
        "          \n",
        "      retries = retries - 1\n",
        "      if retries < 0:\n",
        "        print('Invalid user response will be TRUE.')\n",
        "        return True\n",
        "\n",
        "      print(reminder)\n",
        "\n",
        "print('If you agree, please type y or yes. If not, type n or no.')\n",
        "ask_cokies('Do you really want to use Cookies?')"
      ]
    },
    {
      "cell_type": "code",
      "source": [
        "def ask_cokies(prompt, retries=4, reminder='Please try again!'):\n",
        "    while True:\n",
        "      ok = input(prompt)\n",
        "      if ok in ('y', 'yes'):\n",
        "        print('You\\'ve agreed.')\n",
        "        return True\n",
        "      if ok in ('n', 'no'):\n",
        "        print('You\\'ve not agreed.')\n",
        "        return False\n",
        "          \n",
        "      retries = retries - 1\n",
        "      if retries < 0:\n",
        "        print('Invalid user response will be TRUE.')\n",
        "        return True\n",
        "\n",
        "      print(reminder)\n",
        "\n",
        "print('If you agree, please type y or yes. If not, type n or no.')\n",
        "ask_cokies('Do you really want to use Cookies?')"
      ],
      "metadata": {
        "colab": {
          "base_uri": "https://localhost:8080/"
        },
        "id": "Q8Iq6z-xZkU1",
        "outputId": "554618db-c1da-4835-e49f-91e233196f13"
      },
      "execution_count": 17,
      "outputs": [
        {
          "output_type": "stream",
          "name": "stdout",
          "text": [
            "If you agree, please type y or yes. If not, type n or no.\n",
            "Do you really want to use Cookies?y\n",
            "You've agreed.\n"
          ]
        },
        {
          "output_type": "execute_result",
          "data": {
            "text/plain": [
              "True"
            ]
          },
          "metadata": {},
          "execution_count": 17
        }
      ]
    },
    {
      "cell_type": "code",
      "source": [
        "def ask_cokies(prompt, retries=4, reminder='Please try again!'):\n",
        "    while True:\n",
        "      ok = input(prompt)\n",
        "      if ok in ('y', 'yes'):\n",
        "        print('You\\'ve agreed.')\n",
        "        return True\n",
        "      if ok in ('n', 'no'):\n",
        "        print('You\\'ve not agreed.')\n",
        "        return False\n",
        "          \n",
        "      retries = retries - 1\n",
        "      if retries < 0:\n",
        "        print('Invalid user response will be TRUE.')\n",
        "        return True\n",
        "\n",
        "      print(reminder)\n",
        "\n",
        "print('If you agree, please type y or yes. If not, type n or no.')\n",
        "ask_cokies('Do you really want to use Cookies?')"
      ],
      "metadata": {
        "colab": {
          "base_uri": "https://localhost:8080/"
        },
        "id": "g9AxBcYhaq3F",
        "outputId": "db133b5e-be7e-4acf-d5ab-0f41ef902246"
      },
      "execution_count": 18,
      "outputs": [
        {
          "output_type": "stream",
          "name": "stdout",
          "text": [
            "If you agree, please type y or yes. If not, type n or no.\n",
            "Do you really want to use Cookies?n\n",
            "You've not agreed.\n"
          ]
        },
        {
          "output_type": "execute_result",
          "data": {
            "text/plain": [
              "False"
            ]
          },
          "metadata": {},
          "execution_count": 18
        }
      ]
    }
  ]
}