{
  "nbformat": 4,
  "nbformat_minor": 0,
  "metadata": {
    "colab": {
      "name": "function-more.ipynb",
      "provenance": [],
      "collapsed_sections": [],
      "authorship_tag": "ABX9TyP3kWW5R0QSDfIWspYrwGit",
      "include_colab_link": true
    },
    "kernelspec": {
      "name": "python3",
      "display_name": "Python 3"
    },
    "language_info": {
      "name": "python"
    }
  },
  "cells": [
    {
      "cell_type": "markdown",
      "metadata": {
        "id": "view-in-github",
        "colab_type": "text"
      },
      "source": [
        "<a href=\"https://colab.research.google.com/github/sanjibsinha/python-primer/blob/type/function_more.ipynb\" target=\"_parent\"><img src=\"https://colab.research.google.com/assets/colab-badge.svg\" alt=\"Open In Colab\"/></a>"
      ]
    },
    {
      "cell_type": "code",
      "execution_count": null,
      "metadata": {
        "colab": {
          "base_uri": "https://localhost:8080/"
        },
        "id": "ChNI98C1Wd5Y",
        "outputId": "0b23c5fb-071f-4cad-c389-5a1313b6dce5"
      },
      "outputs": [
        {
          "output_type": "stream",
          "name": "stdout",
          "text": [
            "If you agree, please type y or yes. If not, type n or no.\n",
            "Do you really want to use Cookies?w\n",
            "Please try again!\n",
            "Do you really want to use Cookies?w\n",
            "Please try again!\n",
            "Do you really want to use Cookies?w\n",
            "Please try again!\n",
            "Do you really want to use Cookies?w\n",
            "Please try again!\n",
            "Do you really want to use Cookies?w\n",
            "Invalid user response will be TRUE.\n"
          ]
        },
        {
          "output_type": "execute_result",
          "data": {
            "text/plain": [
              "True"
            ]
          },
          "metadata": {},
          "execution_count": 19
        }
      ],
      "source": [
        "def ask_cokies(prompt, retries=4, reminder='Please try again!'):\n",
        "    while True:\n",
        "      ok = input(prompt)\n",
        "      if ok in ('y', 'yes'):\n",
        "        print('You\\'ve agreed.')\n",
        "        return True\n",
        "      if ok in ('n', 'no'):\n",
        "        print('You\\'ve not agreed.')\n",
        "        return False\n",
        "          \n",
        "      retries = retries - 1\n",
        "      if retries < 0:\n",
        "        print('Invalid user response will be TRUE.')\n",
        "        return True\n",
        "\n",
        "      print(reminder)\n",
        "\n",
        "print('If you agree, please type y or yes. If not, type n or no.')\n",
        "ask_cokies('Do you really want to use Cookies?')"
      ]
    },
    {
      "cell_type": "code",
      "source": [
        "def ask_cokies(prompt, retries=4, reminder='Please try again!'):\n",
        "    while True:\n",
        "      ok = input(prompt)\n",
        "      if ok in ('y', 'yes'):\n",
        "        print('You\\'ve agreed.')\n",
        "        return True\n",
        "      if ok in ('n', 'no'):\n",
        "        print('You\\'ve not agreed.')\n",
        "        return False\n",
        "          \n",
        "      retries = retries - 1\n",
        "      if retries < 0:\n",
        "        print('Invalid user response will be TRUE.')\n",
        "        return True\n",
        "\n",
        "      print(reminder)\n",
        "\n",
        "print('If you agree, please type y or yes. If not, type n or no.')\n",
        "ask_cokies('Do you really want to use Cookies?')"
      ],
      "metadata": {
        "colab": {
          "base_uri": "https://localhost:8080/"
        },
        "id": "Q8Iq6z-xZkU1",
        "outputId": "554618db-c1da-4835-e49f-91e233196f13"
      },
      "execution_count": null,
      "outputs": [
        {
          "output_type": "stream",
          "name": "stdout",
          "text": [
            "If you agree, please type y or yes. If not, type n or no.\n",
            "Do you really want to use Cookies?y\n",
            "You've agreed.\n"
          ]
        },
        {
          "output_type": "execute_result",
          "data": {
            "text/plain": [
              "True"
            ]
          },
          "metadata": {},
          "execution_count": 17
        }
      ]
    },
    {
      "cell_type": "code",
      "source": [
        "def ask_cokies(prompt, retries=4, reminder='Please try again!'):\n",
        "    while True:\n",
        "      ok = input(prompt)\n",
        "      if ok in ('y', 'yes'):\n",
        "        print('You\\'ve agreed.')\n",
        "        return True\n",
        "      if ok in ('n', 'no'):\n",
        "        print('You\\'ve not agreed.')\n",
        "        return False\n",
        "          \n",
        "      retries = retries - 1\n",
        "      if retries < 0:\n",
        "        print('Invalid user response will be TRUE.')\n",
        "        return True\n",
        "\n",
        "      print(reminder)\n",
        "\n",
        "print('If you agree, please type y or yes. If not, type n or no.')\n",
        "ask_cokies('Do you really want to use Cookies?')"
      ],
      "metadata": {
        "colab": {
          "base_uri": "https://localhost:8080/"
        },
        "id": "g9AxBcYhaq3F",
        "outputId": "db133b5e-be7e-4acf-d5ab-0f41ef902246"
      },
      "execution_count": null,
      "outputs": [
        {
          "output_type": "stream",
          "name": "stdout",
          "text": [
            "If you agree, please type y or yes. If not, type n or no.\n",
            "Do you really want to use Cookies?n\n",
            "You've not agreed.\n"
          ]
        },
        {
          "output_type": "execute_result",
          "data": {
            "text/plain": [
              "False"
            ]
          },
          "metadata": {},
          "execution_count": 18
        }
      ]
    },
    {
      "cell_type": "code",
      "source": [
        "an_integer = 23\n",
        "\n",
        "def get_default_values(argument=an_integer):\n",
        "    print(argument)\n",
        "\n",
        "an_integer = 6\n",
        "get_default_values()"
      ],
      "metadata": {
        "colab": {
          "base_uri": "https://localhost:8080/"
        },
        "id": "1PE_1Sy_b9KZ",
        "outputId": "0e45aa72-a7ce-4f68-bde7-5c914d7ea34f"
      },
      "execution_count": 20,
      "outputs": [
        {
          "output_type": "stream",
          "name": "stdout",
          "text": [
            "23\n"
          ]
        }
      ]
    },
    {
      "cell_type": "code",
      "source": [
        "an_integer = 23\n",
        "\n",
        "def get_default_values(argument=an_integer):\n",
        "    print(argument)\n",
        "\n",
        "\n",
        "get_default_values()\n",
        "an_integer = 6\n",
        "get_default_values() # you cannot change default values, because integer is immutable"
      ],
      "metadata": {
        "colab": {
          "base_uri": "https://localhost:8080/"
        },
        "id": "rp-MDIvVcfB-",
        "outputId": "ddbcaf8b-ec9c-47ad-8147-3d5b68c93105"
      },
      "execution_count": 21,
      "outputs": [
        {
          "output_type": "stream",
          "name": "stdout",
          "text": [
            "23\n",
            "23\n"
          ]
        }
      ]
    },
    {
      "cell_type": "code",
      "source": [
        "def get_default_values(a, my_list=[]):\n",
        "    my_list.append(a)\n",
        "    return my_list\n",
        "\n",
        "print(get_default_values(10)) # we can change default values, because list is immutable\n",
        "print(get_default_values(20))\n",
        "print(get_default_values(30))"
      ],
      "metadata": {
        "colab": {
          "base_uri": "https://localhost:8080/"
        },
        "id": "47zxUr0vdCx6",
        "outputId": "7709045d-bab1-473b-fd97-91c0fb5721cd"
      },
      "execution_count": 24,
      "outputs": [
        {
          "output_type": "stream",
          "name": "stdout",
          "text": [
            "[10]\n",
            "[10, 20]\n",
            "[10, 20, 30]\n"
          ]
        }
      ]
    }
  ]
}