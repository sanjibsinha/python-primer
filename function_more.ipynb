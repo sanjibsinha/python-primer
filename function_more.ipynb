{
  "nbformat": 4,
  "nbformat_minor": 0,
  "metadata": {
    "colab": {
      "name": "function-more.ipynb",
      "provenance": [],
      "collapsed_sections": [],
      "authorship_tag": "ABX9TyOphvJInOBes8/uR2bp5gru",
      "include_colab_link": true
    },
    "kernelspec": {
      "name": "python3",
      "display_name": "Python 3"
    },
    "language_info": {
      "name": "python"
    }
  },
  "cells": [
    {
      "cell_type": "markdown",
      "metadata": {
        "id": "view-in-github",
        "colab_type": "text"
      },
      "source": [
        "<a href=\"https://colab.research.google.com/github/sanjibsinha/python-primer/blob/type/function_more.ipynb\" target=\"_parent\"><img src=\"https://colab.research.google.com/assets/colab-badge.svg\" alt=\"Open In Colab\"/></a>"
      ]
    },
    {
      "cell_type": "code",
      "execution_count": 12,
      "metadata": {
        "colab": {
          "base_uri": "https://localhost:8080/"
        },
        "id": "ChNI98C1Wd5Y",
        "outputId": "0a663696-fdac-4f98-bc1a-1910d3c2cc34"
      },
      "outputs": [
        {
          "output_type": "stream",
          "name": "stdout",
          "text": [
            "Do you really want to use Cookies?w\n",
            "Please try again!\n",
            "Do you really want to use Cookies?w\n",
            "Please try again!\n",
            "Do you really want to use Cookies?w\n",
            "Please try again!\n",
            "Do you really want to use Cookies?w\n",
            "Please try again!\n",
            "Do you really want to use Cookies?w\n",
            "Invalid user response will be TRUE.\n"
          ]
        },
        {
          "output_type": "execute_result",
          "data": {
            "text/plain": [
              "True"
            ]
          },
          "metadata": {},
          "execution_count": 12
        }
      ],
      "source": [
        "def ask_cokies(prompt, retries=4, reminder='Please try again!'):\n",
        "    while True:\n",
        "      ok = input(prompt)\n",
        "      if ok in ('y', 'ye', 'yes'):\n",
        "        return True\n",
        "      if ok in ('n', 'no', 'nop', 'nope'):\n",
        "          return False\n",
        "      retries = retries - 1\n",
        "      if retries < 0:\n",
        "        #raise ValueError('invalid user response')\n",
        "        print('Invalid user response will be TRUE.')\n",
        "        return True\n",
        "\n",
        "      print(reminder)\n",
        "\n",
        "ask_cokies('Do you really want to use Cookies?')"
      ]
    }
  ]
}