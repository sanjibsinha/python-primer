{
  "nbformat": 4,
  "nbformat_minor": 0,
  "metadata": {
    "colab": {
      "name": "heap-stack-one.ipynb",
      "provenance": [],
      "authorship_tag": "ABX9TyOQQS/wGmLSN9VajOOGc/+V",
      "include_colab_link": true
    },
    "kernelspec": {
      "name": "python3",
      "display_name": "Python 3"
    },
    "language_info": {
      "name": "python"
    }
  },
  "cells": [
    {
      "cell_type": "markdown",
      "metadata": {
        "id": "view-in-github",
        "colab_type": "text"
      },
      "source": [
        "<a href=\"https://colab.research.google.com/github/sanjibsinha/python-primer/blob/type/heap_stack_one.ipynb\" target=\"_parent\"><img src=\"https://colab.research.google.com/assets/colab-badge.svg\" alt=\"Open In Colab\"/></a>"
      ]
    },
    {
      "cell_type": "code",
      "execution_count": 13,
      "metadata": {
        "colab": {
          "base_uri": "https://localhost:8080/"
        },
        "id": "an4651j3LIAd",
        "outputId": "f9aee28c-ab13-46db-c5b7-af0111367dea"
      },
      "outputs": [
        {
          "output_type": "stream",
          "name": "stdout",
          "text": [
            "Output of my class object: <class '__main__.my_class'>\n"
          ]
        }
      ],
      "source": [
        "\n",
        "class my_class:\n",
        "  pass\n",
        "\n",
        "class my_memory:\n",
        "  \n",
        "  def get_output(my_class):\n",
        "    print('Output of my class object:', my_class)\n",
        "\n",
        "y = my_class\n",
        "x = my_memory\n",
        "\n",
        "x.get_output(y)\n"
      ]
    },
    {
      "cell_type": "code",
      "source": [
        "str = input('Enter any text and press enter: ')\n",
        "\n",
        "print('You have typed: ', str)"
      ],
      "metadata": {
        "colab": {
          "base_uri": "https://localhost:8080/"
        },
        "id": "fZFpX-S9OPTD",
        "outputId": "e6bf29d9-cb3e-4768-c7fe-63592d517d1b"
      },
      "execution_count": 17,
      "outputs": [
        {
          "output_type": "stream",
          "name": "stdout",
          "text": [
            "Enter any text and press enter: sanjib\n",
            "You have typed:  sanjib\n"
          ]
        }
      ]
    },
    {
      "cell_type": "code",
      "source": [
        "str = input('Enter any text and press enter: ')\n",
        "\n",
        "print('You have typed: ', str)\n",
        "\n",
        "class my_class:\n",
        "  pass\n",
        "\n",
        "class my_memory:\n",
        "  \n",
        "  def get_output(my_class):\n",
        "    print('Output of my class object:', my_class)\n",
        "\n",
        "y = my_class\n",
        "x = my_memory\n",
        "\n",
        "x.get_output(y)"
      ],
      "metadata": {
        "colab": {
          "base_uri": "https://localhost:8080/"
        },
        "id": "XcQ8miR1PMwr",
        "outputId": "c18fe0fd-1fbe-4599-dc0c-d8fc4d24ade5"
      },
      "execution_count": 18,
      "outputs": [
        {
          "output_type": "stream",
          "name": "stdout",
          "text": [
            "Enter any text and press enter: Sanjib\n",
            "You have typed:  Sanjib\n",
            "Output of my class object: <class '__main__.my_class'>\n"
          ]
        }
      ]
    }
  ]
}