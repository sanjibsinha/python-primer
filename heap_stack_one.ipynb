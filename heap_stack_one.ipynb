{
  "nbformat": 4,
  "nbformat_minor": 0,
  "metadata": {
    "colab": {
      "name": "heap-stack-one.ipynb",
      "provenance": [],
      "authorship_tag": "ABX9TyPLHlfP/RAd3fs8+Ec9tEaQ",
      "include_colab_link": true
    },
    "kernelspec": {
      "name": "python3",
      "display_name": "Python 3"
    },
    "language_info": {
      "name": "python"
    }
  },
  "cells": [
    {
      "cell_type": "markdown",
      "metadata": {
        "id": "view-in-github",
        "colab_type": "text"
      },
      "source": [
        "<a href=\"https://colab.research.google.com/github/sanjibsinha/python-primer/blob/type/heap_stack_one.ipynb\" target=\"_parent\"><img src=\"https://colab.research.google.com/assets/colab-badge.svg\" alt=\"Open In Colab\"/></a>"
      ]
    },
    {
      "cell_type": "code",
      "execution_count": 11,
      "metadata": {
        "colab": {
          "base_uri": "https://localhost:8080/"
        },
        "id": "an4651j3LIAd",
        "outputId": "0c3d9407-7e37-4b06-cf8e-4cbd96c9bc50"
      },
      "outputs": [
        {
          "output_type": "stream",
          "name": "stdout",
          "text": [
            "Output of my class object: <class '__main__.my_class'>\n"
          ]
        }
      ],
      "source": [
        "\n",
        "class my_class:\n",
        "  pass\n",
        "\n",
        "class my_memory:\n",
        "  \n",
        "  def get_output(my_class):\n",
        "    print('Output of my class object:', my_class)\n",
        "\n",
        "y = my_class\n",
        "x = my_memory\n",
        "\n",
        "x.get_output(y)\n",
        "\n",
        "\n",
        "\n",
        "\n",
        "\n"
      ]
    }
  ]
}