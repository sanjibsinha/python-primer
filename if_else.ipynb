{
  "nbformat": 4,
  "nbformat_minor": 0,
  "metadata": {
    "colab": {
      "provenance": [],
      "authorship_tag": "ABX9TyO7kxJBANHEF+Bmy30v0gNG",
      "include_colab_link": true
    },
    "kernelspec": {
      "name": "python3",
      "display_name": "Python 3"
    },
    "language_info": {
      "name": "python"
    }
  },
  "cells": [
    {
      "cell_type": "markdown",
      "metadata": {
        "id": "view-in-github",
        "colab_type": "text"
      },
      "source": [
        "<a href=\"https://colab.research.google.com/github/sanjibsinha/python-primer/blob/type/if_else.ipynb\" target=\"_parent\"><img src=\"https://colab.research.google.com/assets/colab-badge.svg\" alt=\"Open In Colab\"/></a>"
      ]
    },
    {
      "cell_type": "code",
      "execution_count": 10,
      "metadata": {
        "id": "ve2z2WFRFbkb",
        "colab": {
          "base_uri": "https://localhost:8080/"
        },
        "outputId": "1c3d8164-3b34-4bf1-e577-a0147a88c91b"
      },
      "outputs": [
        {
          "output_type": "stream",
          "name": "stdout",
          "text": [
            "The 100 is greater than 99.\n"
          ]
        }
      ],
      "source": [
        "# if the condition is true the code block executes\n",
        "# else the next block executes\n",
        "\n",
        "number = 100\n",
        "check = 99\n",
        "\n",
        "if number > check:\n",
        "  print(f\"The {number} is greater than {check}.\")\n"
      ]
    },
    {
      "cell_type": "code",
      "source": [
        "number = 100\n",
        "check = 199\n",
        "\n",
        "if number > check:\n",
        "  print(f\"The {number} is greater than {check}.\")\n",
        "else: \n",
        "  print(f\"The {number} is less than {check}.\")"
      ],
      "metadata": {
        "colab": {
          "base_uri": "https://localhost:8080/"
        },
        "id": "4V5jjFsJGui2",
        "outputId": "9c5df6b1-e79a-483e-ee35-7348c0976ab5"
      },
      "execution_count": 11,
      "outputs": [
        {
          "output_type": "stream",
          "name": "stdout",
          "text": [
            "The 100 is less than 199.\n"
          ]
        }
      ]
    },
    {
      "cell_type": "code",
      "source": [
        "number = 100\n",
        "check = 100\n",
        "\n",
        "if number > check:\n",
        "  print(f\"The {number} is greater than {check}.\")\n",
        "elif number == check:\n",
        "  print(f\"The {number} is equal to {check}.\")\n",
        "else: \n",
        "  print(f\"The {number} is less than {check}.\")"
      ],
      "metadata": {
        "colab": {
          "base_uri": "https://localhost:8080/"
        },
        "id": "EJKkJmHjHLB-",
        "outputId": "b1eea763-d816-443c-d5c7-b90d48c3bc72"
      },
      "execution_count": 12,
      "outputs": [
        {
          "output_type": "stream",
          "name": "stdout",
          "text": [
            "The 100 is equal to 100.\n"
          ]
        }
      ]
    }
  ]
}