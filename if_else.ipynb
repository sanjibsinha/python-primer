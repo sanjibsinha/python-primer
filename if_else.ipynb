{
  "nbformat": 4,
  "nbformat_minor": 0,
  "metadata": {
    "colab": {
      "provenance": [],
      "authorship_tag": "ABX9TyPJZwYpNTe3r7PJwnSmMhke",
      "include_colab_link": true
    },
    "kernelspec": {
      "name": "python3",
      "display_name": "Python 3"
    },
    "language_info": {
      "name": "python"
    }
  },
  "cells": [
    {
      "cell_type": "markdown",
      "metadata": {
        "id": "view-in-github",
        "colab_type": "text"
      },
      "source": [
        "<a href=\"https://colab.research.google.com/github/sanjibsinha/python-primer/blob/type/if_else.ipynb\" target=\"_parent\"><img src=\"https://colab.research.google.com/assets/colab-badge.svg\" alt=\"Open In Colab\"/></a>"
      ]
    },
    {
      "cell_type": "code",
      "execution_count": 5,
      "metadata": {
        "id": "ve2z2WFRFbkb"
      },
      "outputs": [],
      "source": [
        "# if the condition is true the code block executes\n",
        "# else the next block executes\n",
        "\n",
        "number = 100\n",
        "check = 199\n",
        "\n",
        "if number > check:\n",
        "  print(f\"The {number} is greater than {check}.\")\n"
      ]
    },
    {
      "cell_type": "code",
      "source": [
        "number = 100\n",
        "check = 199\n",
        "\n",
        "if number > check:\n",
        "  print(f\"The {number} is greater than {check}.\")\n",
        "else: \n",
        "  print(f\"The {number} is less than {check}.\")"
      ],
      "metadata": {
        "colab": {
          "base_uri": "https://localhost:8080/"
        },
        "id": "4V5jjFsJGui2",
        "outputId": "78cfe6f1-9c4e-4827-9e8d-6cf9c3630ba5"
      },
      "execution_count": 6,
      "outputs": [
        {
          "output_type": "stream",
          "name": "stdout",
          "text": [
            "The 100 is less than 199.\n"
          ]
        }
      ]
    },
    {
      "cell_type": "code",
      "source": [
        "number = 100\n",
        "check = 100\n",
        "\n",
        "if number > check:\n",
        "  print(f\"The {number} is greater than {check}.\")\n",
        "elif number == check:\n",
        "  print(f\"The {number} is equal to {check}.\")\n",
        "else: \n",
        "  print(f\"The {number} is less than {check}.\")"
      ],
      "metadata": {
        "colab": {
          "base_uri": "https://localhost:8080/"
        },
        "id": "EJKkJmHjHLB-",
        "outputId": "5a3513bf-4d6f-41af-f826-59d5c2349873"
      },
      "execution_count": 7,
      "outputs": [
        {
          "output_type": "stream",
          "name": "stdout",
          "text": [
            "The 100 is equal to 100.\n"
          ]
        }
      ]
    }
  ]
}