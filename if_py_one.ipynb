{
  "nbformat": 4,
  "nbformat_minor": 0,
  "metadata": {
    "colab": {
      "name": "if-py-one.ipynb",
      "provenance": [],
      "authorship_tag": "ABX9TyMDJO/cMQMekxlmzvfmwEcc",
      "include_colab_link": true
    },
    "kernelspec": {
      "name": "python3",
      "display_name": "Python 3"
    },
    "language_info": {
      "name": "python"
    }
  },
  "cells": [
    {
      "cell_type": "markdown",
      "metadata": {
        "id": "view-in-github",
        "colab_type": "text"
      },
      "source": [
        "<a href=\"https://colab.research.google.com/github/sanjibsinha/python-primer/blob/type/if_py_one.ipynb\" target=\"_parent\"><img src=\"https://colab.research.google.com/assets/colab-badge.svg\" alt=\"Open In Colab\"/></a>"
      ]
    },
    {
      "cell_type": "code",
      "execution_count": 1,
      "metadata": {
        "colab": {
          "base_uri": "https://localhost:8080/"
        },
        "id": "SxIsRiupjYoz",
        "outputId": "99b73657-2a30-450e-be4b-eda67fbd4fcf"
      },
      "outputs": [
        {
          "name": "stdout",
          "output_type": "stream",
          "text": [
            "Please enter an integer: 12\n"
          ]
        }
      ],
      "source": [
        "input = int(input(\"Please enter an integer: \"))"
      ]
    },
    {
      "cell_type": "code",
      "source": [
        "if input < 0:\n",
        "   input = 0\n",
        "   print('Negative changed to zero')\n",
        "elif input == 0:\n",
        "  print('Zero')\n",
        "elif input == 1:\n",
        "  print('Single')\n",
        "else:\n",
        "  print(input)"
      ],
      "metadata": {
        "colab": {
          "base_uri": "https://localhost:8080/"
        },
        "id": "JgB37EqmkB0b",
        "outputId": "8eaa67a0-fbf5-4bd1-947a-5b57be2bb05f"
      },
      "execution_count": 3,
      "outputs": [
        {
          "output_type": "stream",
          "name": "stdout",
          "text": [
            "12\n"
          ]
        }
      ]
    },
    {
      "cell_type": "code",
      "source": [
        ""
      ],
      "metadata": {
        "id": "I1zt2IjVkkRf"
      },
      "execution_count": 6,
      "outputs": []
    }
  ]
}