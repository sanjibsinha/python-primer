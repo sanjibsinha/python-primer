{
  "nbformat": 4,
  "nbformat_minor": 0,
  "metadata": {
    "colab": {
      "name": "if-py-two.ipynb",
      "provenance": [],
      "authorship_tag": "ABX9TyOdQs+52xG3HsyytxoHji3t",
      "include_colab_link": true
    },
    "kernelspec": {
      "name": "python3",
      "display_name": "Python 3"
    },
    "language_info": {
      "name": "python"
    }
  },
  "cells": [
    {
      "cell_type": "markdown",
      "metadata": {
        "id": "view-in-github",
        "colab_type": "text"
      },
      "source": [
        "<a href=\"https://colab.research.google.com/github/sanjibsinha/python-primer/blob/type/if_py_two.ipynb\" target=\"_parent\"><img src=\"https://colab.research.google.com/assets/colab-badge.svg\" alt=\"Open In Colab\"/></a>"
      ]
    },
    {
      "cell_type": "code",
      "execution_count": 1,
      "metadata": {
        "colab": {
          "base_uri": "https://localhost:8080/"
        },
        "id": "wyPOUWzzlyZC",
        "outputId": "4fed5706-e7af-4f48-ce34-49fcd88effa4"
      },
      "outputs": [
        {
          "name": "stdout",
          "output_type": "stream",
          "text": [
            "Please enter an integer: -45\n"
          ]
        }
      ],
      "source": [
        "input = int(input(\"Please enter an integer: \"))"
      ]
    },
    {
      "cell_type": "code",
      "source": [
        "if input < 0:\n",
        "   input = 0\n",
        "   print('Negative changed to zero')\n",
        "elif input == 0:\n",
        "  print('Zero')\n",
        "elif input == 1:\n",
        "  print('Single')\n",
        "else:\n",
        "  print(input)"
      ],
      "metadata": {
        "colab": {
          "base_uri": "https://localhost:8080/"
        },
        "id": "1or9pO4ll6ZI",
        "outputId": "db66392f-d6eb-4133-98ac-acd8d250f1b5"
      },
      "execution_count": 2,
      "outputs": [
        {
          "output_type": "stream",
          "name": "stdout",
          "text": [
            "Negative changed to zero\n"
          ]
        }
      ]
    }
  ]
}