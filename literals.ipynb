{
  "nbformat": 4,
  "nbformat_minor": 0,
  "metadata": {
    "colab": {
      "provenance": [],
      "collapsed_sections": [],
      "authorship_tag": "ABX9TyNKGKCX6X9K8buWizJv/BeW",
      "include_colab_link": true
    },
    "kernelspec": {
      "name": "python3",
      "display_name": "Python 3"
    },
    "language_info": {
      "name": "python"
    }
  },
  "cells": [
    {
      "cell_type": "markdown",
      "metadata": {
        "id": "view-in-github",
        "colab_type": "text"
      },
      "source": [
        "<a href=\"https://colab.research.google.com/github/sanjibsinha/python-primer/blob/type/literals.ipynb\" target=\"_parent\"><img src=\"https://colab.research.google.com/assets/colab-badge.svg\" alt=\"Open In Colab\"/></a>"
      ]
    },
    {
      "cell_type": "code",
      "execution_count": 1,
      "metadata": {
        "colab": {
          "base_uri": "https://localhost:8080/"
        },
        "id": "HxgF6_X64da9",
        "outputId": "590d7080-048c-413e-e8f6-82e5d50c4815"
      },
      "outputs": [
        {
          "output_type": "stream",
          "name": "stdout",
          "text": [
            "100\n",
            "2.3\n",
            "I am a string, sequence of characters.\n",
            "None\n"
          ]
        }
      ],
      "source": [
        "numerical_literal = 100 # decimal number\n",
        "\n",
        "float_literal = 2.30\n",
        "\n",
        "string_literal = 'I am a string, sequence of characters.'\n",
        "\n",
        "boolean_literal = True\n",
        "\n",
        "special_literal = None\n",
        "\n",
        "print(numerical_literal)\n",
        "print(float_literal)\n",
        "print(string_literal)\n",
        "print(special_literal)"
      ]
    },
    {
      "cell_type": "code",
      "source": [
        "# four types of literal collections\n",
        "\n",
        "list_literal = ['John', 'Jason', 'James']\n",
        "\n",
        "tuple_literal = ('John', 'Jason', 'James')\n",
        "\n",
        "dictionary_literal = {'Gunner' : 'John', 'Agent' : 'Jason', 'Spy' : 'James'}\n",
        "\n",
        "set_literal = [\"John\", \"Json\", \"James\"]\n",
        "\n"
      ],
      "metadata": {
        "id": "Th1K0zPt6B0x"
      },
      "execution_count": 2,
      "outputs": []
    }
  ]
}