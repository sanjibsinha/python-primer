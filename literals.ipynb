{
  "nbformat": 4,
  "nbformat_minor": 0,
  "metadata": {
    "colab": {
      "provenance": [],
      "authorship_tag": "ABX9TyPlGkk5q8Pd++TLbGZi/UPg",
      "include_colab_link": true
    },
    "kernelspec": {
      "name": "python3",
      "display_name": "Python 3"
    },
    "language_info": {
      "name": "python"
    }
  },
  "cells": [
    {
      "cell_type": "markdown",
      "metadata": {
        "id": "view-in-github",
        "colab_type": "text"
      },
      "source": [
        "<a href=\"https://colab.research.google.com/github/sanjibsinha/python-primer/blob/type/literals.ipynb\" target=\"_parent\"><img src=\"https://colab.research.google.com/assets/colab-badge.svg\" alt=\"Open In Colab\"/></a>"
      ]
    },
    {
      "cell_type": "code",
      "execution_count": null,
      "metadata": {
        "id": "HxgF6_X64da9"
      },
      "outputs": [],
      "source": [
        "numerical_literal = 100 # decimal number\n",
        "\n",
        "float_literal = 2.30\n",
        "\n",
        "string_literal = 'I am a string, sequence of characters.'\n",
        "\n",
        "boolean_literal = True\n",
        "\n",
        "special_literal = None"
      ]
    }
  ]
}