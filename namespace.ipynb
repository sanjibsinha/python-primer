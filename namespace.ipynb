{
  "nbformat": 4,
  "nbformat_minor": 0,
  "metadata": {
    "colab": {
      "provenance": [],
      "authorship_tag": "ABX9TyM9qk84cnUKEyEQ7eMNZNho",
      "include_colab_link": true
    },
    "kernelspec": {
      "name": "python3",
      "display_name": "Python 3"
    },
    "language_info": {
      "name": "python"
    }
  },
  "cells": [
    {
      "cell_type": "markdown",
      "metadata": {
        "id": "view-in-github",
        "colab_type": "text"
      },
      "source": [
        "<a href=\"https://colab.research.google.com/github/sanjibsinha/python-primer/blob/type/namespace.ipynb\" target=\"_parent\"><img src=\"https://colab.research.google.com/assets/colab-badge.svg\" alt=\"Open In Colab\"/></a>"
      ]
    },
    {
      "cell_type": "code",
      "execution_count": 3,
      "metadata": {
        "colab": {
          "base_uri": "https://localhost:8080/"
        },
        "id": "pwO6QyAnEgA5",
        "outputId": "ecb54cae-01c6-4205-8665-f4285373ec26"
      },
      "outputs": [
        {
          "output_type": "stream",
          "name": "stdout",
          "text": [
            "Inside in global namespace: 100\n",
            "Inside in local namespace: 10\n",
            "Inside in global namespace: 100\n",
            "Inside in local namespace: 10\n",
            "Inside in local namespace: 10\n"
          ]
        }
      ],
      "source": [
        "# namespace\n",
        "\n",
        "a_in_global_namespace = 100\n",
        "\n",
        "def display_in_global_namespace():\n",
        "  a_in_local_namespace = 10\n",
        "  print(f\"Inside in global namespace: {a_in_global_namespace}\")\n",
        "  print(f\"Inside in local namespace: {a_in_local_namespace}\")\n",
        "  \n",
        "  def display_in_local_namespace():\n",
        "    a_in_nested_local_namespace = 20\n",
        "    print(f\"Inside in global namespace: {a_in_global_namespace}\")\n",
        "    print(f\"Inside in local namespace: {a_in_local_namespace}\")\n",
        "    print(f\"Inside in local namespace: {a_in_local_namespace}\")\n",
        "\n",
        "  display_in_local_namespace()\n",
        "\n",
        "\n",
        "\n",
        "display_in_global_namespace()\n",
        "\n",
        "\n"
      ]
    }
  ]
}