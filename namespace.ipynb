{
  "nbformat": 4,
  "nbformat_minor": 0,
  "metadata": {
    "colab": {
      "provenance": [],
      "authorship_tag": "ABX9TyO8VNaYjmw6HwZjyaEvlonW",
      "include_colab_link": true
    },
    "kernelspec": {
      "name": "python3",
      "display_name": "Python 3"
    },
    "language_info": {
      "name": "python"
    }
  },
  "cells": [
    {
      "cell_type": "markdown",
      "metadata": {
        "id": "view-in-github",
        "colab_type": "text"
      },
      "source": [
        "<a href=\"https://colab.research.google.com/github/sanjibsinha/python-primer/blob/type/namespace.ipynb\" target=\"_parent\"><img src=\"https://colab.research.google.com/assets/colab-badge.svg\" alt=\"Open In Colab\"/></a>"
      ]
    },
    {
      "cell_type": "code",
      "source": [
        "a = 10\n",
        "\n",
        "def display_a_number():\n",
        "  a = 100\n",
        "  print(f\"Local a : {a}\")\n",
        "\n",
        "print(f\"Global a : {a}\")\n",
        "display_a_number()\n"
      ],
      "metadata": {
        "colab": {
          "base_uri": "https://localhost:8080/"
        },
        "id": "KlJgtODzMsnD",
        "outputId": "6b5ea096-3bb5-482c-dc34-8797fe14866a"
      },
      "execution_count": 9,
      "outputs": [
        {
          "output_type": "stream",
          "name": "stdout",
          "text": [
            "Global a : 10\n",
            "Local a : 100\n"
          ]
        }
      ]
    },
    {
      "cell_type": "code",
      "execution_count": null,
      "metadata": {
        "colab": {
          "base_uri": "https://localhost:8080/"
        },
        "id": "pwO6QyAnEgA5",
        "outputId": "1b630b0a-08a1-4d4f-fabc-38dcdaa2075a"
      },
      "outputs": [
        {
          "output_type": "stream",
          "name": "stdout",
          "text": [
            "Inside in global namespace: 100\n",
            "Inside in local namespace: 10\n",
            "Inside in global namespace: 100\n",
            "Inside in local namespace: 10\n",
            "Inside in local namespace: 20\n"
          ]
        }
      ],
      "source": [
        "# namespace and scope\n",
        "\n",
        "a_in_global_namespace = 100\n",
        "\n",
        "def display_in_global_namespace():\n",
        "  a_in_local_namespace = 10\n",
        "  print(f\"Inside in global namespace: {a_in_global_namespace}\")\n",
        "  print(f\"Inside in local namespace: {a_in_local_namespace}\")\n",
        "  \n",
        "  def display_in_local_namespace():\n",
        "    a_in_nested_local_namespace = 20\n",
        "    print(f\"Inside in global namespace: {a_in_global_namespace}\")\n",
        "    print(f\"Inside in local namespace: {a_in_local_namespace}\")\n",
        "    print(f\"Inside in local namespace: {a_in_nested_local_namespace}\")\n",
        "\n",
        "  display_in_local_namespace()\n",
        "\n",
        "\n",
        "\n",
        "display_in_global_namespace()\n",
        "\n",
        "\n"
      ]
    },
    {
      "cell_type": "code",
      "source": [
        "a_in_global_namespace = 100\n",
        "\n",
        "a_in_global_namespace = 200\n",
        "\n",
        "def display_in_global_namespace():\n",
        "  a_in_local_namespace = 10\n",
        "  a_in_local_namespace = 100\n",
        "  print(f\"Inside in global namespace: {a_in_global_namespace}\")\n",
        "  print(f\"Inside in local namespace: {a_in_local_namespace}\")\n",
        "  \n",
        "  def display_in_local_namespace():\n",
        "    a_in_nested_local_namespace = 20\n",
        "    a_in_nested_local_namespace = 2\n",
        "    print(f\"Inside in global namespace: {a_in_global_namespace}\")\n",
        "    print(f\"Inside in local namespace: {a_in_local_namespace}\")\n",
        "    print(f\"Inside in local namespace: {a_in_nested_local_namespace}\")\n",
        "\n",
        "  display_in_local_namespace()\n",
        "\n",
        "\n",
        "\n",
        "display_in_global_namespace()"
      ],
      "metadata": {
        "colab": {
          "base_uri": "https://localhost:8080/"
        },
        "id": "VPE8P7N3JqcF",
        "outputId": "8b30d88e-55c0-439a-d6d4-1e537e567f58"
      },
      "execution_count": null,
      "outputs": [
        {
          "output_type": "stream",
          "name": "stdout",
          "text": [
            "Inside in global namespace: 200\n",
            "Inside in local namespace: 100\n",
            "Inside in global namespace: 200\n",
            "Inside in local namespace: 100\n",
            "Inside in local namespace: 2\n"
          ]
        }
      ]
    }
  ]
}