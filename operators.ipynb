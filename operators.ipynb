{
  "nbformat": 4,
  "nbformat_minor": 0,
  "metadata": {
    "colab": {
      "provenance": [],
      "collapsed_sections": [],
      "authorship_tag": "ABX9TyOrP6+fNW95wEFq6oexo2G7",
      "include_colab_link": true
    },
    "kernelspec": {
      "name": "python3",
      "display_name": "Python 3"
    },
    "language_info": {
      "name": "python"
    }
  },
  "cells": [
    {
      "cell_type": "markdown",
      "metadata": {
        "id": "view-in-github",
        "colab_type": "text"
      },
      "source": [
        "<a href=\"https://colab.research.google.com/github/sanjibsinha/python-primer/blob/type/operators.ipynb\" target=\"_parent\"><img src=\"https://colab.research.google.com/assets/colab-badge.svg\" alt=\"Open In Colab\"/></a>"
      ]
    },
    {
      "cell_type": "code",
      "execution_count": 1,
      "metadata": {
        "colab": {
          "base_uri": "https://localhost:8080/"
        },
        "id": "jadGhYVdqJxF",
        "outputId": "8fe63ebd-6513-44e3-cb8f-6c2e4487763d"
      },
      "outputs": [
        {
          "output_type": "stream",
          "name": "stdout",
          "text": [
            "first > second is False\n",
            "first < second is True\n",
            "first == second is False\n",
            "first != second is True\n",
            "first >= second is False\n",
            "first <= second is True\n"
          ]
        }
      ],
      "source": [
        "first = 1\n",
        "second = 2\n",
        "\n",
        "# Output: first > second is False\n",
        "print('first > second is',first>second)\n",
        "\n",
        "# Output: first < second is True\n",
        "print('first < second is',first<second)\n",
        "\n",
        "# Output: first == second is False\n",
        "print('first == second is',first==second)\n",
        "\n",
        "# Output: first != second is True\n",
        "print('first != second is',first!=second)\n",
        "\n",
        "# Output: first >= second is False\n",
        "print('first >= second is',first>=second)\n",
        "\n",
        "# Output: first <= second is True\n",
        "print('first <= second is',first<=second)"
      ]
    },
    {
      "cell_type": "code",
      "source": [
        "true = True\n",
        "false = False\n",
        "\n",
        "print(f'true and false is {true and false}')\n",
        "\n",
        "print(f'true or false is {true or false}')\n",
        "\n",
        "print(f'not true is {not true}')"
      ],
      "metadata": {
        "colab": {
          "base_uri": "https://localhost:8080/"
        },
        "id": "agnPslAYrItP",
        "outputId": "4f6ee741-c072-411b-ad1c-9e3ddb858b0a"
      },
      "execution_count": 4,
      "outputs": [
        {
          "output_type": "stream",
          "name": "stdout",
          "text": [
            "true and false is False\n",
            "true or false is True\n",
            "not true is False\n"
          ]
        }
      ]
    },
    {
      "cell_type": "code",
      "source": [
        "first = 1\n",
        "second = 2\n",
        "third = 'John'\n",
        "fourth = 'John'\n",
        "fifth = [1,2,33, 68]\n",
        "sixth = [1,2,3]\n",
        "\n",
        "# Output: False\n",
        "print(first is not second)\n",
        "\n",
        "# Output: True\n",
        "print(third is fourth)\n",
        "\n",
        "# Output: False\n",
        "print(fifth is sixth)"
      ],
      "metadata": {
        "colab": {
          "base_uri": "https://localhost:8080/"
        },
        "id": "BvFGvS0GsALs",
        "outputId": "187e815d-d235-4c09-e7bc-e2262cf95ae0"
      },
      "execution_count": 6,
      "outputs": [
        {
          "output_type": "stream",
          "name": "stdout",
          "text": [
            "True\n",
            "True\n",
            "False\n"
          ]
        }
      ]
    }
  ]
}