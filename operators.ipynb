{
  "nbformat": 4,
  "nbformat_minor": 0,
  "metadata": {
    "colab": {
      "provenance": [],
      "collapsed_sections": [],
      "authorship_tag": "ABX9TyMWCAntHZnDwnXUv9o7y7Aq",
      "include_colab_link": true
    },
    "kernelspec": {
      "name": "python3",
      "display_name": "Python 3"
    },
    "language_info": {
      "name": "python"
    }
  },
  "cells": [
    {
      "cell_type": "markdown",
      "metadata": {
        "id": "view-in-github",
        "colab_type": "text"
      },
      "source": [
        "<a href=\"https://colab.research.google.com/github/sanjibsinha/python-primer/blob/type/operators.ipynb\" target=\"_parent\"><img src=\"https://colab.research.google.com/assets/colab-badge.svg\" alt=\"Open In Colab\"/></a>"
      ]
    },
    {
      "cell_type": "code",
      "execution_count": 1,
      "metadata": {
        "colab": {
          "base_uri": "https://localhost:8080/"
        },
        "id": "jadGhYVdqJxF",
        "outputId": "8fe63ebd-6513-44e3-cb8f-6c2e4487763d"
      },
      "outputs": [
        {
          "output_type": "stream",
          "name": "stdout",
          "text": [
            "first > second is False\n",
            "first < second is True\n",
            "first == second is False\n",
            "first != second is True\n",
            "first >= second is False\n",
            "first <= second is True\n"
          ]
        }
      ],
      "source": [
        "first = 1\n",
        "second = 2\n",
        "\n",
        "# Output: first > second is False\n",
        "print('first > second is',first>second)\n",
        "\n",
        "# Output: first < second is True\n",
        "print('first < second is',first<second)\n",
        "\n",
        "# Output: first == second is False\n",
        "print('first == second is',first==second)\n",
        "\n",
        "# Output: first != second is True\n",
        "print('first != second is',first!=second)\n",
        "\n",
        "# Output: first >= second is False\n",
        "print('first >= second is',first>=second)\n",
        "\n",
        "# Output: first <= second is True\n",
        "print('first <= second is',first<=second)"
      ]
    },
    {
      "cell_type": "code",
      "source": [
        "true = True\n",
        "false = False\n",
        "\n",
        "print(f'true and false is {true and false}')\n",
        "\n",
        "print(f'true or false is {true or false}')\n",
        "\n",
        "print(f'not true is {not true}')"
      ],
      "metadata": {
        "colab": {
          "base_uri": "https://localhost:8080/"
        },
        "id": "agnPslAYrItP",
        "outputId": "4f6ee741-c072-411b-ad1c-9e3ddb858b0a"
      },
      "execution_count": 4,
      "outputs": [
        {
          "output_type": "stream",
          "name": "stdout",
          "text": [
            "true and false is False\n",
            "true or false is True\n",
            "not true is False\n"
          ]
        }
      ]
    }
  ]
}