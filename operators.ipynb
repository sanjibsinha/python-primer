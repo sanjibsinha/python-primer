{
  "nbformat": 4,
  "nbformat_minor": 0,
  "metadata": {
    "colab": {
      "provenance": [],
      "collapsed_sections": [],
      "authorship_tag": "ABX9TyOfUEF+6SQv/x2LEvlswqso",
      "include_colab_link": true
    },
    "kernelspec": {
      "name": "python3",
      "display_name": "Python 3"
    },
    "language_info": {
      "name": "python"
    }
  },
  "cells": [
    {
      "cell_type": "markdown",
      "metadata": {
        "id": "view-in-github",
        "colab_type": "text"
      },
      "source": [
        "<a href=\"https://colab.research.google.com/github/sanjibsinha/python-primer/blob/type/operators.ipynb\" target=\"_parent\"><img src=\"https://colab.research.google.com/assets/colab-badge.svg\" alt=\"Open In Colab\"/></a>"
      ]
    },
    {
      "cell_type": "code",
      "execution_count": null,
      "metadata": {
        "id": "jadGhYVdqJxF"
      },
      "outputs": [],
      "source": [
        "first = 1\n",
        "second = 2\n",
        "\n",
        "# Output: first > second is False\n",
        "print('first > second is',first>second)\n",
        "\n",
        "# Output: first < second is True\n",
        "print('first < second is',first<second)\n",
        "\n",
        "# Output: first == second is False\n",
        "print('first == second is',first==second)\n",
        "\n",
        "# Output: first != second is True\n",
        "print('first != second is',first!=second)\n",
        "\n",
        "# Output: first >= second is False\n",
        "print('first >= second is',first>=second)\n",
        "\n",
        "# Output: first <= second is True\n",
        "print('first <= second is',first<=second)"
      ]
    }
  ]
}