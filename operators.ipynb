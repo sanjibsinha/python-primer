{
  "nbformat": 4,
  "nbformat_minor": 0,
  "metadata": {
    "colab": {
      "provenance": [],
      "collapsed_sections": [],
      "authorship_tag": "ABX9TyMqEFsEL+D4sBub2tlnJAaH",
      "include_colab_link": true
    },
    "kernelspec": {
      "name": "python3",
      "display_name": "Python 3"
    },
    "language_info": {
      "name": "python"
    }
  },
  "cells": [
    {
      "cell_type": "markdown",
      "metadata": {
        "id": "view-in-github",
        "colab_type": "text"
      },
      "source": [
        "<a href=\"https://colab.research.google.com/github/sanjibsinha/python-primer/blob/type/operators.ipynb\" target=\"_parent\"><img src=\"https://colab.research.google.com/assets/colab-badge.svg\" alt=\"Open In Colab\"/></a>"
      ]
    },
    {
      "cell_type": "code",
      "source": [
        "first = 989\n",
        "second = 456\n",
        "\n",
        "\n",
        "add = first + second\n",
        "\n",
        "subtract = first - second\n",
        "\n",
        "multiply = first * second\n",
        "\n",
        "\n",
        "division_one = first / second\n",
        "\n",
        "\n",
        "division_two = first // second\n",
        "\n",
        "\n",
        "modular = first % second\n",
        "\n",
        "\n",
        "power = first ** second\n",
        "\n",
        "\n",
        "print(add)\n",
        "print(subtract)\n",
        "print(multiply)\n",
        "print(division_one)\n",
        "print(division_two)\n",
        "print(modular)\n",
        "print(power)\n"
      ],
      "metadata": {
        "colab": {
          "base_uri": "https://localhost:8080/"
        },
        "id": "fs1GY0FUwEMP",
        "outputId": "ea6c0c9a-bac2-4d08-ece6-2efb5b7aae88"
      },
      "execution_count": null,
      "outputs": [
        {
          "output_type": "stream",
          "name": "stdout",
          "text": [
            "1445\n",
            "533\n",
            "450984\n",
            "2.168859649122807\n",
            "2\n",
            "77\n",
            "6449246376215082982539402970687909670095325611372845123844127982752274151695898177252955195967945981221813042671899247833442088732791270603746710961016584134191699091171175460450823610547693787350240619455929337082769717292639799800138493003473467337835483542778720479201140517585402308509689224324599692917921079255748677905911359770815574268603001630880294146184321052258410645941057809435219800421873232328816326237270903306466505523369690935347793746334354132618519561361276706943186952046542143393210388932682677795280143207216294608578797800557551680850972251333178463257388525198393233670102575328829089039651799997435226911640253919445290280693754472513055031521248112015531513166700403527209429917619712646215806692193308949051929420240960998906891701945795449575557676872900318012746015994330419915059725078714576671260301220883597816175682631214852187646035976200591604461688433536658615765829206202153902890662294957389906274835284217874380866889622712826869352216415218840046704475459622654322393280359805946664780893093597168871800817930561447915485621007207609942104117952510144618748080893178846131595951031518441169081367527116050155049049745466754489305826763586479446627578186122991557392624656692060138531221078447513491136888470270112415022903958978903116823556380387776106864540882930253473414586754906883238764407881972326766887830304543942561\n"
          ]
        }
      ]
    },
    {
      "cell_type": "code",
      "source": [
        "first = 1323\n",
        "second = 133\n",
        "\n",
        "print(first > second)\n",
        "\n",
        "print(first < second)\n",
        "\n",
        "print(first == second)\n",
        "\n",
        "print(first != second)\n",
        "\n",
        "print(first >= second)\n",
        "\n",
        "print(first <= second)\n"
      ],
      "metadata": {
        "colab": {
          "base_uri": "https://localhost:8080/"
        },
        "id": "OFHGPHVvxUip",
        "outputId": "a93b30c1-9fa1-4eb9-82ab-a7906fdb97ec"
      },
      "execution_count": null,
      "outputs": [
        {
          "output_type": "stream",
          "name": "stdout",
          "text": [
            "True\n",
            "False\n",
            "False\n",
            "True\n",
            "True\n",
            "False\n"
          ]
        }
      ]
    },
    {
      "cell_type": "code",
      "execution_count": null,
      "metadata": {
        "colab": {
          "base_uri": "https://localhost:8080/"
        },
        "id": "jadGhYVdqJxF",
        "outputId": "41e222db-74c8-4303-c7fb-f2a919828bc9"
      },
      "outputs": [
        {
          "output_type": "stream",
          "name": "stdout",
          "text": [
            "first > second is False\n",
            "first < second is True\n",
            "first == second is False\n",
            "first != second is True\n",
            "first >= second is False\n",
            "first <= second is True\n"
          ]
        }
      ],
      "source": [
        "first = 1\n",
        "second = 2\n",
        "\n",
        "\n",
        "print('first > second is',first > second)\n",
        "\n",
        "\n",
        "print('first < second is',first < second)\n",
        "\n",
        "\n",
        "print('first == second is',first == second)\n",
        "\n",
        "\n",
        "print('first != second is',first != second)\n",
        "\n",
        "\n",
        "print('first >= second is',first >= second)\n",
        "\n",
        "\n",
        "print('first <= second is',first <= second)"
      ]
    },
    {
      "cell_type": "code",
      "source": [
        "first = 1\n",
        "second = 2\n",
        "\n",
        "\n",
        "print(f'{first} > {second} is {first > second}')\n",
        "\n",
        "\n",
        "print(f'{first} < {second} is {first < second}')\n",
        "\n",
        "\n",
        "print(f'{first} == {second} is {first == second}')\n",
        "\n",
        "print(f'{first} != {second} is {first != second}')\n",
        "\n",
        "\n",
        "print(f'{first} >= {second} is {first >= second}')\n",
        "\n",
        "\n",
        "print(f'{first} <= {second} is {first <= second}')"
      ],
      "metadata": {
        "colab": {
          "base_uri": "https://localhost:8080/"
        },
        "id": "nIiSUdm566LE",
        "outputId": "0f9aee99-59cc-4c3a-e71d-145d4299b4fb"
      },
      "execution_count": 2,
      "outputs": [
        {
          "output_type": "stream",
          "name": "stdout",
          "text": [
            "1 > 2 is False\n",
            "1 < 2 is True\n",
            "1 == 2 is False\n",
            "1 != 2 is True\n",
            "1 >= 2 is False\n",
            "1 <= 2 is True\n"
          ]
        }
      ]
    },
    {
      "cell_type": "code",
      "source": [
        "true = True\n",
        "false = False\n",
        "\n",
        "print(f'true and false is {true and false}')\n",
        "\n",
        "print(f'true or false is {true or false}')\n",
        "\n",
        "print(f'not true is {not true}')"
      ],
      "metadata": {
        "colab": {
          "base_uri": "https://localhost:8080/"
        },
        "id": "agnPslAYrItP",
        "outputId": "4f6ee741-c072-411b-ad1c-9e3ddb858b0a"
      },
      "execution_count": null,
      "outputs": [
        {
          "output_type": "stream",
          "name": "stdout",
          "text": [
            "true and false is False\n",
            "true or false is True\n",
            "not true is False\n"
          ]
        }
      ]
    },
    {
      "cell_type": "code",
      "source": [
        "first = 1\n",
        "second = 2\n",
        "third = 'John'\n",
        "fourth = 'John'\n",
        "fifth = [1,2,33, 68]\n",
        "sixth = [1,2,3]\n",
        "\n",
        "\n",
        "print(first is not second)\n",
        "\n",
        "\n",
        "print(third is fourth)\n",
        "\n",
        "# \n",
        "print(fifth is sixth)"
      ],
      "metadata": {
        "colab": {
          "base_uri": "https://localhost:8080/"
        },
        "id": "BvFGvS0GsALs",
        "outputId": "187e815d-d235-4c09-e7bc-e2262cf95ae0"
      },
      "execution_count": null,
      "outputs": [
        {
          "output_type": "stream",
          "name": "stdout",
          "text": [
            "True\n",
            "True\n",
            "False\n"
          ]
        }
      ]
    }
  ]
}