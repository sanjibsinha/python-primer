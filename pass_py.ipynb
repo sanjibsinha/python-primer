{
  "nbformat": 4,
  "nbformat_minor": 0,
  "metadata": {
    "colab": {
      "name": "pass-py.ipynb",
      "provenance": [],
      "collapsed_sections": [],
      "authorship_tag": "ABX9TyMliAvn22rdP4A5MiE/kYSJ",
      "include_colab_link": true
    },
    "kernelspec": {
      "name": "python3",
      "display_name": "Python 3"
    },
    "language_info": {
      "name": "python"
    }
  },
  "cells": [
    {
      "cell_type": "markdown",
      "metadata": {
        "id": "view-in-github",
        "colab_type": "text"
      },
      "source": [
        "<a href=\"https://colab.research.google.com/github/sanjibsinha/python-primer/blob/type/pass_py.ipynb\" target=\"_parent\"><img src=\"https://colab.research.google.com/assets/colab-badge.svg\" alt=\"Open In Colab\"/></a>"
      ]
    },
    {
      "cell_type": "code",
      "execution_count": 11,
      "metadata": {
        "colab": {
          "base_uri": "https://localhost:8080/"
        },
        "id": "LNvNJTgdpQI-",
        "outputId": "468d5da1-ba07-40bd-e8e5-90fe0e9a9682"
      },
      "outputs": [
        {
          "output_type": "stream",
          "name": "stdout",
          "text": [
            "Noting will happen! We've exited the system.\n"
          ]
        }
      ],
      "source": [
        "import sys\n",
        "\n",
        "while False:\n",
        "  pass\n",
        "  sys.exit(0)\n",
        "\n",
        "print('Noting will happen! We\\'ve exited the system.')"
      ]
    },
    {
      "cell_type": "code",
      "source": [
        "class EmptyClass:\n",
        "  pass\n",
        "\n",
        "e = EmptyClass\n",
        "print(e)"
      ],
      "metadata": {
        "colab": {
          "base_uri": "https://localhost:8080/"
        },
        "id": "CUGkaIK7renE",
        "outputId": "cc0af29d-ab66-41f7-ab2e-aacd81e42382"
      },
      "execution_count": 13,
      "outputs": [
        {
          "output_type": "stream",
          "name": "stdout",
          "text": [
            "<class '__main__.EmptyClass'>\n"
          ]
        }
      ]
    },
    {
      "cell_type": "code",
      "source": [
        "def getParam(param):\n",
        "  pass\n",
        "\n",
        "print(getParam('Parameter'))"
      ],
      "metadata": {
        "colab": {
          "base_uri": "https://localhost:8080/"
        },
        "id": "HIzyXncsrv9i",
        "outputId": "5655cfb7-31ac-4c04-bead-7764f4927ac0"
      },
      "execution_count": 15,
      "outputs": [
        {
          "output_type": "stream",
          "name": "stdout",
          "text": [
            "None\n"
          ]
        }
      ]
    }
  ]
}