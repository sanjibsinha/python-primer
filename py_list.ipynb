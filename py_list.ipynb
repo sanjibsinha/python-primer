{
  "nbformat": 4,
  "nbformat_minor": 0,
  "metadata": {
    "colab": {
      "name": "py-list.ipynb",
      "provenance": [],
      "collapsed_sections": [],
      "authorship_tag": "ABX9TyMwgHEDTp84FgMNUGEuokBj",
      "include_colab_link": true
    },
    "kernelspec": {
      "name": "python3",
      "display_name": "Python 3"
    },
    "language_info": {
      "name": "python"
    }
  },
  "cells": [
    {
      "cell_type": "markdown",
      "metadata": {
        "id": "view-in-github",
        "colab_type": "text"
      },
      "source": [
        "<a href=\"https://colab.research.google.com/github/sanjibsinha/python-primer/blob/type/py_list.ipynb\" target=\"_parent\"><img src=\"https://colab.research.google.com/assets/colab-badge.svg\" alt=\"Open In Colab\"/></a>"
      ]
    },
    {
      "cell_type": "code",
      "execution_count": 23,
      "metadata": {
        "colab": {
          "base_uri": "https://localhost:8080/"
        },
        "id": "LPNRNo-VSOKr",
        "outputId": "17495fe5-52c9-4ddd-d144-23f36ca31270"
      },
      "outputs": [
        {
          "output_type": "stream",
          "name": "stdout",
          "text": [
            "[1, 3, 16, 125]\n",
            "[8, 9, 1024, 1]\n"
          ]
        }
      ],
      "source": [
        "list_of_powers_in_asc = [2**0, 3**1, 4**2, 5**3]\n",
        "print(list_of_powers_in_asc)\n",
        "\n",
        "list_of_powers_in_dsc = [2**3, 3**2, 4**5, 5**0]\n",
        "print(list_of_powers_in_dsc)"
      ]
    },
    {
      "cell_type": "code",
      "source": [
        "# rectifying the wrong order\n",
        "list_of_powers_in_dsc = [2**3, 3**2, 4**5, 5**0]\n",
        "list_of_powers_in_dsc[2] = 4**1\n",
        "print(list_of_powers_in_dsc)"
      ],
      "metadata": {
        "colab": {
          "base_uri": "https://localhost:8080/"
        },
        "id": "aAgZUuSdUApz",
        "outputId": "df335ea9-4d3e-415b-fd92-76fae5c058b7"
      },
      "execution_count": 7,
      "outputs": [
        {
          "output_type": "stream",
          "name": "stdout",
          "text": [
            "[8, 9, 4, 1]\n"
          ]
        }
      ]
    },
    {
      "cell_type": "code",
      "source": [
        "print(list_of_powers_in_dsc[-1])"
      ],
      "metadata": {
        "colab": {
          "base_uri": "https://localhost:8080/"
        },
        "id": "hEGaJbmiUZbq",
        "outputId": "a9ab82f1-705e-472c-d30d-e4cbc9a704dd"
      },
      "execution_count": 8,
      "outputs": [
        {
          "output_type": "stream",
          "name": "stdout",
          "text": [
            "1\n"
          ]
        }
      ]
    },
    {
      "cell_type": "code",
      "source": [
        "print(list_of_powers_in_dsc[-3:])"
      ],
      "metadata": {
        "colab": {
          "base_uri": "https://localhost:8080/"
        },
        "id": "GGe1rt0WU1Xk",
        "outputId": "26186032-b256-4970-82a6-6117800915a0"
      },
      "execution_count": 10,
      "outputs": [
        {
          "output_type": "stream",
          "name": "stdout",
          "text": [
            "[9, 4, 1]\n"
          ]
        }
      ]
    },
    {
      "cell_type": "code",
      "source": [
        "print(list_of_powers_in_dsc[:-1])"
      ],
      "metadata": {
        "colab": {
          "base_uri": "https://localhost:8080/"
        },
        "id": "iTo5UuBlVEDd",
        "outputId": "f2404f61-0b3c-4a50-d95f-c45ec77c7a4b"
      },
      "execution_count": 12,
      "outputs": [
        {
          "output_type": "stream",
          "name": "stdout",
          "text": [
            "[8, 9, 4]\n"
          ]
        }
      ]
    },
    {
      "cell_type": "code",
      "source": [
        "list_of_powers_in_asc = [2**0, 3**1, 4**2, 5**3]\n",
        "print(list_of_powers_in_asc)"
      ],
      "metadata": {
        "colab": {
          "base_uri": "https://localhost:8080/"
        },
        "id": "R-yzup9pVaYB",
        "outputId": "79d41941-1d7d-4caf-b7af-937ef84df141"
      },
      "execution_count": 24,
      "outputs": [
        {
          "output_type": "stream",
          "name": "stdout",
          "text": [
            "[1, 3, 16, 125]\n"
          ]
        }
      ]
    },
    {
      "cell_type": "code",
      "source": [
        "list_of_powers_in_asc = [2**0, 3**1, 4**2, 5**3]\n",
        "list_of_powers_in_asc.append(6**4)\n",
        "\n",
        "print(list_of_powers_in_asc)"
      ],
      "metadata": {
        "colab": {
          "base_uri": "https://localhost:8080/"
        },
        "id": "I7XSakwxVs3P",
        "outputId": "269973ab-4259-4b21-9d99-276f41b2e891"
      },
      "execution_count": 30,
      "outputs": [
        {
          "output_type": "stream",
          "name": "stdout",
          "text": [
            "[1, 3, 16, 125, 1296]\n"
          ]
        }
      ]
    },
    {
      "cell_type": "code",
      "source": [
        "list_of_powers_in_asc = [2**0, 3**1, 4**2, 5**3]\n",
        "list_of_powers_in_asc.append(6**4)\n",
        "list_of_powers_in_asc.append(7**5)\n",
        "print(list_of_powers_in_asc)"
      ],
      "metadata": {
        "colab": {
          "base_uri": "https://localhost:8080/"
        },
        "id": "xWlSaVqxbBLw",
        "outputId": "555cb555-0230-47c3-bc80-ab6d6d7b1e7b"
      },
      "execution_count": 34,
      "outputs": [
        {
          "output_type": "stream",
          "name": "stdout",
          "text": [
            "[1, 3, 16, 125, 1296, 16807]\n"
          ]
        }
      ]
    },
    {
      "cell_type": "code",
      "source": [
        "list_of_powers_in_asc[1:3] = [] # 1 inclusive, 3 is not, upto 2\n",
        "print(list_of_powers_in_asc)"
      ],
      "metadata": {
        "colab": {
          "base_uri": "https://localhost:8080/"
        },
        "id": "lGI8vvUabjs1",
        "outputId": "8f6b4667-7842-44f5-d324-bd89df69072a"
      },
      "execution_count": 35,
      "outputs": [
        {
          "output_type": "stream",
          "name": "stdout",
          "text": [
            "[1, 125, 1296, 16807]\n"
          ]
        }
      ]
    },
    {
      "cell_type": "code",
      "source": [
        "list_of_powers_in_asc = [2**0, 3**1, 4**2, 5**3]\n",
        "print(list_of_powers_in_asc)\n",
        "\n",
        "list_of_powers_in_dsc = [2**3, 3**2, 4**1, 5**0]\n",
        "print(list_of_powers_in_dsc)\n",
        "\n",
        "nested_list = [list_of_powers_in_asc, list_of_powers_in_dsc]\n",
        "print(nested_list)\n",
        "nested_list[0][2]"
      ],
      "metadata": {
        "colab": {
          "base_uri": "https://localhost:8080/"
        },
        "id": "na90j551cB7A",
        "outputId": "0ed9e5dc-1481-42d6-9df3-7ee28000fd24"
      },
      "execution_count": 40,
      "outputs": [
        {
          "output_type": "stream",
          "name": "stdout",
          "text": [
            "[1, 3, 16, 125]\n",
            "[8, 9, 4, 1]\n",
            "[[1, 3, 16, 125], [8, 9, 4, 1]]\n"
          ]
        },
        {
          "output_type": "execute_result",
          "data": {
            "text/plain": [
              "16"
            ]
          },
          "metadata": {},
          "execution_count": 40
        }
      ]
    },
    {
      "cell_type": "code",
      "source": [
        "nested_list[1][2]"
      ],
      "metadata": {
        "colab": {
          "base_uri": "https://localhost:8080/"
        },
        "id": "Q2UL09nWcSZo",
        "outputId": "e9253ba7-7bac-4b20-ac17-d44989519e9b"
      },
      "execution_count": 37,
      "outputs": [
        {
          "output_type": "execute_result",
          "data": {
            "text/plain": [
              "1024"
            ]
          },
          "metadata": {},
          "execution_count": 37
        }
      ]
    }
  ]
}