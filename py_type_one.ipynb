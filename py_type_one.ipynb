{
  "nbformat": 4,
  "nbformat_minor": 0,
  "metadata": {
    "colab": {
      "name": "py-type-one.ipynb",
      "provenance": [],
      "collapsed_sections": [],
      "authorship_tag": "ABX9TyPVSGD0+epqWImhFZGaN9fG",
      "include_colab_link": true
    },
    "kernelspec": {
      "name": "python3",
      "display_name": "Python 3"
    },
    "language_info": {
      "name": "python"
    }
  },
  "cells": [
    {
      "cell_type": "markdown",
      "metadata": {
        "id": "view-in-github",
        "colab_type": "text"
      },
      "source": [
        "<a href=\"https://colab.research.google.com/github/sanjibsinha/python-primer/blob/type/py_type_one.ipynb\" target=\"_parent\"><img src=\"https://colab.research.google.com/assets/colab-badge.svg\" alt=\"Open In Colab\"/></a>"
      ]
    },
    {
      "cell_type": "code",
      "execution_count": 7,
      "metadata": {
        "colab": {
          "base_uri": "https://localhost:8080/"
        },
        "id": "yzcVs29TdN2n",
        "outputId": "d710917b-7c7c-4b35-aa79-184ab902aa35"
      },
      "outputs": [
        {
          "output_type": "stream",
          "name": "stdout",
          "text": [
            "3\n",
            "3\n"
          ]
        }
      ],
      "source": [
        "str_int = {'one': 1, 'two': 2}\n",
        "int_int = {1: 1, 2: 2}\n",
        "\n",
        "\n",
        "def sum_dict(var: dict):\n",
        "  return sum(var[key] for key in var.keys())\n",
        "\n",
        "print(sum_dict(str_int))\n",
        "print(sum_dict(int_int))\n"
      ]
    }
  ]
}