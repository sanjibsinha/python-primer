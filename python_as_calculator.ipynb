{
  "nbformat": 4,
  "nbformat_minor": 0,
  "metadata": {
    "colab": {
      "name": "python-as-calculator.ipynb",
      "provenance": [],
      "authorship_tag": "ABX9TyPvrItxobmjG02uMvinBn1E",
      "include_colab_link": true
    },
    "kernelspec": {
      "name": "python3",
      "display_name": "Python 3"
    },
    "language_info": {
      "name": "python"
    }
  },
  "cells": [
    {
      "cell_type": "markdown",
      "metadata": {
        "id": "view-in-github",
        "colab_type": "text"
      },
      "source": [
        "<a href=\"https://colab.research.google.com/github/sanjibsinha/python-primer/blob/calculator/python_as_calculator.ipynb\" target=\"_parent\"><img src=\"https://colab.research.google.com/assets/colab-badge.svg\" alt=\"Open In Colab\"/></a>"
      ]
    },
    {
      "cell_type": "code",
      "execution_count": 3,
      "metadata": {
        "colab": {
          "base_uri": "https://localhost:8080/"
        },
        "id": "QLuUdGC8Akr0",
        "outputId": "2bb95fec-e7fb-44a4-8ea0-d2d8e8961b92"
      },
      "outputs": [
        {
          "output_type": "stream",
          "name": "stdout",
          "text": [
            "91\n",
            "-574\n",
            "593.5714285714286\n"
          ]
        }
      ],
      "source": [
        "x = 2 + 89\n",
        "y = 50 - 8 * 78\n",
        "# PEMDAS\n",
        "\n",
        "z = (25 + 564) + 4**2 / 56 * 23 - 2\n",
        "\n",
        "print(x)\n",
        "print(y)\n",
        "print(z)"
      ]
    },
    {
      "cell_type": "code",
      "source": [
        "x = 2 + 89\n",
        "y = 50 - 8 * 78\n",
        "m = 50 - 8\n",
        "n = m * 78\n",
        "\n",
        "# PEMDAS\n",
        "\n",
        "z = (25 + 564) + 4**2 / 56 * 23 - 2\n",
        "z1 = (25 + 564) \n",
        "z2 = 4**2\n",
        "z3 = 56\n",
        "z4 = z1 + z2 / z3 \n",
        "z5 = z4 * 23 - 2\n",
        "\n",
        "print(x)\n",
        "print(y)\n",
        "print(z)\n",
        "print(n)\n",
        "print(z5)"
      ],
      "metadata": {
        "colab": {
          "base_uri": "https://localhost:8080/"
        },
        "id": "wT9lf6R-CNfd",
        "outputId": "6d2eef6a-7654-4304-8de2-a23aadf903d9"
      },
      "execution_count": 5,
      "outputs": [
        {
          "output_type": "stream",
          "name": "stdout",
          "text": [
            "91\n",
            "-574\n",
            "593.5714285714286\n",
            "3276\n",
            "13551.57142857143\n"
          ]
        }
      ]
    }
  ]
}