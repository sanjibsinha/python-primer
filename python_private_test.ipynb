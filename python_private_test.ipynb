{
  "nbformat": 4,
  "nbformat_minor": 0,
  "metadata": {
    "colab": {
      "name": "python-private-test.ipynb",
      "provenance": [],
      "collapsed_sections": [],
      "authorship_tag": "ABX9TyMP3XVGjYx4kxeCdwsCL2Zx",
      "include_colab_link": true
    },
    "kernelspec": {
      "name": "python3",
      "display_name": "Python 3"
    },
    "language_info": {
      "name": "python"
    }
  },
  "cells": [
    {
      "cell_type": "markdown",
      "metadata": {
        "id": "view-in-github",
        "colab_type": "text"
      },
      "source": [
        "<a href=\"https://colab.research.google.com/github/sanjibsinha/python-primer/blob/main/python_private_test.ipynb\" target=\"_parent\"><img src=\"https://colab.research.google.com/assets/colab-badge.svg\" alt=\"Open In Colab\"/></a>"
      ]
    },
    {
      "cell_type": "code",
      "execution_count": 3,
      "metadata": {
        "colab": {
          "base_uri": "https://localhost:8080/"
        },
        "id": "ETnHq_gNKemN",
        "outputId": "ab75d406-484b-45af-9142-bc7b86b46162"
      },
      "outputs": [
        {
          "output_type": "stream",
          "name": "stdout",
          "text": [
            "Age of bear_one : 3.\n"
          ]
        }
      ],
      "source": [
        "class Bear:\n",
        "    _age = 3\n",
        "    \n",
        "    #__height = 9   \n",
        "    \n",
        "    \n",
        "#bear_one = Bear()\n",
        "#print(f'Age of bear_one : {bear_one._age}.')\n",
        "#print(f'Age of bear_one : {bear_one._age} and height: {bear_one.__height}')"
      ]
    },
    {
      "cell_type": "code",
      "source": [
        "class Bear:\n",
        "    _age = 3\n",
        "    \n",
        "    __height = 9   \n",
        "    \n",
        "    \n",
        "bear_one = Bear()\n",
        "\n",
        "print(f'Age of bear_one : {bear_one._age} and height: {bear_one.__height}')"
      ],
      "metadata": {
        "colab": {
          "base_uri": "https://localhost:8080/",
          "height": 200
        },
        "id": "Y6R_JVAtLUlY",
        "outputId": "1bdcdf3c-6396-4a62-c668-351df75d19cd"
      },
      "execution_count": 4,
      "outputs": [
        {
          "output_type": "error",
          "ename": "AttributeError",
          "evalue": "ignored",
          "traceback": [
            "\u001b[0;31m---------------------------------------------------------------------------\u001b[0m",
            "\u001b[0;31mAttributeError\u001b[0m                            Traceback (most recent call last)",
            "\u001b[0;32m<ipython-input-4-cd6748a10dca>\u001b[0m in \u001b[0;36m<module>\u001b[0;34m()\u001b[0m\n\u001b[1;32m      7\u001b[0m \u001b[0mbear_one\u001b[0m \u001b[0;34m=\u001b[0m \u001b[0mBear\u001b[0m\u001b[0;34m(\u001b[0m\u001b[0;34m)\u001b[0m\u001b[0;34m\u001b[0m\u001b[0;34m\u001b[0m\u001b[0m\n\u001b[1;32m      8\u001b[0m \u001b[0;34m\u001b[0m\u001b[0m\n\u001b[0;32m----> 9\u001b[0;31m \u001b[0mprint\u001b[0m\u001b[0;34m(\u001b[0m\u001b[0;34mf'Age of bear_one : {bear_one._age} and height: {bear_one.__height}'\u001b[0m\u001b[0;34m)\u001b[0m\u001b[0;34m\u001b[0m\u001b[0;34m\u001b[0m\u001b[0m\n\u001b[0m",
            "\u001b[0;31mAttributeError\u001b[0m: 'Bear' object has no attribute '__height'"
          ]
        }
      ]
    }
  ]
}