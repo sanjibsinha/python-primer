{
  "nbformat": 4,
  "nbformat_minor": 0,
  "metadata": {
    "colab": {
      "provenance": [],
      "collapsed_sections": [],
      "authorship_tag": "ABX9TyOk6gfJd4A9+ho0f1mTOLeM",
      "include_colab_link": true
    },
    "kernelspec": {
      "name": "python3",
      "display_name": "Python 3"
    },
    "language_info": {
      "name": "python"
    }
  },
  "cells": [
    {
      "cell_type": "markdown",
      "metadata": {
        "id": "view-in-github",
        "colab_type": "text"
      },
      "source": [
        "<a href=\"https://colab.research.google.com/github/sanjibsinha/python-primer/blob/type/statement_indentation.ipynb\" target=\"_parent\"><img src=\"https://colab.research.google.com/assets/colab-badge.svg\" alt=\"Open In Colab\"/></a>"
      ]
    },
    {
      "cell_type": "code",
      "execution_count": 1,
      "metadata": {
        "colab": {
          "base_uri": "https://localhost:8080/"
        },
        "id": "6x0PaoQQMv2A",
        "outputId": "d2d6c533-db5e-4237-e712-8374a34f45b9"
      },
      "outputs": [
        {
          "output_type": "stream",
          "name": "stdout",
          "text": [
            "450\n"
          ]
        }
      ],
      "source": [
        "addition = 10 + 20 + 30 + \\\n",
        "    40 + 50 + 60 + \\\n",
        "        70 + 80 + 90\n",
        "\n",
        "print(addition)"
      ]
    },
    {
      "cell_type": "code",
      "source": [
        "addition = (11 + 22 + 33 + \n",
        "            44 + 55 + 66 +\n",
        "            77 + 88 + 99)\n",
        "\n",
        "print(addition)"
      ],
      "metadata": {
        "colab": {
          "base_uri": "https://localhost:8080/"
        },
        "id": "caOfFm1oNX1d",
        "outputId": "fb3e8dcf-33f0-4d1e-e4d3-0a2a97eb5da2"
      },
      "execution_count": 3,
      "outputs": [
        {
          "output_type": "stream",
          "name": "stdout",
          "text": [
            "495\n"
          ]
        }
      ]
    }
  ]
}