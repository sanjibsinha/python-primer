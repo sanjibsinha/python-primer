{
  "nbformat": 4,
  "nbformat_minor": 0,
  "metadata": {
    "colab": {
      "name": "string-one.ipynb",
      "provenance": [],
      "collapsed_sections": [],
      "authorship_tag": "ABX9TyPVO5NU22C5L4wM5/c9jWPG",
      "include_colab_link": true
    },
    "kernelspec": {
      "name": "python3",
      "display_name": "Python 3"
    },
    "language_info": {
      "name": "python"
    }
  },
  "cells": [
    {
      "cell_type": "markdown",
      "metadata": {
        "id": "view-in-github",
        "colab_type": "text"
      },
      "source": [
        "<a href=\"https://colab.research.google.com/github/sanjibsinha/python-primer/blob/type/string_one.ipynb\" target=\"_parent\"><img src=\"https://colab.research.google.com/assets/colab-badge.svg\" alt=\"Open In Colab\"/></a>"
      ]
    },
    {
      "cell_type": "code",
      "execution_count": 1,
      "metadata": {
        "colab": {
          "base_uri": "https://localhost:8080/"
        },
        "id": "7v42pt7mKZPQ",
        "outputId": "8bd6837d-3232-45ba-b32d-7d9c168f6b07"
      },
      "outputs": [
        {
          "output_type": "stream",
          "name": "stdout",
          "text": [
            "Hello World\n",
            "Hello World\n"
          ]
        }
      ],
      "source": [
        "print('Hello World')\n",
        "print(\"Hello World\")"
      ]
    },
    {
      "cell_type": "code",
      "source": [
        "# we can use bakslash to escape single quote\n",
        "\n",
        "print('Hello World. \\'How are you?\\'')"
      ],
      "metadata": {
        "colab": {
          "base_uri": "https://localhost:8080/"
        },
        "id": "08h-UK80KsqD",
        "outputId": "ec13ff11-81de-4034-b670-f922f8d7ab38"
      },
      "execution_count": 3,
      "outputs": [
        {
          "output_type": "stream",
          "name": "stdout",
          "text": [
            "Hello World. 'How are you?'\n"
          ]
        }
      ]
    },
    {
      "cell_type": "code",
      "source": [
        "# or we can use double quotes\n",
        "print('Hello World. \"How are you?\"')"
      ],
      "metadata": {
        "colab": {
          "base_uri": "https://localhost:8080/"
        },
        "id": "SoB0_0gmLH1s",
        "outputId": "58cfcdc1-0606-4506-e5d2-c7b87fa87470"
      },
      "execution_count": 4,
      "outputs": [
        {
          "output_type": "stream",
          "name": "stdout",
          "text": [
            "Hello World. \"How are you?\"\n"
          ]
        }
      ]
    },
    {
      "cell_type": "code",
      "source": [
        "print(\"Hello World. 'How are you?'\")"
      ],
      "metadata": {
        "colab": {
          "base_uri": "https://localhost:8080/"
        },
        "id": "NSh-4M0LLTgD",
        "outputId": "ef7e1e3a-18ed-40e7-84a3-d9e0d1f9bb75"
      },
      "execution_count": 5,
      "outputs": [
        {
          "output_type": "stream",
          "name": "stdout",
          "text": [
            "Hello World. 'How are you?'\n"
          ]
        }
      ]
    },
    {
      "cell_type": "code",
      "source": [
        "\n",
        "concatenate = 'Hello ' + 'World.'\n",
        "print(concatenate)"
      ],
      "metadata": {
        "colab": {
          "base_uri": "https://localhost:8080/"
        },
        "id": "pjzrn9vGLZnM",
        "outputId": "bfa1e919-ea03-48f8-9117-c687873924b7"
      },
      "execution_count": 7,
      "outputs": [
        {
          "output_type": "stream",
          "name": "stdout",
          "text": [
            "Hello World.\n"
          ]
        }
      ]
    },
    {
      "cell_type": "code",
      "source": [
        "glue = 4 * 'Hello'\n",
        "print(glue)"
      ],
      "metadata": {
        "colab": {
          "base_uri": "https://localhost:8080/"
        },
        "id": "u16WHCYGLxRb",
        "outputId": "f9f7ed44-5d7e-41a9-84f3-5b0ac48eb6a4"
      },
      "execution_count": 9,
      "outputs": [
        {
          "output_type": "stream",
          "name": "stdout",
          "text": [
            "HelloHelloHelloHello\n"
          ]
        }
      ]
    },
    {
      "cell_type": "code",
      "source": [
        "aList = 'Python'\n",
        "print(aList[0])"
      ],
      "metadata": {
        "colab": {
          "base_uri": "https://localhost:8080/"
        },
        "id": "NHPGAUdXMXc1",
        "outputId": "5a24cdd2-532f-4acc-c70e-e74bbf63761f"
      },
      "execution_count": 10,
      "outputs": [
        {
          "output_type": "stream",
          "name": "stdout",
          "text": [
            "P\n"
          ]
        }
      ]
    }
  ]
}