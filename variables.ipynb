{
  "nbformat": 4,
  "nbformat_minor": 0,
  "metadata": {
    "colab": {
      "provenance": [],
      "collapsed_sections": [],
      "authorship_tag": "ABX9TyOIykulgKi0D4UvQsOgd1HS",
      "include_colab_link": true
    },
    "kernelspec": {
      "name": "python3",
      "display_name": "Python 3"
    },
    "language_info": {
      "name": "python"
    }
  },
  "cells": [
    {
      "cell_type": "markdown",
      "metadata": {
        "id": "view-in-github",
        "colab_type": "text"
      },
      "source": [
        "<a href=\"https://colab.research.google.com/github/sanjibsinha/python-primer/blob/type/variables.ipynb\" target=\"_parent\"><img src=\"https://colab.research.google.com/assets/colab-badge.svg\" alt=\"Open In Colab\"/></a>"
      ]
    },
    {
      "cell_type": "code",
      "execution_count": 1,
      "metadata": {
        "id": "xU9JfFB3xZwN"
      },
      "outputs": [],
      "source": [
        "my_name = 'John Smith' # snake case\n",
        "MY_NAME = 'John Smith' # macro case\n",
        "myName = 'John Smith' # camel case\n",
        "MyName = 'John Smith' # Cap words"
      ]
    },
    {
      "cell_type": "code",
      "source": [
        "print(my_name)\n",
        "print(MY_NAME)\n",
        "print(myName)\n",
        "print(MyName)"
      ],
      "metadata": {
        "colab": {
          "base_uri": "https://localhost:8080/"
        },
        "id": "z5djH34FyJM8",
        "outputId": "a65cb294-19d8-43c6-d170-73d7d135872e"
      },
      "execution_count": 2,
      "outputs": [
        {
          "output_type": "stream",
          "name": "stdout",
          "text": [
            "John Smith\n",
            "John Smith\n",
            "John Smith\n",
            "John Smith\n"
          ]
        }
      ]
    },
    {
      "cell_type": "code",
      "source": [
        "my_name = 'John Smith' # snake case\n",
        "\n",
        "print(my_name)\n",
        "\n",
        "my_name = 'Json Web' # snake case\n",
        "\n",
        "print(my_name)"
      ],
      "metadata": {
        "colab": {
          "base_uri": "https://localhost:8080/"
        },
        "id": "DJo54uahyjbf",
        "outputId": "1abc9074-cfe5-4fd6-e494-4070f48cb80d"
      },
      "execution_count": 3,
      "outputs": [
        {
          "output_type": "stream",
          "name": "stdout",
          "text": [
            "John Smith\n",
            "Json Web\n"
          ]
        }
      ]
    },
    {
      "cell_type": "code",
      "source": [
        "my_name, my_location = 'John', 'Moon'"
      ],
      "metadata": {
        "id": "aFSVm-EkzHUU"
      },
      "execution_count": 12,
      "outputs": []
    },
    {
      "cell_type": "code",
      "source": [
        "print(my_name)\n",
        "\n",
        "print(my_location)"
      ],
      "metadata": {
        "colab": {
          "base_uri": "https://localhost:8080/"
        },
        "id": "wrYrZwrRzpig",
        "outputId": "148c6dfd-1cab-4100-f246-07ec949e8bf0"
      },
      "execution_count": 14,
      "outputs": [
        {
          "output_type": "stream",
          "name": "stdout",
          "text": [
            "John\n",
            "Moon\n"
          ]
        }
      ]
    }
  ]
}