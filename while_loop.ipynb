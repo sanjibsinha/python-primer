{
  "nbformat": 4,
  "nbformat_minor": 0,
  "metadata": {
    "colab": {
      "provenance": [],
      "authorship_tag": "ABX9TyO6mt2RK+DQBNGm2uAeZHlQ",
      "include_colab_link": true
    },
    "kernelspec": {
      "name": "python3",
      "display_name": "Python 3"
    },
    "language_info": {
      "name": "python"
    }
  },
  "cells": [
    {
      "cell_type": "markdown",
      "metadata": {
        "id": "view-in-github",
        "colab_type": "text"
      },
      "source": [
        "<a href=\"https://colab.research.google.com/github/sanjibsinha/python-primer/blob/primer/while_loop.ipynb\" target=\"_parent\"><img src=\"https://colab.research.google.com/assets/colab-badge.svg\" alt=\"Open In Colab\"/></a>"
      ]
    },
    {
      "cell_type": "code",
      "execution_count": 8,
      "metadata": {
        "colab": {
          "base_uri": "https://localhost:8080/"
        },
        "id": "2XCT0XtgDYPl",
        "outputId": "a8e36d21-3b5c-463f-e3bb-6fd740cba7a8"
      },
      "outputs": [
        {
          "output_type": "stream",
          "name": "stdout",
          "text": [
            "1, 2, 3, 4, 5, 6, 7, 8, 9, 10, "
          ]
        }
      ],
      "source": [
        "# program to display numbers from 1 to 10\n",
        "\n",
        "# first we initialize the variable\n",
        "i = 1\n",
        "n = 10\n",
        "\n",
        "# while it loops from i = 1 to 10\n",
        "while i <= n:\n",
        "  print(i, end=', ')\n",
        "  i = i + 1"
      ]
    },
    {
      "cell_type": "code",
      "source": [
        "# first we initialize the variable\n",
        "i = 1\n",
        "n = 10\n",
        "\n",
        "# while it loops from i = 1 to 10\n",
        "while i <= n:\n",
        "  if i == n:\n",
        "    print(i, end='')\n",
        "    break\n",
        "  print(i, end=', ')\n",
        "  i = i + 1"
      ],
      "metadata": {
        "colab": {
          "base_uri": "https://localhost:8080/"
        },
        "id": "F_P81QTEE41s",
        "outputId": "498ed86d-b8e3-477a-f096-54471535cdc3"
      },
      "execution_count": 13,
      "outputs": [
        {
          "output_type": "stream",
          "name": "stdout",
          "text": [
            "1, 2, 3, 4, 5, 6, 7, 8, 9, 10"
          ]
        }
      ]
    },
    {
      "cell_type": "code",
      "source": [
        "i = 0\n",
        "\n",
        "while i < 5:\n",
        "  print('Inside loop', end=', ')   \n",
        "  \n",
        "  i = i + 1          \n",
        "else:\n",
        "  print('Came outside loop', end=', ')\n",
        "  print('now we are inside else statement', end='.')\n",
        "  "
      ],
      "metadata": {
        "colab": {
          "base_uri": "https://localhost:8080/"
        },
        "id": "1wrIzCfqDwzj",
        "outputId": "a6bd75a9-9952-43d3-90fa-2f6521d221a3"
      },
      "execution_count": 24,
      "outputs": [
        {
          "output_type": "stream",
          "name": "stdout",
          "text": [
            "Inside loop, Inside loop, Inside loop, Inside loop, Inside loop, Came outside loop, now we are inside else statement."
          ]
        }
      ]
    }
  ]
}